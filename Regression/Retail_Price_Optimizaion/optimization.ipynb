{
 "cells": [
  {
   "cell_type": "code",
   "execution_count": 9,
   "metadata": {},
   "outputs": [],
   "source": [
    "import pandas as pd\n",
    "import plotly.express as px\n",
    "import plotly.graph_objects as go\n",
    "import plotly.io as pio\n",
    "pio.templates.default = \"plotly_white\""
   ]
  },
  {
   "cell_type": "markdown",
   "metadata": {},
   "source": [
    "We'll use plotly for this project just because I want to learn something new. YAY!"
   ]
  },
  {
   "cell_type": "code",
   "execution_count": 10,
   "metadata": {},
   "outputs": [],
   "source": [
    "data = pd.read_csv('retail_price.csv')"
   ]
  },
  {
   "cell_type": "code",
   "execution_count": 11,
   "metadata": {},
   "outputs": [
    {
     "data": {
      "text/html": [
       "<div>\n",
       "<style scoped>\n",
       "    .dataframe tbody tr th:only-of-type {\n",
       "        vertical-align: middle;\n",
       "    }\n",
       "\n",
       "    .dataframe tbody tr th {\n",
       "        vertical-align: top;\n",
       "    }\n",
       "\n",
       "    .dataframe thead th {\n",
       "        text-align: right;\n",
       "    }\n",
       "</style>\n",
       "<table border=\"1\" class=\"dataframe\">\n",
       "  <thead>\n",
       "    <tr style=\"text-align: right;\">\n",
       "      <th></th>\n",
       "      <th>product_id</th>\n",
       "      <th>product_category_name</th>\n",
       "      <th>month_year</th>\n",
       "      <th>qty</th>\n",
       "      <th>total_price</th>\n",
       "      <th>freight_price</th>\n",
       "      <th>unit_price</th>\n",
       "      <th>product_name_lenght</th>\n",
       "      <th>product_description_lenght</th>\n",
       "      <th>product_photos_qty</th>\n",
       "      <th>...</th>\n",
       "      <th>comp_1</th>\n",
       "      <th>ps1</th>\n",
       "      <th>fp1</th>\n",
       "      <th>comp_2</th>\n",
       "      <th>ps2</th>\n",
       "      <th>fp2</th>\n",
       "      <th>comp_3</th>\n",
       "      <th>ps3</th>\n",
       "      <th>fp3</th>\n",
       "      <th>lag_price</th>\n",
       "    </tr>\n",
       "  </thead>\n",
       "  <tbody>\n",
       "    <tr>\n",
       "      <th>0</th>\n",
       "      <td>bed1</td>\n",
       "      <td>bed_bath_table</td>\n",
       "      <td>01-05-2017</td>\n",
       "      <td>1</td>\n",
       "      <td>45.95</td>\n",
       "      <td>15.100000</td>\n",
       "      <td>45.95</td>\n",
       "      <td>39</td>\n",
       "      <td>161</td>\n",
       "      <td>2</td>\n",
       "      <td>...</td>\n",
       "      <td>89.9</td>\n",
       "      <td>3.9</td>\n",
       "      <td>15.011897</td>\n",
       "      <td>215.000000</td>\n",
       "      <td>4.4</td>\n",
       "      <td>8.760000</td>\n",
       "      <td>45.95</td>\n",
       "      <td>4.0</td>\n",
       "      <td>15.100000</td>\n",
       "      <td>45.90</td>\n",
       "    </tr>\n",
       "    <tr>\n",
       "      <th>1</th>\n",
       "      <td>bed1</td>\n",
       "      <td>bed_bath_table</td>\n",
       "      <td>01-06-2017</td>\n",
       "      <td>3</td>\n",
       "      <td>137.85</td>\n",
       "      <td>12.933333</td>\n",
       "      <td>45.95</td>\n",
       "      <td>39</td>\n",
       "      <td>161</td>\n",
       "      <td>2</td>\n",
       "      <td>...</td>\n",
       "      <td>89.9</td>\n",
       "      <td>3.9</td>\n",
       "      <td>14.769216</td>\n",
       "      <td>209.000000</td>\n",
       "      <td>4.4</td>\n",
       "      <td>21.322000</td>\n",
       "      <td>45.95</td>\n",
       "      <td>4.0</td>\n",
       "      <td>12.933333</td>\n",
       "      <td>45.95</td>\n",
       "    </tr>\n",
       "    <tr>\n",
       "      <th>2</th>\n",
       "      <td>bed1</td>\n",
       "      <td>bed_bath_table</td>\n",
       "      <td>01-07-2017</td>\n",
       "      <td>6</td>\n",
       "      <td>275.70</td>\n",
       "      <td>14.840000</td>\n",
       "      <td>45.95</td>\n",
       "      <td>39</td>\n",
       "      <td>161</td>\n",
       "      <td>2</td>\n",
       "      <td>...</td>\n",
       "      <td>89.9</td>\n",
       "      <td>3.9</td>\n",
       "      <td>13.993833</td>\n",
       "      <td>205.000000</td>\n",
       "      <td>4.4</td>\n",
       "      <td>22.195932</td>\n",
       "      <td>45.95</td>\n",
       "      <td>4.0</td>\n",
       "      <td>14.840000</td>\n",
       "      <td>45.95</td>\n",
       "    </tr>\n",
       "    <tr>\n",
       "      <th>3</th>\n",
       "      <td>bed1</td>\n",
       "      <td>bed_bath_table</td>\n",
       "      <td>01-08-2017</td>\n",
       "      <td>4</td>\n",
       "      <td>183.80</td>\n",
       "      <td>14.287500</td>\n",
       "      <td>45.95</td>\n",
       "      <td>39</td>\n",
       "      <td>161</td>\n",
       "      <td>2</td>\n",
       "      <td>...</td>\n",
       "      <td>89.9</td>\n",
       "      <td>3.9</td>\n",
       "      <td>14.656757</td>\n",
       "      <td>199.509804</td>\n",
       "      <td>4.4</td>\n",
       "      <td>19.412885</td>\n",
       "      <td>45.95</td>\n",
       "      <td>4.0</td>\n",
       "      <td>14.287500</td>\n",
       "      <td>45.95</td>\n",
       "    </tr>\n",
       "    <tr>\n",
       "      <th>4</th>\n",
       "      <td>bed1</td>\n",
       "      <td>bed_bath_table</td>\n",
       "      <td>01-09-2017</td>\n",
       "      <td>2</td>\n",
       "      <td>91.90</td>\n",
       "      <td>15.100000</td>\n",
       "      <td>45.95</td>\n",
       "      <td>39</td>\n",
       "      <td>161</td>\n",
       "      <td>2</td>\n",
       "      <td>...</td>\n",
       "      <td>89.9</td>\n",
       "      <td>3.9</td>\n",
       "      <td>18.776522</td>\n",
       "      <td>163.398710</td>\n",
       "      <td>4.4</td>\n",
       "      <td>24.324687</td>\n",
       "      <td>45.95</td>\n",
       "      <td>4.0</td>\n",
       "      <td>15.100000</td>\n",
       "      <td>45.95</td>\n",
       "    </tr>\n",
       "  </tbody>\n",
       "</table>\n",
       "<p>5 rows × 30 columns</p>\n",
       "</div>"
      ],
      "text/plain": [
       "  product_id product_category_name  month_year  qty  total_price  \\\n",
       "0       bed1        bed_bath_table  01-05-2017    1        45.95   \n",
       "1       bed1        bed_bath_table  01-06-2017    3       137.85   \n",
       "2       bed1        bed_bath_table  01-07-2017    6       275.70   \n",
       "3       bed1        bed_bath_table  01-08-2017    4       183.80   \n",
       "4       bed1        bed_bath_table  01-09-2017    2        91.90   \n",
       "\n",
       "   freight_price  unit_price  product_name_lenght  product_description_lenght  \\\n",
       "0      15.100000       45.95                   39                         161   \n",
       "1      12.933333       45.95                   39                         161   \n",
       "2      14.840000       45.95                   39                         161   \n",
       "3      14.287500       45.95                   39                         161   \n",
       "4      15.100000       45.95                   39                         161   \n",
       "\n",
       "   product_photos_qty  ...  comp_1  ps1        fp1      comp_2  ps2  \\\n",
       "0                   2  ...    89.9  3.9  15.011897  215.000000  4.4   \n",
       "1                   2  ...    89.9  3.9  14.769216  209.000000  4.4   \n",
       "2                   2  ...    89.9  3.9  13.993833  205.000000  4.4   \n",
       "3                   2  ...    89.9  3.9  14.656757  199.509804  4.4   \n",
       "4                   2  ...    89.9  3.9  18.776522  163.398710  4.4   \n",
       "\n",
       "         fp2  comp_3  ps3        fp3  lag_price  \n",
       "0   8.760000   45.95  4.0  15.100000      45.90  \n",
       "1  21.322000   45.95  4.0  12.933333      45.95  \n",
       "2  22.195932   45.95  4.0  14.840000      45.95  \n",
       "3  19.412885   45.95  4.0  14.287500      45.95  \n",
       "4  24.324687   45.95  4.0  15.100000      45.95  \n",
       "\n",
       "[5 rows x 30 columns]"
      ]
     },
     "execution_count": 11,
     "metadata": {},
     "output_type": "execute_result"
    }
   ],
   "source": [
    "data.head()"
   ]
  },
  {
   "cell_type": "markdown",
   "metadata": {},
   "source": [
    "Also learned about this now and I absolutely love this, never knew I could transpose this when I have loads of features."
   ]
  },
  {
   "cell_type": "code",
   "execution_count": 12,
   "metadata": {},
   "outputs": [
    {
     "data": {
      "text/html": [
       "<div>\n",
       "<style scoped>\n",
       "    .dataframe tbody tr th:only-of-type {\n",
       "        vertical-align: middle;\n",
       "    }\n",
       "\n",
       "    .dataframe tbody tr th {\n",
       "        vertical-align: top;\n",
       "    }\n",
       "\n",
       "    .dataframe thead th {\n",
       "        text-align: right;\n",
       "    }\n",
       "</style>\n",
       "<table border=\"1\" class=\"dataframe\">\n",
       "  <thead>\n",
       "    <tr style=\"text-align: right;\">\n",
       "      <th></th>\n",
       "      <th>0</th>\n",
       "      <th>1</th>\n",
       "      <th>2</th>\n",
       "      <th>3</th>\n",
       "      <th>4</th>\n",
       "    </tr>\n",
       "  </thead>\n",
       "  <tbody>\n",
       "    <tr>\n",
       "      <th>product_id</th>\n",
       "      <td>bed1</td>\n",
       "      <td>bed1</td>\n",
       "      <td>bed1</td>\n",
       "      <td>bed1</td>\n",
       "      <td>bed1</td>\n",
       "    </tr>\n",
       "    <tr>\n",
       "      <th>product_category_name</th>\n",
       "      <td>bed_bath_table</td>\n",
       "      <td>bed_bath_table</td>\n",
       "      <td>bed_bath_table</td>\n",
       "      <td>bed_bath_table</td>\n",
       "      <td>bed_bath_table</td>\n",
       "    </tr>\n",
       "    <tr>\n",
       "      <th>month_year</th>\n",
       "      <td>01-05-2017</td>\n",
       "      <td>01-06-2017</td>\n",
       "      <td>01-07-2017</td>\n",
       "      <td>01-08-2017</td>\n",
       "      <td>01-09-2017</td>\n",
       "    </tr>\n",
       "    <tr>\n",
       "      <th>qty</th>\n",
       "      <td>1</td>\n",
       "      <td>3</td>\n",
       "      <td>6</td>\n",
       "      <td>4</td>\n",
       "      <td>2</td>\n",
       "    </tr>\n",
       "    <tr>\n",
       "      <th>total_price</th>\n",
       "      <td>45.95</td>\n",
       "      <td>137.85</td>\n",
       "      <td>275.7</td>\n",
       "      <td>183.8</td>\n",
       "      <td>91.9</td>\n",
       "    </tr>\n",
       "    <tr>\n",
       "      <th>freight_price</th>\n",
       "      <td>15.1</td>\n",
       "      <td>12.933333</td>\n",
       "      <td>14.84</td>\n",
       "      <td>14.2875</td>\n",
       "      <td>15.1</td>\n",
       "    </tr>\n",
       "    <tr>\n",
       "      <th>unit_price</th>\n",
       "      <td>45.95</td>\n",
       "      <td>45.95</td>\n",
       "      <td>45.95</td>\n",
       "      <td>45.95</td>\n",
       "      <td>45.95</td>\n",
       "    </tr>\n",
       "    <tr>\n",
       "      <th>product_name_lenght</th>\n",
       "      <td>39</td>\n",
       "      <td>39</td>\n",
       "      <td>39</td>\n",
       "      <td>39</td>\n",
       "      <td>39</td>\n",
       "    </tr>\n",
       "    <tr>\n",
       "      <th>product_description_lenght</th>\n",
       "      <td>161</td>\n",
       "      <td>161</td>\n",
       "      <td>161</td>\n",
       "      <td>161</td>\n",
       "      <td>161</td>\n",
       "    </tr>\n",
       "    <tr>\n",
       "      <th>product_photos_qty</th>\n",
       "      <td>2</td>\n",
       "      <td>2</td>\n",
       "      <td>2</td>\n",
       "      <td>2</td>\n",
       "      <td>2</td>\n",
       "    </tr>\n",
       "    <tr>\n",
       "      <th>product_weight_g</th>\n",
       "      <td>350</td>\n",
       "      <td>350</td>\n",
       "      <td>350</td>\n",
       "      <td>350</td>\n",
       "      <td>350</td>\n",
       "    </tr>\n",
       "    <tr>\n",
       "      <th>product_score</th>\n",
       "      <td>4.0</td>\n",
       "      <td>4.0</td>\n",
       "      <td>4.0</td>\n",
       "      <td>4.0</td>\n",
       "      <td>4.0</td>\n",
       "    </tr>\n",
       "    <tr>\n",
       "      <th>customers</th>\n",
       "      <td>57</td>\n",
       "      <td>61</td>\n",
       "      <td>123</td>\n",
       "      <td>90</td>\n",
       "      <td>54</td>\n",
       "    </tr>\n",
       "    <tr>\n",
       "      <th>weekday</th>\n",
       "      <td>23</td>\n",
       "      <td>22</td>\n",
       "      <td>21</td>\n",
       "      <td>23</td>\n",
       "      <td>21</td>\n",
       "    </tr>\n",
       "    <tr>\n",
       "      <th>weekend</th>\n",
       "      <td>8</td>\n",
       "      <td>8</td>\n",
       "      <td>10</td>\n",
       "      <td>8</td>\n",
       "      <td>9</td>\n",
       "    </tr>\n",
       "    <tr>\n",
       "      <th>holiday</th>\n",
       "      <td>1</td>\n",
       "      <td>1</td>\n",
       "      <td>1</td>\n",
       "      <td>1</td>\n",
       "      <td>1</td>\n",
       "    </tr>\n",
       "    <tr>\n",
       "      <th>month</th>\n",
       "      <td>5</td>\n",
       "      <td>6</td>\n",
       "      <td>7</td>\n",
       "      <td>8</td>\n",
       "      <td>9</td>\n",
       "    </tr>\n",
       "    <tr>\n",
       "      <th>year</th>\n",
       "      <td>2017</td>\n",
       "      <td>2017</td>\n",
       "      <td>2017</td>\n",
       "      <td>2017</td>\n",
       "      <td>2017</td>\n",
       "    </tr>\n",
       "    <tr>\n",
       "      <th>s</th>\n",
       "      <td>10.267394</td>\n",
       "      <td>6.503115</td>\n",
       "      <td>12.071651</td>\n",
       "      <td>9.293873</td>\n",
       "      <td>5.555556</td>\n",
       "    </tr>\n",
       "    <tr>\n",
       "      <th>volume</th>\n",
       "      <td>3800</td>\n",
       "      <td>3800</td>\n",
       "      <td>3800</td>\n",
       "      <td>3800</td>\n",
       "      <td>3800</td>\n",
       "    </tr>\n",
       "    <tr>\n",
       "      <th>comp_1</th>\n",
       "      <td>89.9</td>\n",
       "      <td>89.9</td>\n",
       "      <td>89.9</td>\n",
       "      <td>89.9</td>\n",
       "      <td>89.9</td>\n",
       "    </tr>\n",
       "    <tr>\n",
       "      <th>ps1</th>\n",
       "      <td>3.9</td>\n",
       "      <td>3.9</td>\n",
       "      <td>3.9</td>\n",
       "      <td>3.9</td>\n",
       "      <td>3.9</td>\n",
       "    </tr>\n",
       "    <tr>\n",
       "      <th>fp1</th>\n",
       "      <td>15.011897</td>\n",
       "      <td>14.769216</td>\n",
       "      <td>13.993833</td>\n",
       "      <td>14.656757</td>\n",
       "      <td>18.776522</td>\n",
       "    </tr>\n",
       "    <tr>\n",
       "      <th>comp_2</th>\n",
       "      <td>215.0</td>\n",
       "      <td>209.0</td>\n",
       "      <td>205.0</td>\n",
       "      <td>199.509804</td>\n",
       "      <td>163.39871</td>\n",
       "    </tr>\n",
       "    <tr>\n",
       "      <th>ps2</th>\n",
       "      <td>4.4</td>\n",
       "      <td>4.4</td>\n",
       "      <td>4.4</td>\n",
       "      <td>4.4</td>\n",
       "      <td>4.4</td>\n",
       "    </tr>\n",
       "    <tr>\n",
       "      <th>fp2</th>\n",
       "      <td>8.76</td>\n",
       "      <td>21.322</td>\n",
       "      <td>22.195932</td>\n",
       "      <td>19.412885</td>\n",
       "      <td>24.324687</td>\n",
       "    </tr>\n",
       "    <tr>\n",
       "      <th>comp_3</th>\n",
       "      <td>45.95</td>\n",
       "      <td>45.95</td>\n",
       "      <td>45.95</td>\n",
       "      <td>45.95</td>\n",
       "      <td>45.95</td>\n",
       "    </tr>\n",
       "    <tr>\n",
       "      <th>ps3</th>\n",
       "      <td>4.0</td>\n",
       "      <td>4.0</td>\n",
       "      <td>4.0</td>\n",
       "      <td>4.0</td>\n",
       "      <td>4.0</td>\n",
       "    </tr>\n",
       "    <tr>\n",
       "      <th>fp3</th>\n",
       "      <td>15.1</td>\n",
       "      <td>12.933333</td>\n",
       "      <td>14.84</td>\n",
       "      <td>14.2875</td>\n",
       "      <td>15.1</td>\n",
       "    </tr>\n",
       "    <tr>\n",
       "      <th>lag_price</th>\n",
       "      <td>45.9</td>\n",
       "      <td>45.95</td>\n",
       "      <td>45.95</td>\n",
       "      <td>45.95</td>\n",
       "      <td>45.95</td>\n",
       "    </tr>\n",
       "  </tbody>\n",
       "</table>\n",
       "</div>"
      ],
      "text/plain": [
       "                                         0               1               2  \\\n",
       "product_id                            bed1            bed1            bed1   \n",
       "product_category_name       bed_bath_table  bed_bath_table  bed_bath_table   \n",
       "month_year                      01-05-2017      01-06-2017      01-07-2017   \n",
       "qty                                      1               3               6   \n",
       "total_price                          45.95          137.85           275.7   \n",
       "freight_price                         15.1       12.933333           14.84   \n",
       "unit_price                           45.95           45.95           45.95   \n",
       "product_name_lenght                     39              39              39   \n",
       "product_description_lenght             161             161             161   \n",
       "product_photos_qty                       2               2               2   \n",
       "product_weight_g                       350             350             350   \n",
       "product_score                          4.0             4.0             4.0   \n",
       "customers                               57              61             123   \n",
       "weekday                                 23              22              21   \n",
       "weekend                                  8               8              10   \n",
       "holiday                                  1               1               1   \n",
       "month                                    5               6               7   \n",
       "year                                  2017            2017            2017   \n",
       "s                                10.267394        6.503115       12.071651   \n",
       "volume                                3800            3800            3800   \n",
       "comp_1                                89.9            89.9            89.9   \n",
       "ps1                                    3.9             3.9             3.9   \n",
       "fp1                              15.011897       14.769216       13.993833   \n",
       "comp_2                               215.0           209.0           205.0   \n",
       "ps2                                    4.4             4.4             4.4   \n",
       "fp2                                   8.76          21.322       22.195932   \n",
       "comp_3                               45.95           45.95           45.95   \n",
       "ps3                                    4.0             4.0             4.0   \n",
       "fp3                                   15.1       12.933333           14.84   \n",
       "lag_price                             45.9           45.95           45.95   \n",
       "\n",
       "                                         3               4  \n",
       "product_id                            bed1            bed1  \n",
       "product_category_name       bed_bath_table  bed_bath_table  \n",
       "month_year                      01-08-2017      01-09-2017  \n",
       "qty                                      4               2  \n",
       "total_price                          183.8            91.9  \n",
       "freight_price                      14.2875            15.1  \n",
       "unit_price                           45.95           45.95  \n",
       "product_name_lenght                     39              39  \n",
       "product_description_lenght             161             161  \n",
       "product_photos_qty                       2               2  \n",
       "product_weight_g                       350             350  \n",
       "product_score                          4.0             4.0  \n",
       "customers                               90              54  \n",
       "weekday                                 23              21  \n",
       "weekend                                  8               9  \n",
       "holiday                                  1               1  \n",
       "month                                    8               9  \n",
       "year                                  2017            2017  \n",
       "s                                 9.293873        5.555556  \n",
       "volume                                3800            3800  \n",
       "comp_1                                89.9            89.9  \n",
       "ps1                                    3.9             3.9  \n",
       "fp1                              14.656757       18.776522  \n",
       "comp_2                          199.509804       163.39871  \n",
       "ps2                                    4.4             4.4  \n",
       "fp2                              19.412885       24.324687  \n",
       "comp_3                               45.95           45.95  \n",
       "ps3                                    4.0             4.0  \n",
       "fp3                                14.2875            15.1  \n",
       "lag_price                            45.95           45.95  "
      ]
     },
     "execution_count": 12,
     "metadata": {},
     "output_type": "execute_result"
    }
   ],
   "source": [
    "data.head().T"
   ]
  },
  {
   "cell_type": "markdown",
   "metadata": {},
   "source": [
    "- Below are all the features in the data:\n",
    "\n",
    "    - product_id: A unique identifier for each product in the dataset.\n",
    "    - product_category_name: The name of the product category to which the product belongs.\n",
    "    - month_year: The month and year of the retail transaction or data recording.\n",
    "    - qty: The quantity of the product sold or purchased in a given transaction.\n",
    "    - total_price: The total price of the product, including any applicable taxes or discounts.\n",
    "    - freight_price: The cost of shipping or freight associated with the product.\n",
    "    - unit_price: The price of a single unit of the product.\n",
    "    - product_name_length: The length of the product name in terms of the number of characters.\n",
    "    - product_description_length: The length of the product description in terms of the number of characters.\n",
    "    - product_photos_qty: The number of photos available for the product in the dataset.\n",
    "    - product_weight_g: The weight of the product in grams.\n",
    "    - product_score: A score or rating associated with the product’s quality, popularity, or other relevant factors.\n",
    "    - customers: The number of customers who purchased the product in a given transaction.\n",
    "    - weekday: The day of the week on which the transaction occurred.\n",
    "    - weekend: A binary flag indicating whether the transaction occurred on a weekend (1) or not (0).\n",
    "    - holiday: A binary flag indicating whether the transaction occurred on a holiday (1) or not (0).\n",
    "    - month: The month in which the transaction occurred.\n",
    "    - year: The year in which the transaction occurred.\n",
    "    - s: the effect of seasonality\n",
    "    - comp_1, comp_2, comp_3: Competitor information or variables related to competitors’ prices, promotions, or other relevant factors.\n",
    "    - ps1, ps2, ps3: Product score or rating associated with competitors’ products.\n",
    "    - fp1, fp2, fp3: Freight or shipping cost associated with competitors’ products.\n"
   ]
  },
  {
   "cell_type": "code",
   "execution_count": 13,
   "metadata": {},
   "outputs": [
    {
     "data": {
      "text/plain": [
       "product_id                    0\n",
       "product_category_name         0\n",
       "month_year                    0\n",
       "qty                           0\n",
       "total_price                   0\n",
       "freight_price                 0\n",
       "unit_price                    0\n",
       "product_name_lenght           0\n",
       "product_description_lenght    0\n",
       "product_photos_qty            0\n",
       "product_weight_g              0\n",
       "product_score                 0\n",
       "customers                     0\n",
       "weekday                       0\n",
       "weekend                       0\n",
       "holiday                       0\n",
       "month                         0\n",
       "year                          0\n",
       "s                             0\n",
       "volume                        0\n",
       "comp_1                        0\n",
       "ps1                           0\n",
       "fp1                           0\n",
       "comp_2                        0\n",
       "ps2                           0\n",
       "fp2                           0\n",
       "comp_3                        0\n",
       "ps3                           0\n",
       "fp3                           0\n",
       "lag_price                     0\n",
       "dtype: int64"
      ]
     },
     "execution_count": 13,
     "metadata": {},
     "output_type": "execute_result"
    }
   ],
   "source": [
    "data.isnull().sum()"
   ]
  },
  {
   "cell_type": "markdown",
   "metadata": {},
   "source": [
    "No null values."
   ]
  },
  {
   "cell_type": "code",
   "execution_count": 14,
   "metadata": {},
   "outputs": [
    {
     "data": {
      "text/html": [
       "<div>\n",
       "<style scoped>\n",
       "    .dataframe tbody tr th:only-of-type {\n",
       "        vertical-align: middle;\n",
       "    }\n",
       "\n",
       "    .dataframe tbody tr th {\n",
       "        vertical-align: top;\n",
       "    }\n",
       "\n",
       "    .dataframe thead th {\n",
       "        text-align: right;\n",
       "    }\n",
       "</style>\n",
       "<table border=\"1\" class=\"dataframe\">\n",
       "  <thead>\n",
       "    <tr style=\"text-align: right;\">\n",
       "      <th></th>\n",
       "      <th>count</th>\n",
       "      <th>mean</th>\n",
       "      <th>std</th>\n",
       "      <th>min</th>\n",
       "      <th>25%</th>\n",
       "      <th>50%</th>\n",
       "      <th>75%</th>\n",
       "      <th>max</th>\n",
       "    </tr>\n",
       "  </thead>\n",
       "  <tbody>\n",
       "    <tr>\n",
       "      <th>qty</th>\n",
       "      <td>676.0</td>\n",
       "      <td>14.495562</td>\n",
       "      <td>15.443421</td>\n",
       "      <td>1.000000</td>\n",
       "      <td>4.000000</td>\n",
       "      <td>10.000000</td>\n",
       "      <td>18.000000</td>\n",
       "      <td>122.00</td>\n",
       "    </tr>\n",
       "    <tr>\n",
       "      <th>total_price</th>\n",
       "      <td>676.0</td>\n",
       "      <td>1422.708728</td>\n",
       "      <td>1700.123100</td>\n",
       "      <td>19.900000</td>\n",
       "      <td>333.700000</td>\n",
       "      <td>807.890000</td>\n",
       "      <td>1887.322500</td>\n",
       "      <td>12095.00</td>\n",
       "    </tr>\n",
       "    <tr>\n",
       "      <th>freight_price</th>\n",
       "      <td>676.0</td>\n",
       "      <td>20.682270</td>\n",
       "      <td>10.081817</td>\n",
       "      <td>0.000000</td>\n",
       "      <td>14.761912</td>\n",
       "      <td>17.518472</td>\n",
       "      <td>22.713558</td>\n",
       "      <td>79.76</td>\n",
       "    </tr>\n",
       "    <tr>\n",
       "      <th>unit_price</th>\n",
       "      <td>676.0</td>\n",
       "      <td>106.496800</td>\n",
       "      <td>76.182972</td>\n",
       "      <td>19.900000</td>\n",
       "      <td>53.900000</td>\n",
       "      <td>89.900000</td>\n",
       "      <td>129.990000</td>\n",
       "      <td>364.00</td>\n",
       "    </tr>\n",
       "    <tr>\n",
       "      <th>product_name_lenght</th>\n",
       "      <td>676.0</td>\n",
       "      <td>48.720414</td>\n",
       "      <td>9.420715</td>\n",
       "      <td>29.000000</td>\n",
       "      <td>40.000000</td>\n",
       "      <td>51.000000</td>\n",
       "      <td>57.000000</td>\n",
       "      <td>60.00</td>\n",
       "    </tr>\n",
       "    <tr>\n",
       "      <th>product_description_lenght</th>\n",
       "      <td>676.0</td>\n",
       "      <td>767.399408</td>\n",
       "      <td>655.205015</td>\n",
       "      <td>100.000000</td>\n",
       "      <td>339.000000</td>\n",
       "      <td>501.000000</td>\n",
       "      <td>903.000000</td>\n",
       "      <td>3006.00</td>\n",
       "    </tr>\n",
       "    <tr>\n",
       "      <th>product_photos_qty</th>\n",
       "      <td>676.0</td>\n",
       "      <td>1.994083</td>\n",
       "      <td>1.420473</td>\n",
       "      <td>1.000000</td>\n",
       "      <td>1.000000</td>\n",
       "      <td>1.500000</td>\n",
       "      <td>2.000000</td>\n",
       "      <td>8.00</td>\n",
       "    </tr>\n",
       "    <tr>\n",
       "      <th>product_weight_g</th>\n",
       "      <td>676.0</td>\n",
       "      <td>1847.498521</td>\n",
       "      <td>2274.808483</td>\n",
       "      <td>100.000000</td>\n",
       "      <td>348.000000</td>\n",
       "      <td>950.000000</td>\n",
       "      <td>1850.000000</td>\n",
       "      <td>9750.00</td>\n",
       "    </tr>\n",
       "    <tr>\n",
       "      <th>product_score</th>\n",
       "      <td>676.0</td>\n",
       "      <td>4.085503</td>\n",
       "      <td>0.232021</td>\n",
       "      <td>3.300000</td>\n",
       "      <td>3.900000</td>\n",
       "      <td>4.100000</td>\n",
       "      <td>4.200000</td>\n",
       "      <td>4.50</td>\n",
       "    </tr>\n",
       "    <tr>\n",
       "      <th>customers</th>\n",
       "      <td>676.0</td>\n",
       "      <td>81.028107</td>\n",
       "      <td>62.055560</td>\n",
       "      <td>1.000000</td>\n",
       "      <td>34.000000</td>\n",
       "      <td>62.000000</td>\n",
       "      <td>116.000000</td>\n",
       "      <td>339.00</td>\n",
       "    </tr>\n",
       "    <tr>\n",
       "      <th>weekday</th>\n",
       "      <td>676.0</td>\n",
       "      <td>21.773669</td>\n",
       "      <td>0.986104</td>\n",
       "      <td>20.000000</td>\n",
       "      <td>21.000000</td>\n",
       "      <td>22.000000</td>\n",
       "      <td>23.000000</td>\n",
       "      <td>23.00</td>\n",
       "    </tr>\n",
       "    <tr>\n",
       "      <th>weekend</th>\n",
       "      <td>676.0</td>\n",
       "      <td>8.658284</td>\n",
       "      <td>0.705600</td>\n",
       "      <td>8.000000</td>\n",
       "      <td>8.000000</td>\n",
       "      <td>9.000000</td>\n",
       "      <td>9.000000</td>\n",
       "      <td>10.00</td>\n",
       "    </tr>\n",
       "    <tr>\n",
       "      <th>holiday</th>\n",
       "      <td>676.0</td>\n",
       "      <td>1.494083</td>\n",
       "      <td>0.940430</td>\n",
       "      <td>0.000000</td>\n",
       "      <td>1.000000</td>\n",
       "      <td>1.000000</td>\n",
       "      <td>2.000000</td>\n",
       "      <td>4.00</td>\n",
       "    </tr>\n",
       "    <tr>\n",
       "      <th>month</th>\n",
       "      <td>676.0</td>\n",
       "      <td>6.192308</td>\n",
       "      <td>3.243455</td>\n",
       "      <td>1.000000</td>\n",
       "      <td>3.000000</td>\n",
       "      <td>6.000000</td>\n",
       "      <td>8.000000</td>\n",
       "      <td>12.00</td>\n",
       "    </tr>\n",
       "    <tr>\n",
       "      <th>year</th>\n",
       "      <td>676.0</td>\n",
       "      <td>2017.525148</td>\n",
       "      <td>0.499737</td>\n",
       "      <td>2017.000000</td>\n",
       "      <td>2017.000000</td>\n",
       "      <td>2018.000000</td>\n",
       "      <td>2018.000000</td>\n",
       "      <td>2018.00</td>\n",
       "    </tr>\n",
       "    <tr>\n",
       "      <th>s</th>\n",
       "      <td>676.0</td>\n",
       "      <td>14.644970</td>\n",
       "      <td>11.930276</td>\n",
       "      <td>0.484262</td>\n",
       "      <td>7.510204</td>\n",
       "      <td>11.316760</td>\n",
       "      <td>17.745704</td>\n",
       "      <td>100.00</td>\n",
       "    </tr>\n",
       "    <tr>\n",
       "      <th>volume</th>\n",
       "      <td>676.0</td>\n",
       "      <td>10664.627219</td>\n",
       "      <td>9172.801850</td>\n",
       "      <td>640.000000</td>\n",
       "      <td>3510.000000</td>\n",
       "      <td>8000.000000</td>\n",
       "      <td>15750.000000</td>\n",
       "      <td>32736.00</td>\n",
       "    </tr>\n",
       "    <tr>\n",
       "      <th>comp_1</th>\n",
       "      <td>676.0</td>\n",
       "      <td>79.452054</td>\n",
       "      <td>47.933358</td>\n",
       "      <td>19.900000</td>\n",
       "      <td>49.910000</td>\n",
       "      <td>69.900000</td>\n",
       "      <td>104.256549</td>\n",
       "      <td>349.90</td>\n",
       "    </tr>\n",
       "    <tr>\n",
       "      <th>ps1</th>\n",
       "      <td>676.0</td>\n",
       "      <td>4.159467</td>\n",
       "      <td>0.121652</td>\n",
       "      <td>3.700000</td>\n",
       "      <td>4.100000</td>\n",
       "      <td>4.200000</td>\n",
       "      <td>4.200000</td>\n",
       "      <td>4.50</td>\n",
       "    </tr>\n",
       "    <tr>\n",
       "      <th>fp1</th>\n",
       "      <td>676.0</td>\n",
       "      <td>18.597610</td>\n",
       "      <td>9.406537</td>\n",
       "      <td>0.095439</td>\n",
       "      <td>13.826429</td>\n",
       "      <td>16.618984</td>\n",
       "      <td>19.732500</td>\n",
       "      <td>57.23</td>\n",
       "    </tr>\n",
       "    <tr>\n",
       "      <th>comp_2</th>\n",
       "      <td>676.0</td>\n",
       "      <td>92.930079</td>\n",
       "      <td>49.481269</td>\n",
       "      <td>19.900000</td>\n",
       "      <td>53.900000</td>\n",
       "      <td>89.990000</td>\n",
       "      <td>117.888889</td>\n",
       "      <td>349.90</td>\n",
       "    </tr>\n",
       "    <tr>\n",
       "      <th>ps2</th>\n",
       "      <td>676.0</td>\n",
       "      <td>4.123521</td>\n",
       "      <td>0.207189</td>\n",
       "      <td>3.300000</td>\n",
       "      <td>4.100000</td>\n",
       "      <td>4.200000</td>\n",
       "      <td>4.200000</td>\n",
       "      <td>4.40</td>\n",
       "    </tr>\n",
       "    <tr>\n",
       "      <th>fp2</th>\n",
       "      <td>676.0</td>\n",
       "      <td>18.620644</td>\n",
       "      <td>6.424174</td>\n",
       "      <td>4.410000</td>\n",
       "      <td>14.485000</td>\n",
       "      <td>16.811765</td>\n",
       "      <td>21.665238</td>\n",
       "      <td>57.23</td>\n",
       "    </tr>\n",
       "    <tr>\n",
       "      <th>comp_3</th>\n",
       "      <td>676.0</td>\n",
       "      <td>84.182642</td>\n",
       "      <td>47.745789</td>\n",
       "      <td>19.900000</td>\n",
       "      <td>53.785714</td>\n",
       "      <td>59.900000</td>\n",
       "      <td>99.990000</td>\n",
       "      <td>255.61</td>\n",
       "    </tr>\n",
       "    <tr>\n",
       "      <th>ps3</th>\n",
       "      <td>676.0</td>\n",
       "      <td>4.002071</td>\n",
       "      <td>0.233292</td>\n",
       "      <td>3.500000</td>\n",
       "      <td>3.900000</td>\n",
       "      <td>4.000000</td>\n",
       "      <td>4.100000</td>\n",
       "      <td>4.40</td>\n",
       "    </tr>\n",
       "    <tr>\n",
       "      <th>fp3</th>\n",
       "      <td>676.0</td>\n",
       "      <td>17.965007</td>\n",
       "      <td>5.533256</td>\n",
       "      <td>7.670000</td>\n",
       "      <td>15.042727</td>\n",
       "      <td>16.517110</td>\n",
       "      <td>19.447778</td>\n",
       "      <td>57.23</td>\n",
       "    </tr>\n",
       "    <tr>\n",
       "      <th>lag_price</th>\n",
       "      <td>676.0</td>\n",
       "      <td>107.399684</td>\n",
       "      <td>76.974657</td>\n",
       "      <td>19.850000</td>\n",
       "      <td>55.668750</td>\n",
       "      <td>89.900000</td>\n",
       "      <td>129.990000</td>\n",
       "      <td>364.00</td>\n",
       "    </tr>\n",
       "  </tbody>\n",
       "</table>\n",
       "</div>"
      ],
      "text/plain": [
       "                            count          mean          std          min  \\\n",
       "qty                         676.0     14.495562    15.443421     1.000000   \n",
       "total_price                 676.0   1422.708728  1700.123100    19.900000   \n",
       "freight_price               676.0     20.682270    10.081817     0.000000   \n",
       "unit_price                  676.0    106.496800    76.182972    19.900000   \n",
       "product_name_lenght         676.0     48.720414     9.420715    29.000000   \n",
       "product_description_lenght  676.0    767.399408   655.205015   100.000000   \n",
       "product_photos_qty          676.0      1.994083     1.420473     1.000000   \n",
       "product_weight_g            676.0   1847.498521  2274.808483   100.000000   \n",
       "product_score               676.0      4.085503     0.232021     3.300000   \n",
       "customers                   676.0     81.028107    62.055560     1.000000   \n",
       "weekday                     676.0     21.773669     0.986104    20.000000   \n",
       "weekend                     676.0      8.658284     0.705600     8.000000   \n",
       "holiday                     676.0      1.494083     0.940430     0.000000   \n",
       "month                       676.0      6.192308     3.243455     1.000000   \n",
       "year                        676.0   2017.525148     0.499737  2017.000000   \n",
       "s                           676.0     14.644970    11.930276     0.484262   \n",
       "volume                      676.0  10664.627219  9172.801850   640.000000   \n",
       "comp_1                      676.0     79.452054    47.933358    19.900000   \n",
       "ps1                         676.0      4.159467     0.121652     3.700000   \n",
       "fp1                         676.0     18.597610     9.406537     0.095439   \n",
       "comp_2                      676.0     92.930079    49.481269    19.900000   \n",
       "ps2                         676.0      4.123521     0.207189     3.300000   \n",
       "fp2                         676.0     18.620644     6.424174     4.410000   \n",
       "comp_3                      676.0     84.182642    47.745789    19.900000   \n",
       "ps3                         676.0      4.002071     0.233292     3.500000   \n",
       "fp3                         676.0     17.965007     5.533256     7.670000   \n",
       "lag_price                   676.0    107.399684    76.974657    19.850000   \n",
       "\n",
       "                                    25%          50%           75%       max  \n",
       "qty                            4.000000    10.000000     18.000000    122.00  \n",
       "total_price                  333.700000   807.890000   1887.322500  12095.00  \n",
       "freight_price                 14.761912    17.518472     22.713558     79.76  \n",
       "unit_price                    53.900000    89.900000    129.990000    364.00  \n",
       "product_name_lenght           40.000000    51.000000     57.000000     60.00  \n",
       "product_description_lenght   339.000000   501.000000    903.000000   3006.00  \n",
       "product_photos_qty             1.000000     1.500000      2.000000      8.00  \n",
       "product_weight_g             348.000000   950.000000   1850.000000   9750.00  \n",
       "product_score                  3.900000     4.100000      4.200000      4.50  \n",
       "customers                     34.000000    62.000000    116.000000    339.00  \n",
       "weekday                       21.000000    22.000000     23.000000     23.00  \n",
       "weekend                        8.000000     9.000000      9.000000     10.00  \n",
       "holiday                        1.000000     1.000000      2.000000      4.00  \n",
       "month                          3.000000     6.000000      8.000000     12.00  \n",
       "year                        2017.000000  2018.000000   2018.000000   2018.00  \n",
       "s                              7.510204    11.316760     17.745704    100.00  \n",
       "volume                      3510.000000  8000.000000  15750.000000  32736.00  \n",
       "comp_1                        49.910000    69.900000    104.256549    349.90  \n",
       "ps1                            4.100000     4.200000      4.200000      4.50  \n",
       "fp1                           13.826429    16.618984     19.732500     57.23  \n",
       "comp_2                        53.900000    89.990000    117.888889    349.90  \n",
       "ps2                            4.100000     4.200000      4.200000      4.40  \n",
       "fp2                           14.485000    16.811765     21.665238     57.23  \n",
       "comp_3                        53.785714    59.900000     99.990000    255.61  \n",
       "ps3                            3.900000     4.000000      4.100000      4.40  \n",
       "fp3                           15.042727    16.517110     19.447778     57.23  \n",
       "lag_price                     55.668750    89.900000    129.990000    364.00  "
      ]
     },
     "execution_count": 14,
     "metadata": {},
     "output_type": "execute_result"
    }
   ],
   "source": [
    "data.describe().T"
   ]
  },
  {
   "cell_type": "markdown",
   "metadata": {},
   "source": [
    "Let's understand this one by one - \n",
    "- qty => Seems to have some large values might be bulk orders (will have to check as rarely anybody orders normal stuff in bulk - check unique values)\n",
    "- total_price => affected by 'qty', somewhat proportional. A little weird might be skewd because of qty.\n",
    "- freight_price => related to the weight of the package. Looks normal.\n",
    "- unit_price => looks normal\n",
    "- product_name_lenght => will have to check for association.\n",
    "- product_description_lenght => will have to check for association.\n",
    "- product_photos_qty => will have to check for association.\n",
    "- product_weight_g => might have some outliers as max is too big.\n",
    "- product_score => std too low might make bins.\n",
    "- customers => looks normal.\n",
    "- weekday => std too low might make bins.\n",
    "- weekend => std too low might make bins.\n",
    "- holiday => std too low might make bins.\n",
    "- month => looks normal.\n",
    "- year => std too low might make bins\n",
    "- s => might have some outliers as max is too big.\n",
    "- volume => looks normal.\n",
    "- comp_1/2/3 => might find some outliers.\n",
    "- ps1/2/3 => std too low might make bins\n",
    "- fp1/2/3 => might find some outliers.\n",
    "- lag_price => might find some outliers."
   ]
  },
  {
   "cell_type": "code",
   "execution_count": 15,
   "metadata": {},
   "outputs": [
    {
     "data": {
      "application/vnd.plotly.v1+json": {
       "config": {
        "plotlyServerURL": "https://plot.ly"
       },
       "data": [
        {
         "bingroup": "x",
         "hovertemplate": "total_price=%{x}<br>count=%{y}<extra></extra>",
         "legendgroup": "",
         "marker": {
          "color": "#636efa",
          "pattern": {
           "shape": ""
          }
         },
         "name": "",
         "nbinsx": 20,
         "orientation": "v",
         "showlegend": false,
         "type": "histogram",
         "x": {
          "bdata": "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",
          "dtype": "f8"
         },
         "xaxis": "x",
         "yaxis": "y"
        }
       ],
       "layout": {
        "barmode": "relative",
        "legend": {
         "tracegroupgap": 0
        },
        "template": {
         "data": {
          "bar": [
           {
            "error_x": {
             "color": "#2a3f5f"
            },
            "error_y": {
             "color": "#2a3f5f"
            },
            "marker": {
             "line": {
              "color": "white",
              "width": 0.5
             },
             "pattern": {
              "fillmode": "overlay",
              "size": 10,
              "solidity": 0.2
             }
            },
            "type": "bar"
           }
          ],
          "barpolar": [
           {
            "marker": {
             "line": {
              "color": "white",
              "width": 0.5
             },
             "pattern": {
              "fillmode": "overlay",
              "size": 10,
              "solidity": 0.2
             }
            },
            "type": "barpolar"
           }
          ],
          "carpet": [
           {
            "aaxis": {
             "endlinecolor": "#2a3f5f",
             "gridcolor": "#C8D4E3",
             "linecolor": "#C8D4E3",
             "minorgridcolor": "#C8D4E3",
             "startlinecolor": "#2a3f5f"
            },
            "baxis": {
             "endlinecolor": "#2a3f5f",
             "gridcolor": "#C8D4E3",
             "linecolor": "#C8D4E3",
             "minorgridcolor": "#C8D4E3",
             "startlinecolor": "#2a3f5f"
            },
            "type": "carpet"
           }
          ],
          "choropleth": [
           {
            "colorbar": {
             "outlinewidth": 0,
             "ticks": ""
            },
            "type": "choropleth"
           }
          ],
          "contour": [
           {
            "colorbar": {
             "outlinewidth": 0,
             "ticks": ""
            },
            "colorscale": [
             [
              0,
              "#0d0887"
             ],
             [
              0.1111111111111111,
              "#46039f"
             ],
             [
              0.2222222222222222,
              "#7201a8"
             ],
             [
              0.3333333333333333,
              "#9c179e"
             ],
             [
              0.4444444444444444,
              "#bd3786"
             ],
             [
              0.5555555555555556,
              "#d8576b"
             ],
             [
              0.6666666666666666,
              "#ed7953"
             ],
             [
              0.7777777777777778,
              "#fb9f3a"
             ],
             [
              0.8888888888888888,
              "#fdca26"
             ],
             [
              1,
              "#f0f921"
             ]
            ],
            "type": "contour"
           }
          ],
          "contourcarpet": [
           {
            "colorbar": {
             "outlinewidth": 0,
             "ticks": ""
            },
            "type": "contourcarpet"
           }
          ],
          "heatmap": [
           {
            "colorbar": {
             "outlinewidth": 0,
             "ticks": ""
            },
            "colorscale": [
             [
              0,
              "#0d0887"
             ],
             [
              0.1111111111111111,
              "#46039f"
             ],
             [
              0.2222222222222222,
              "#7201a8"
             ],
             [
              0.3333333333333333,
              "#9c179e"
             ],
             [
              0.4444444444444444,
              "#bd3786"
             ],
             [
              0.5555555555555556,
              "#d8576b"
             ],
             [
              0.6666666666666666,
              "#ed7953"
             ],
             [
              0.7777777777777778,
              "#fb9f3a"
             ],
             [
              0.8888888888888888,
              "#fdca26"
             ],
             [
              1,
              "#f0f921"
             ]
            ],
            "type": "heatmap"
           }
          ],
          "histogram": [
           {
            "marker": {
             "pattern": {
              "fillmode": "overlay",
              "size": 10,
              "solidity": 0.2
             }
            },
            "type": "histogram"
           }
          ],
          "histogram2d": [
           {
            "colorbar": {
             "outlinewidth": 0,
             "ticks": ""
            },
            "colorscale": [
             [
              0,
              "#0d0887"
             ],
             [
              0.1111111111111111,
              "#46039f"
             ],
             [
              0.2222222222222222,
              "#7201a8"
             ],
             [
              0.3333333333333333,
              "#9c179e"
             ],
             [
              0.4444444444444444,
              "#bd3786"
             ],
             [
              0.5555555555555556,
              "#d8576b"
             ],
             [
              0.6666666666666666,
              "#ed7953"
             ],
             [
              0.7777777777777778,
              "#fb9f3a"
             ],
             [
              0.8888888888888888,
              "#fdca26"
             ],
             [
              1,
              "#f0f921"
             ]
            ],
            "type": "histogram2d"
           }
          ],
          "histogram2dcontour": [
           {
            "colorbar": {
             "outlinewidth": 0,
             "ticks": ""
            },
            "colorscale": [
             [
              0,
              "#0d0887"
             ],
             [
              0.1111111111111111,
              "#46039f"
             ],
             [
              0.2222222222222222,
              "#7201a8"
             ],
             [
              0.3333333333333333,
              "#9c179e"
             ],
             [
              0.4444444444444444,
              "#bd3786"
             ],
             [
              0.5555555555555556,
              "#d8576b"
             ],
             [
              0.6666666666666666,
              "#ed7953"
             ],
             [
              0.7777777777777778,
              "#fb9f3a"
             ],
             [
              0.8888888888888888,
              "#fdca26"
             ],
             [
              1,
              "#f0f921"
             ]
            ],
            "type": "histogram2dcontour"
           }
          ],
          "mesh3d": [
           {
            "colorbar": {
             "outlinewidth": 0,
             "ticks": ""
            },
            "type": "mesh3d"
           }
          ],
          "parcoords": [
           {
            "line": {
             "colorbar": {
              "outlinewidth": 0,
              "ticks": ""
             }
            },
            "type": "parcoords"
           }
          ],
          "pie": [
           {
            "automargin": true,
            "type": "pie"
           }
          ],
          "scatter": [
           {
            "fillpattern": {
             "fillmode": "overlay",
             "size": 10,
             "solidity": 0.2
            },
            "type": "scatter"
           }
          ],
          "scatter3d": [
           {
            "line": {
             "colorbar": {
              "outlinewidth": 0,
              "ticks": ""
             }
            },
            "marker": {
             "colorbar": {
              "outlinewidth": 0,
              "ticks": ""
             }
            },
            "type": "scatter3d"
           }
          ],
          "scattercarpet": [
           {
            "marker": {
             "colorbar": {
              "outlinewidth": 0,
              "ticks": ""
             }
            },
            "type": "scattercarpet"
           }
          ],
          "scattergeo": [
           {
            "marker": {
             "colorbar": {
              "outlinewidth": 0,
              "ticks": ""
             }
            },
            "type": "scattergeo"
           }
          ],
          "scattergl": [
           {
            "marker": {
             "colorbar": {
              "outlinewidth": 0,
              "ticks": ""
             }
            },
            "type": "scattergl"
           }
          ],
          "scattermap": [
           {
            "marker": {
             "colorbar": {
              "outlinewidth": 0,
              "ticks": ""
             }
            },
            "type": "scattermap"
           }
          ],
          "scattermapbox": [
           {
            "marker": {
             "colorbar": {
              "outlinewidth": 0,
              "ticks": ""
             }
            },
            "type": "scattermapbox"
           }
          ],
          "scatterpolar": [
           {
            "marker": {
             "colorbar": {
              "outlinewidth": 0,
              "ticks": ""
             }
            },
            "type": "scatterpolar"
           }
          ],
          "scatterpolargl": [
           {
            "marker": {
             "colorbar": {
              "outlinewidth": 0,
              "ticks": ""
             }
            },
            "type": "scatterpolargl"
           }
          ],
          "scatterternary": [
           {
            "marker": {
             "colorbar": {
              "outlinewidth": 0,
              "ticks": ""
             }
            },
            "type": "scatterternary"
           }
          ],
          "surface": [
           {
            "colorbar": {
             "outlinewidth": 0,
             "ticks": ""
            },
            "colorscale": [
             [
              0,
              "#0d0887"
             ],
             [
              0.1111111111111111,
              "#46039f"
             ],
             [
              0.2222222222222222,
              "#7201a8"
             ],
             [
              0.3333333333333333,
              "#9c179e"
             ],
             [
              0.4444444444444444,
              "#bd3786"
             ],
             [
              0.5555555555555556,
              "#d8576b"
             ],
             [
              0.6666666666666666,
              "#ed7953"
             ],
             [
              0.7777777777777778,
              "#fb9f3a"
             ],
             [
              0.8888888888888888,
              "#fdca26"
             ],
             [
              1,
              "#f0f921"
             ]
            ],
            "type": "surface"
           }
          ],
          "table": [
           {
            "cells": {
             "fill": {
              "color": "#EBF0F8"
             },
             "line": {
              "color": "white"
             }
            },
            "header": {
             "fill": {
              "color": "#C8D4E3"
             },
             "line": {
              "color": "white"
             }
            },
            "type": "table"
           }
          ]
         },
         "layout": {
          "annotationdefaults": {
           "arrowcolor": "#2a3f5f",
           "arrowhead": 0,
           "arrowwidth": 1
          },
          "autotypenumbers": "strict",
          "coloraxis": {
           "colorbar": {
            "outlinewidth": 0,
            "ticks": ""
           }
          },
          "colorscale": {
           "diverging": [
            [
             0,
             "#8e0152"
            ],
            [
             0.1,
             "#c51b7d"
            ],
            [
             0.2,
             "#de77ae"
            ],
            [
             0.3,
             "#f1b6da"
            ],
            [
             0.4,
             "#fde0ef"
            ],
            [
             0.5,
             "#f7f7f7"
            ],
            [
             0.6,
             "#e6f5d0"
            ],
            [
             0.7,
             "#b8e186"
            ],
            [
             0.8,
             "#7fbc41"
            ],
            [
             0.9,
             "#4d9221"
            ],
            [
             1,
             "#276419"
            ]
           ],
           "sequential": [
            [
             0,
             "#0d0887"
            ],
            [
             0.1111111111111111,
             "#46039f"
            ],
            [
             0.2222222222222222,
             "#7201a8"
            ],
            [
             0.3333333333333333,
             "#9c179e"
            ],
            [
             0.4444444444444444,
             "#bd3786"
            ],
            [
             0.5555555555555556,
             "#d8576b"
            ],
            [
             0.6666666666666666,
             "#ed7953"
            ],
            [
             0.7777777777777778,
             "#fb9f3a"
            ],
            [
             0.8888888888888888,
             "#fdca26"
            ],
            [
             1,
             "#f0f921"
            ]
           ],
           "sequentialminus": [
            [
             0,
             "#0d0887"
            ],
            [
             0.1111111111111111,
             "#46039f"
            ],
            [
             0.2222222222222222,
             "#7201a8"
            ],
            [
             0.3333333333333333,
             "#9c179e"
            ],
            [
             0.4444444444444444,
             "#bd3786"
            ],
            [
             0.5555555555555556,
             "#d8576b"
            ],
            [
             0.6666666666666666,
             "#ed7953"
            ],
            [
             0.7777777777777778,
             "#fb9f3a"
            ],
            [
             0.8888888888888888,
             "#fdca26"
            ],
            [
             1,
             "#f0f921"
            ]
           ]
          },
          "colorway": [
           "#636efa",
           "#EF553B",
           "#00cc96",
           "#ab63fa",
           "#FFA15A",
           "#19d3f3",
           "#FF6692",
           "#B6E880",
           "#FF97FF",
           "#FECB52"
          ],
          "font": {
           "color": "#2a3f5f"
          },
          "geo": {
           "bgcolor": "white",
           "lakecolor": "white",
           "landcolor": "white",
           "showlakes": true,
           "showland": true,
           "subunitcolor": "#C8D4E3"
          },
          "hoverlabel": {
           "align": "left"
          },
          "hovermode": "closest",
          "mapbox": {
           "style": "light"
          },
          "paper_bgcolor": "white",
          "plot_bgcolor": "white",
          "polar": {
           "angularaxis": {
            "gridcolor": "#EBF0F8",
            "linecolor": "#EBF0F8",
            "ticks": ""
           },
           "bgcolor": "white",
           "radialaxis": {
            "gridcolor": "#EBF0F8",
            "linecolor": "#EBF0F8",
            "ticks": ""
           }
          },
          "scene": {
           "xaxis": {
            "backgroundcolor": "white",
            "gridcolor": "#DFE8F3",
            "gridwidth": 2,
            "linecolor": "#EBF0F8",
            "showbackground": true,
            "ticks": "",
            "zerolinecolor": "#EBF0F8"
           },
           "yaxis": {
            "backgroundcolor": "white",
            "gridcolor": "#DFE8F3",
            "gridwidth": 2,
            "linecolor": "#EBF0F8",
            "showbackground": true,
            "ticks": "",
            "zerolinecolor": "#EBF0F8"
           },
           "zaxis": {
            "backgroundcolor": "white",
            "gridcolor": "#DFE8F3",
            "gridwidth": 2,
            "linecolor": "#EBF0F8",
            "showbackground": true,
            "ticks": "",
            "zerolinecolor": "#EBF0F8"
           }
          },
          "shapedefaults": {
           "line": {
            "color": "#2a3f5f"
           }
          },
          "ternary": {
           "aaxis": {
            "gridcolor": "#DFE8F3",
            "linecolor": "#A2B1C6",
            "ticks": ""
           },
           "baxis": {
            "gridcolor": "#DFE8F3",
            "linecolor": "#A2B1C6",
            "ticks": ""
           },
           "bgcolor": "white",
           "caxis": {
            "gridcolor": "#DFE8F3",
            "linecolor": "#A2B1C6",
            "ticks": ""
           }
          },
          "title": {
           "x": 0.05
          },
          "xaxis": {
           "automargin": true,
           "gridcolor": "#EBF0F8",
           "linecolor": "#EBF0F8",
           "ticks": "",
           "title": {
            "standoff": 15
           },
           "zerolinecolor": "#EBF0F8",
           "zerolinewidth": 2
          },
          "yaxis": {
           "automargin": true,
           "gridcolor": "#EBF0F8",
           "linecolor": "#EBF0F8",
           "ticks": "",
           "title": {
            "standoff": 15
           },
           "zerolinecolor": "#EBF0F8",
           "zerolinewidth": 2
          }
         }
        },
        "title": {
         "text": "Total Price Distribution"
        },
        "xaxis": {
         "anchor": "y",
         "domain": [
          0,
          1
         ],
         "title": {
          "text": "total_price"
         }
        },
        "yaxis": {
         "anchor": "x",
         "domain": [
          0,
          1
         ],
         "title": {
          "text": "count"
         }
        }
       }
      }
     },
     "metadata": {},
     "output_type": "display_data"
    }
   ],
   "source": [
    "px.histogram(data, x='total_price', nbins=20, title='Total Price Distribution')\n"
   ]
  },
  {
   "cell_type": "markdown",
   "metadata": {},
   "source": [
    "Skewed distribution. Might transform it before modelling."
   ]
  },
  {
   "cell_type": "code",
   "execution_count": 16,
   "metadata": {},
   "outputs": [
    {
     "data": {
      "application/vnd.plotly.v1+json": {
       "config": {
        "plotlyServerURL": "https://plot.ly"
       },
       "data": [
        {
         "alignmentgroup": "True",
         "hovertemplate": "unit_price=%{y}<extra></extra>",
         "legendgroup": "",
         "marker": {
          "color": "#636efa"
         },
         "name": "",
         "notched": false,
         "offsetgroup": "",
         "orientation": "v",
         "showlegend": false,
         "type": "box",
         "x0": " ",
         "xaxis": "x",
         "y": {
          "bdata": "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",
          "dtype": "f8"
         },
         "y0": " ",
         "yaxis": "y"
        }
       ],
       "layout": {
        "boxmode": "group",
        "legend": {
         "tracegroupgap": 0
        },
        "template": {
         "data": {
          "bar": [
           {
            "error_x": {
             "color": "#2a3f5f"
            },
            "error_y": {
             "color": "#2a3f5f"
            },
            "marker": {
             "line": {
              "color": "white",
              "width": 0.5
             },
             "pattern": {
              "fillmode": "overlay",
              "size": 10,
              "solidity": 0.2
             }
            },
            "type": "bar"
           }
          ],
          "barpolar": [
           {
            "marker": {
             "line": {
              "color": "white",
              "width": 0.5
             },
             "pattern": {
              "fillmode": "overlay",
              "size": 10,
              "solidity": 0.2
             }
            },
            "type": "barpolar"
           }
          ],
          "carpet": [
           {
            "aaxis": {
             "endlinecolor": "#2a3f5f",
             "gridcolor": "#C8D4E3",
             "linecolor": "#C8D4E3",
             "minorgridcolor": "#C8D4E3",
             "startlinecolor": "#2a3f5f"
            },
            "baxis": {
             "endlinecolor": "#2a3f5f",
             "gridcolor": "#C8D4E3",
             "linecolor": "#C8D4E3",
             "minorgridcolor": "#C8D4E3",
             "startlinecolor": "#2a3f5f"
            },
            "type": "carpet"
           }
          ],
          "choropleth": [
           {
            "colorbar": {
             "outlinewidth": 0,
             "ticks": ""
            },
            "type": "choropleth"
           }
          ],
          "contour": [
           {
            "colorbar": {
             "outlinewidth": 0,
             "ticks": ""
            },
            "colorscale": [
             [
              0,
              "#0d0887"
             ],
             [
              0.1111111111111111,
              "#46039f"
             ],
             [
              0.2222222222222222,
              "#7201a8"
             ],
             [
              0.3333333333333333,
              "#9c179e"
             ],
             [
              0.4444444444444444,
              "#bd3786"
             ],
             [
              0.5555555555555556,
              "#d8576b"
             ],
             [
              0.6666666666666666,
              "#ed7953"
             ],
             [
              0.7777777777777778,
              "#fb9f3a"
             ],
             [
              0.8888888888888888,
              "#fdca26"
             ],
             [
              1,
              "#f0f921"
             ]
            ],
            "type": "contour"
           }
          ],
          "contourcarpet": [
           {
            "colorbar": {
             "outlinewidth": 0,
             "ticks": ""
            },
            "type": "contourcarpet"
           }
          ],
          "heatmap": [
           {
            "colorbar": {
             "outlinewidth": 0,
             "ticks": ""
            },
            "colorscale": [
             [
              0,
              "#0d0887"
             ],
             [
              0.1111111111111111,
              "#46039f"
             ],
             [
              0.2222222222222222,
              "#7201a8"
             ],
             [
              0.3333333333333333,
              "#9c179e"
             ],
             [
              0.4444444444444444,
              "#bd3786"
             ],
             [
              0.5555555555555556,
              "#d8576b"
             ],
             [
              0.6666666666666666,
              "#ed7953"
             ],
             [
              0.7777777777777778,
              "#fb9f3a"
             ],
             [
              0.8888888888888888,
              "#fdca26"
             ],
             [
              1,
              "#f0f921"
             ]
            ],
            "type": "heatmap"
           }
          ],
          "histogram": [
           {
            "marker": {
             "pattern": {
              "fillmode": "overlay",
              "size": 10,
              "solidity": 0.2
             }
            },
            "type": "histogram"
           }
          ],
          "histogram2d": [
           {
            "colorbar": {
             "outlinewidth": 0,
             "ticks": ""
            },
            "colorscale": [
             [
              0,
              "#0d0887"
             ],
             [
              0.1111111111111111,
              "#46039f"
             ],
             [
              0.2222222222222222,
              "#7201a8"
             ],
             [
              0.3333333333333333,
              "#9c179e"
             ],
             [
              0.4444444444444444,
              "#bd3786"
             ],
             [
              0.5555555555555556,
              "#d8576b"
             ],
             [
              0.6666666666666666,
              "#ed7953"
             ],
             [
              0.7777777777777778,
              "#fb9f3a"
             ],
             [
              0.8888888888888888,
              "#fdca26"
             ],
             [
              1,
              "#f0f921"
             ]
            ],
            "type": "histogram2d"
           }
          ],
          "histogram2dcontour": [
           {
            "colorbar": {
             "outlinewidth": 0,
             "ticks": ""
            },
            "colorscale": [
             [
              0,
              "#0d0887"
             ],
             [
              0.1111111111111111,
              "#46039f"
             ],
             [
              0.2222222222222222,
              "#7201a8"
             ],
             [
              0.3333333333333333,
              "#9c179e"
             ],
             [
              0.4444444444444444,
              "#bd3786"
             ],
             [
              0.5555555555555556,
              "#d8576b"
             ],
             [
              0.6666666666666666,
              "#ed7953"
             ],
             [
              0.7777777777777778,
              "#fb9f3a"
             ],
             [
              0.8888888888888888,
              "#fdca26"
             ],
             [
              1,
              "#f0f921"
             ]
            ],
            "type": "histogram2dcontour"
           }
          ],
          "mesh3d": [
           {
            "colorbar": {
             "outlinewidth": 0,
             "ticks": ""
            },
            "type": "mesh3d"
           }
          ],
          "parcoords": [
           {
            "line": {
             "colorbar": {
              "outlinewidth": 0,
              "ticks": ""
             }
            },
            "type": "parcoords"
           }
          ],
          "pie": [
           {
            "automargin": true,
            "type": "pie"
           }
          ],
          "scatter": [
           {
            "fillpattern": {
             "fillmode": "overlay",
             "size": 10,
             "solidity": 0.2
            },
            "type": "scatter"
           }
          ],
          "scatter3d": [
           {
            "line": {
             "colorbar": {
              "outlinewidth": 0,
              "ticks": ""
             }
            },
            "marker": {
             "colorbar": {
              "outlinewidth": 0,
              "ticks": ""
             }
            },
            "type": "scatter3d"
           }
          ],
          "scattercarpet": [
           {
            "marker": {
             "colorbar": {
              "outlinewidth": 0,
              "ticks": ""
             }
            },
            "type": "scattercarpet"
           }
          ],
          "scattergeo": [
           {
            "marker": {
             "colorbar": {
              "outlinewidth": 0,
              "ticks": ""
             }
            },
            "type": "scattergeo"
           }
          ],
          "scattergl": [
           {
            "marker": {
             "colorbar": {
              "outlinewidth": 0,
              "ticks": ""
             }
            },
            "type": "scattergl"
           }
          ],
          "scattermap": [
           {
            "marker": {
             "colorbar": {
              "outlinewidth": 0,
              "ticks": ""
             }
            },
            "type": "scattermap"
           }
          ],
          "scattermapbox": [
           {
            "marker": {
             "colorbar": {
              "outlinewidth": 0,
              "ticks": ""
             }
            },
            "type": "scattermapbox"
           }
          ],
          "scatterpolar": [
           {
            "marker": {
             "colorbar": {
              "outlinewidth": 0,
              "ticks": ""
             }
            },
            "type": "scatterpolar"
           }
          ],
          "scatterpolargl": [
           {
            "marker": {
             "colorbar": {
              "outlinewidth": 0,
              "ticks": ""
             }
            },
            "type": "scatterpolargl"
           }
          ],
          "scatterternary": [
           {
            "marker": {
             "colorbar": {
              "outlinewidth": 0,
              "ticks": ""
             }
            },
            "type": "scatterternary"
           }
          ],
          "surface": [
           {
            "colorbar": {
             "outlinewidth": 0,
             "ticks": ""
            },
            "colorscale": [
             [
              0,
              "#0d0887"
             ],
             [
              0.1111111111111111,
              "#46039f"
             ],
             [
              0.2222222222222222,
              "#7201a8"
             ],
             [
              0.3333333333333333,
              "#9c179e"
             ],
             [
              0.4444444444444444,
              "#bd3786"
             ],
             [
              0.5555555555555556,
              "#d8576b"
             ],
             [
              0.6666666666666666,
              "#ed7953"
             ],
             [
              0.7777777777777778,
              "#fb9f3a"
             ],
             [
              0.8888888888888888,
              "#fdca26"
             ],
             [
              1,
              "#f0f921"
             ]
            ],
            "type": "surface"
           }
          ],
          "table": [
           {
            "cells": {
             "fill": {
              "color": "#EBF0F8"
             },
             "line": {
              "color": "white"
             }
            },
            "header": {
             "fill": {
              "color": "#C8D4E3"
             },
             "line": {
              "color": "white"
             }
            },
            "type": "table"
           }
          ]
         },
         "layout": {
          "annotationdefaults": {
           "arrowcolor": "#2a3f5f",
           "arrowhead": 0,
           "arrowwidth": 1
          },
          "autotypenumbers": "strict",
          "coloraxis": {
           "colorbar": {
            "outlinewidth": 0,
            "ticks": ""
           }
          },
          "colorscale": {
           "diverging": [
            [
             0,
             "#8e0152"
            ],
            [
             0.1,
             "#c51b7d"
            ],
            [
             0.2,
             "#de77ae"
            ],
            [
             0.3,
             "#f1b6da"
            ],
            [
             0.4,
             "#fde0ef"
            ],
            [
             0.5,
             "#f7f7f7"
            ],
            [
             0.6,
             "#e6f5d0"
            ],
            [
             0.7,
             "#b8e186"
            ],
            [
             0.8,
             "#7fbc41"
            ],
            [
             0.9,
             "#4d9221"
            ],
            [
             1,
             "#276419"
            ]
           ],
           "sequential": [
            [
             0,
             "#0d0887"
            ],
            [
             0.1111111111111111,
             "#46039f"
            ],
            [
             0.2222222222222222,
             "#7201a8"
            ],
            [
             0.3333333333333333,
             "#9c179e"
            ],
            [
             0.4444444444444444,
             "#bd3786"
            ],
            [
             0.5555555555555556,
             "#d8576b"
            ],
            [
             0.6666666666666666,
             "#ed7953"
            ],
            [
             0.7777777777777778,
             "#fb9f3a"
            ],
            [
             0.8888888888888888,
             "#fdca26"
            ],
            [
             1,
             "#f0f921"
            ]
           ],
           "sequentialminus": [
            [
             0,
             "#0d0887"
            ],
            [
             0.1111111111111111,
             "#46039f"
            ],
            [
             0.2222222222222222,
             "#7201a8"
            ],
            [
             0.3333333333333333,
             "#9c179e"
            ],
            [
             0.4444444444444444,
             "#bd3786"
            ],
            [
             0.5555555555555556,
             "#d8576b"
            ],
            [
             0.6666666666666666,
             "#ed7953"
            ],
            [
             0.7777777777777778,
             "#fb9f3a"
            ],
            [
             0.8888888888888888,
             "#fdca26"
            ],
            [
             1,
             "#f0f921"
            ]
           ]
          },
          "colorway": [
           "#636efa",
           "#EF553B",
           "#00cc96",
           "#ab63fa",
           "#FFA15A",
           "#19d3f3",
           "#FF6692",
           "#B6E880",
           "#FF97FF",
           "#FECB52"
          ],
          "font": {
           "color": "#2a3f5f"
          },
          "geo": {
           "bgcolor": "white",
           "lakecolor": "white",
           "landcolor": "white",
           "showlakes": true,
           "showland": true,
           "subunitcolor": "#C8D4E3"
          },
          "hoverlabel": {
           "align": "left"
          },
          "hovermode": "closest",
          "mapbox": {
           "style": "light"
          },
          "paper_bgcolor": "white",
          "plot_bgcolor": "white",
          "polar": {
           "angularaxis": {
            "gridcolor": "#EBF0F8",
            "linecolor": "#EBF0F8",
            "ticks": ""
           },
           "bgcolor": "white",
           "radialaxis": {
            "gridcolor": "#EBF0F8",
            "linecolor": "#EBF0F8",
            "ticks": ""
           }
          },
          "scene": {
           "xaxis": {
            "backgroundcolor": "white",
            "gridcolor": "#DFE8F3",
            "gridwidth": 2,
            "linecolor": "#EBF0F8",
            "showbackground": true,
            "ticks": "",
            "zerolinecolor": "#EBF0F8"
           },
           "yaxis": {
            "backgroundcolor": "white",
            "gridcolor": "#DFE8F3",
            "gridwidth": 2,
            "linecolor": "#EBF0F8",
            "showbackground": true,
            "ticks": "",
            "zerolinecolor": "#EBF0F8"
           },
           "zaxis": {
            "backgroundcolor": "white",
            "gridcolor": "#DFE8F3",
            "gridwidth": 2,
            "linecolor": "#EBF0F8",
            "showbackground": true,
            "ticks": "",
            "zerolinecolor": "#EBF0F8"
           }
          },
          "shapedefaults": {
           "line": {
            "color": "#2a3f5f"
           }
          },
          "ternary": {
           "aaxis": {
            "gridcolor": "#DFE8F3",
            "linecolor": "#A2B1C6",
            "ticks": ""
           },
           "baxis": {
            "gridcolor": "#DFE8F3",
            "linecolor": "#A2B1C6",
            "ticks": ""
           },
           "bgcolor": "white",
           "caxis": {
            "gridcolor": "#DFE8F3",
            "linecolor": "#A2B1C6",
            "ticks": ""
           }
          },
          "title": {
           "x": 0.05
          },
          "xaxis": {
           "automargin": true,
           "gridcolor": "#EBF0F8",
           "linecolor": "#EBF0F8",
           "ticks": "",
           "title": {
            "standoff": 15
           },
           "zerolinecolor": "#EBF0F8",
           "zerolinewidth": 2
          },
          "yaxis": {
           "automargin": true,
           "gridcolor": "#EBF0F8",
           "linecolor": "#EBF0F8",
           "ticks": "",
           "title": {
            "standoff": 15
           },
           "zerolinecolor": "#EBF0F8",
           "zerolinewidth": 2
          }
         }
        },
        "title": {
         "text": "Box Plot of Unit Price"
        },
        "xaxis": {
         "anchor": "y",
         "domain": [
          0,
          1
         ]
        },
        "yaxis": {
         "anchor": "x",
         "domain": [
          0,
          1
         ],
         "title": {
          "text": "unit_price"
         }
        }
       }
      }
     },
     "metadata": {},
     "output_type": "display_data"
    }
   ],
   "source": [
    "px.box(data, \n",
    "             y='unit_price', \n",
    "             title='Box Plot of Unit Price')"
   ]
  },
  {
   "cell_type": "markdown",
   "metadata": {},
   "source": [
    "A little skewed and some outliers too."
   ]
  },
  {
   "cell_type": "code",
   "execution_count": 17,
   "metadata": {},
   "outputs": [
    {
     "data": {
      "application/vnd.plotly.v1+json": {
       "config": {
        "plotlyServerURL": "https://plot.ly"
       },
       "data": [
        {
         "hovertemplate": "qty=%{x}<br>total_price=%{y}<extra></extra>",
         "legendgroup": "",
         "marker": {
          "color": "#636efa",
          "symbol": "circle"
         },
         "mode": "markers",
         "name": "",
         "orientation": "v",
         "showlegend": false,
         "type": "scatter",
         "x": {
          "bdata": "AQMGBAIDCwYTEhENEwUICAYDFAgKBwkOEQsEAgEBDRgJHBwQBQYHAwIBAQEEBgULFAoLCAMICQUGBwsJDRAVHRwYGxwTEw4IBwMDAgEBDBsdDQgLBgECCQ0XKyEgBAcHEREUGAoEDgIIBAISCw4IBgkCAwYJBQQGBgkREhUYGhMUERAOEA0KBw0XDSRFLCcwGhwZDwMGAQI5LQYKAwMDAxMbER9XIB0kIw0dBg4KFkUzIzQbDQUDDQ8mGhscBAEOJyUnWzMMJx8uOAwGBhU6EiEJBQsFBgUKEBoGCA4JChYBBQMDBAMkMg0HBAIBAwIGDQ8ODA0LAwoIBwMHBBMVFxNSKBksGRQRCAkHBAsNEgEPBAYfVXIJCwEBTBoEBAIBAQECCAwGCwQIEQ4FEQgOEhEQEAoJAwQCAQEEBgoCBAQGAR8eDQUEEgEBCwkMFxEKAQcGCAQCAQQCAQcHCgsHDA8RBwoLCwkCAgILEBoeAw4LAQMNDQwNDQoOCQgKCAwcChUQDREBBQkJEBUPFhkTGAkGDgoLBAYCAwgWBwsNAwkODgkBAQsIAgICBAwVDgwOBgcICgUCAhYiOjM8JRcOKBIRFhEGGhcKBwEGCCIEDwQOBAQCAQ0NLCEVFSUcCAcBAwEFAwIGCQEBEAUnKBwFDQUsL3osQVNcAgIDBQIFDxMiDQkBAQQCAgQFAwMBCAwZHAIJERELDQoQBgsCDAYKFxwVExANHAEFBAYBAgcRHBsLBwYFAgYHBgcOERYOCw4DAgQDAwECAwMDBQMGBwsREhcrHyw4GRsJCgIBCgkLAQUGBhcELQ8PBA0MEBICBQMBBgYPEAsWFgcSDQUDBQoPFAQSBQIGIAkgDwILAQwdRxsNCwoHAh0gDBMQCAcCBAIBCjs0IA==",
          "dtype": "i1"
         },
         "xaxis": "x",
         "y": {
          "bdata": "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",
          "dtype": "f8"
         },
         "yaxis": "y"
        },
        {
         "hovertemplate": "<b>OLS trendline</b><br>total_price = 82.5219 * qty + 226.507<br>R<sup>2</sup>=0.561908<br><br>qty=%{x}<br>total_price=%{y} <b>(trend)</b><extra></extra>",
         "legendgroup": "",
         "marker": {
          "color": "#636efa",
          "symbol": "circle"
         },
         "mode": "lines",
         "name": "",
         "showlegend": false,
         "type": "scatter",
         "x": {
          "bdata": "AQEBAQEBAQEBAQEBAQEBAQEBAQEBAQEBAQEBAQEBAQEBAQEBAQEBAQEBAQEBAQEBAgICAgICAgICAgICAgICAgICAgICAgICAgICAgICAgICAgICAgICAgICAgICAgMDAwMDAwMDAwMDAwMDAwMDAwMDAwMDAwMDAwMDAwMDAwMDAwMDAwQEBAQEBAQEBAQEBAQEBAQEBAQEBAQEBAQEBAQEBAQEBAQEBAQFBQUFBQUFBQUFBQUFBQUFBQUFBQUFBQUFBQUFBQYGBgYGBgYGBgYGBgYGBgYGBgYGBgYGBgYGBgYGBgYGBgYGBgYGBgYGBgcHBwcHBwcHBwcHBwcHBwcHBwcHBwcHBwcHBwcICAgICAgICAgICAgICAgICAgICAgICAgICQkJCQkJCQkJCQkJCQkJCQkJCQkJCQkJCQkJCgoKCgoKCgoKCgoKCgoKCgoKCgoKCgoKCgoKCwsLCwsLCwsLCwsLCwsLCwsLCwsLCwsLCwsLCwsLDAwMDAwMDAwMDAwMDAwMDA0NDQ0NDQ0NDQ0NDQ0NDQ0NDQ0NDQ0NDQ0NDQ0NDQ0ODg4ODg4ODg4ODg4ODg4ODg4ODg4ODg8PDw8PDw8PDw8PDw8QEBAQEBAQEBAQEBAQEBAQEREREREREREREREREREREREREREREhISEhISEhISEhISExMTExMTExMTExMTFBQUFBQUFRUVFRUVFRUVFRYWFhYWFhYWFhcXFxcXFxcXFxgYGBgYGRkZGRkZGhoaGhoaGhsbGxsbGxsbHBwcHBwcHBwcHBwcHB0dHR0dHR4eHx8fHx8gICAgICAhISEiIiIjIyQkJCUlJSYnJycnJygoKCsrLCwsLCwsLS0uLzAyMzMzNDQ4ODk6Ojs8QUVFR0xSU1VXW1xyeg==",
          "dtype": "i1"
         },
         "xaxis": "x",
         "y": {
          "bdata": "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",
          "dtype": "f8"
         },
         "yaxis": "y"
        }
       ],
       "layout": {
        "legend": {
         "tracegroupgap": 0
        },
        "template": {
         "data": {
          "bar": [
           {
            "error_x": {
             "color": "#2a3f5f"
            },
            "error_y": {
             "color": "#2a3f5f"
            },
            "marker": {
             "line": {
              "color": "white",
              "width": 0.5
             },
             "pattern": {
              "fillmode": "overlay",
              "size": 10,
              "solidity": 0.2
             }
            },
            "type": "bar"
           }
          ],
          "barpolar": [
           {
            "marker": {
             "line": {
              "color": "white",
              "width": 0.5
             },
             "pattern": {
              "fillmode": "overlay",
              "size": 10,
              "solidity": 0.2
             }
            },
            "type": "barpolar"
           }
          ],
          "carpet": [
           {
            "aaxis": {
             "endlinecolor": "#2a3f5f",
             "gridcolor": "#C8D4E3",
             "linecolor": "#C8D4E3",
             "minorgridcolor": "#C8D4E3",
             "startlinecolor": "#2a3f5f"
            },
            "baxis": {
             "endlinecolor": "#2a3f5f",
             "gridcolor": "#C8D4E3",
             "linecolor": "#C8D4E3",
             "minorgridcolor": "#C8D4E3",
             "startlinecolor": "#2a3f5f"
            },
            "type": "carpet"
           }
          ],
          "choropleth": [
           {
            "colorbar": {
             "outlinewidth": 0,
             "ticks": ""
            },
            "type": "choropleth"
           }
          ],
          "contour": [
           {
            "colorbar": {
             "outlinewidth": 0,
             "ticks": ""
            },
            "colorscale": [
             [
              0,
              "#0d0887"
             ],
             [
              0.1111111111111111,
              "#46039f"
             ],
             [
              0.2222222222222222,
              "#7201a8"
             ],
             [
              0.3333333333333333,
              "#9c179e"
             ],
             [
              0.4444444444444444,
              "#bd3786"
             ],
             [
              0.5555555555555556,
              "#d8576b"
             ],
             [
              0.6666666666666666,
              "#ed7953"
             ],
             [
              0.7777777777777778,
              "#fb9f3a"
             ],
             [
              0.8888888888888888,
              "#fdca26"
             ],
             [
              1,
              "#f0f921"
             ]
            ],
            "type": "contour"
           }
          ],
          "contourcarpet": [
           {
            "colorbar": {
             "outlinewidth": 0,
             "ticks": ""
            },
            "type": "contourcarpet"
           }
          ],
          "heatmap": [
           {
            "colorbar": {
             "outlinewidth": 0,
             "ticks": ""
            },
            "colorscale": [
             [
              0,
              "#0d0887"
             ],
             [
              0.1111111111111111,
              "#46039f"
             ],
             [
              0.2222222222222222,
              "#7201a8"
             ],
             [
              0.3333333333333333,
              "#9c179e"
             ],
             [
              0.4444444444444444,
              "#bd3786"
             ],
             [
              0.5555555555555556,
              "#d8576b"
             ],
             [
              0.6666666666666666,
              "#ed7953"
             ],
             [
              0.7777777777777778,
              "#fb9f3a"
             ],
             [
              0.8888888888888888,
              "#fdca26"
             ],
             [
              1,
              "#f0f921"
             ]
            ],
            "type": "heatmap"
           }
          ],
          "histogram": [
           {
            "marker": {
             "pattern": {
              "fillmode": "overlay",
              "size": 10,
              "solidity": 0.2
             }
            },
            "type": "histogram"
           }
          ],
          "histogram2d": [
           {
            "colorbar": {
             "outlinewidth": 0,
             "ticks": ""
            },
            "colorscale": [
             [
              0,
              "#0d0887"
             ],
             [
              0.1111111111111111,
              "#46039f"
             ],
             [
              0.2222222222222222,
              "#7201a8"
             ],
             [
              0.3333333333333333,
              "#9c179e"
             ],
             [
              0.4444444444444444,
              "#bd3786"
             ],
             [
              0.5555555555555556,
              "#d8576b"
             ],
             [
              0.6666666666666666,
              "#ed7953"
             ],
             [
              0.7777777777777778,
              "#fb9f3a"
             ],
             [
              0.8888888888888888,
              "#fdca26"
             ],
             [
              1,
              "#f0f921"
             ]
            ],
            "type": "histogram2d"
           }
          ],
          "histogram2dcontour": [
           {
            "colorbar": {
             "outlinewidth": 0,
             "ticks": ""
            },
            "colorscale": [
             [
              0,
              "#0d0887"
             ],
             [
              0.1111111111111111,
              "#46039f"
             ],
             [
              0.2222222222222222,
              "#7201a8"
             ],
             [
              0.3333333333333333,
              "#9c179e"
             ],
             [
              0.4444444444444444,
              "#bd3786"
             ],
             [
              0.5555555555555556,
              "#d8576b"
             ],
             [
              0.6666666666666666,
              "#ed7953"
             ],
             [
              0.7777777777777778,
              "#fb9f3a"
             ],
             [
              0.8888888888888888,
              "#fdca26"
             ],
             [
              1,
              "#f0f921"
             ]
            ],
            "type": "histogram2dcontour"
           }
          ],
          "mesh3d": [
           {
            "colorbar": {
             "outlinewidth": 0,
             "ticks": ""
            },
            "type": "mesh3d"
           }
          ],
          "parcoords": [
           {
            "line": {
             "colorbar": {
              "outlinewidth": 0,
              "ticks": ""
             }
            },
            "type": "parcoords"
           }
          ],
          "pie": [
           {
            "automargin": true,
            "type": "pie"
           }
          ],
          "scatter": [
           {
            "fillpattern": {
             "fillmode": "overlay",
             "size": 10,
             "solidity": 0.2
            },
            "type": "scatter"
           }
          ],
          "scatter3d": [
           {
            "line": {
             "colorbar": {
              "outlinewidth": 0,
              "ticks": ""
             }
            },
            "marker": {
             "colorbar": {
              "outlinewidth": 0,
              "ticks": ""
             }
            },
            "type": "scatter3d"
           }
          ],
          "scattercarpet": [
           {
            "marker": {
             "colorbar": {
              "outlinewidth": 0,
              "ticks": ""
             }
            },
            "type": "scattercarpet"
           }
          ],
          "scattergeo": [
           {
            "marker": {
             "colorbar": {
              "outlinewidth": 0,
              "ticks": ""
             }
            },
            "type": "scattergeo"
           }
          ],
          "scattergl": [
           {
            "marker": {
             "colorbar": {
              "outlinewidth": 0,
              "ticks": ""
             }
            },
            "type": "scattergl"
           }
          ],
          "scattermap": [
           {
            "marker": {
             "colorbar": {
              "outlinewidth": 0,
              "ticks": ""
             }
            },
            "type": "scattermap"
           }
          ],
          "scattermapbox": [
           {
            "marker": {
             "colorbar": {
              "outlinewidth": 0,
              "ticks": ""
             }
            },
            "type": "scattermapbox"
           }
          ],
          "scatterpolar": [
           {
            "marker": {
             "colorbar": {
              "outlinewidth": 0,
              "ticks": ""
             }
            },
            "type": "scatterpolar"
           }
          ],
          "scatterpolargl": [
           {
            "marker": {
             "colorbar": {
              "outlinewidth": 0,
              "ticks": ""
             }
            },
            "type": "scatterpolargl"
           }
          ],
          "scatterternary": [
           {
            "marker": {
             "colorbar": {
              "outlinewidth": 0,
              "ticks": ""
             }
            },
            "type": "scatterternary"
           }
          ],
          "surface": [
           {
            "colorbar": {
             "outlinewidth": 0,
             "ticks": ""
            },
            "colorscale": [
             [
              0,
              "#0d0887"
             ],
             [
              0.1111111111111111,
              "#46039f"
             ],
             [
              0.2222222222222222,
              "#7201a8"
             ],
             [
              0.3333333333333333,
              "#9c179e"
             ],
             [
              0.4444444444444444,
              "#bd3786"
             ],
             [
              0.5555555555555556,
              "#d8576b"
             ],
             [
              0.6666666666666666,
              "#ed7953"
             ],
             [
              0.7777777777777778,
              "#fb9f3a"
             ],
             [
              0.8888888888888888,
              "#fdca26"
             ],
             [
              1,
              "#f0f921"
             ]
            ],
            "type": "surface"
           }
          ],
          "table": [
           {
            "cells": {
             "fill": {
              "color": "#EBF0F8"
             },
             "line": {
              "color": "white"
             }
            },
            "header": {
             "fill": {
              "color": "#C8D4E3"
             },
             "line": {
              "color": "white"
             }
            },
            "type": "table"
           }
          ]
         },
         "layout": {
          "annotationdefaults": {
           "arrowcolor": "#2a3f5f",
           "arrowhead": 0,
           "arrowwidth": 1
          },
          "autotypenumbers": "strict",
          "coloraxis": {
           "colorbar": {
            "outlinewidth": 0,
            "ticks": ""
           }
          },
          "colorscale": {
           "diverging": [
            [
             0,
             "#8e0152"
            ],
            [
             0.1,
             "#c51b7d"
            ],
            [
             0.2,
             "#de77ae"
            ],
            [
             0.3,
             "#f1b6da"
            ],
            [
             0.4,
             "#fde0ef"
            ],
            [
             0.5,
             "#f7f7f7"
            ],
            [
             0.6,
             "#e6f5d0"
            ],
            [
             0.7,
             "#b8e186"
            ],
            [
             0.8,
             "#7fbc41"
            ],
            [
             0.9,
             "#4d9221"
            ],
            [
             1,
             "#276419"
            ]
           ],
           "sequential": [
            [
             0,
             "#0d0887"
            ],
            [
             0.1111111111111111,
             "#46039f"
            ],
            [
             0.2222222222222222,
             "#7201a8"
            ],
            [
             0.3333333333333333,
             "#9c179e"
            ],
            [
             0.4444444444444444,
             "#bd3786"
            ],
            [
             0.5555555555555556,
             "#d8576b"
            ],
            [
             0.6666666666666666,
             "#ed7953"
            ],
            [
             0.7777777777777778,
             "#fb9f3a"
            ],
            [
             0.8888888888888888,
             "#fdca26"
            ],
            [
             1,
             "#f0f921"
            ]
           ],
           "sequentialminus": [
            [
             0,
             "#0d0887"
            ],
            [
             0.1111111111111111,
             "#46039f"
            ],
            [
             0.2222222222222222,
             "#7201a8"
            ],
            [
             0.3333333333333333,
             "#9c179e"
            ],
            [
             0.4444444444444444,
             "#bd3786"
            ],
            [
             0.5555555555555556,
             "#d8576b"
            ],
            [
             0.6666666666666666,
             "#ed7953"
            ],
            [
             0.7777777777777778,
             "#fb9f3a"
            ],
            [
             0.8888888888888888,
             "#fdca26"
            ],
            [
             1,
             "#f0f921"
            ]
           ]
          },
          "colorway": [
           "#636efa",
           "#EF553B",
           "#00cc96",
           "#ab63fa",
           "#FFA15A",
           "#19d3f3",
           "#FF6692",
           "#B6E880",
           "#FF97FF",
           "#FECB52"
          ],
          "font": {
           "color": "#2a3f5f"
          },
          "geo": {
           "bgcolor": "white",
           "lakecolor": "white",
           "landcolor": "white",
           "showlakes": true,
           "showland": true,
           "subunitcolor": "#C8D4E3"
          },
          "hoverlabel": {
           "align": "left"
          },
          "hovermode": "closest",
          "mapbox": {
           "style": "light"
          },
          "paper_bgcolor": "white",
          "plot_bgcolor": "white",
          "polar": {
           "angularaxis": {
            "gridcolor": "#EBF0F8",
            "linecolor": "#EBF0F8",
            "ticks": ""
           },
           "bgcolor": "white",
           "radialaxis": {
            "gridcolor": "#EBF0F8",
            "linecolor": "#EBF0F8",
            "ticks": ""
           }
          },
          "scene": {
           "xaxis": {
            "backgroundcolor": "white",
            "gridcolor": "#DFE8F3",
            "gridwidth": 2,
            "linecolor": "#EBF0F8",
            "showbackground": true,
            "ticks": "",
            "zerolinecolor": "#EBF0F8"
           },
           "yaxis": {
            "backgroundcolor": "white",
            "gridcolor": "#DFE8F3",
            "gridwidth": 2,
            "linecolor": "#EBF0F8",
            "showbackground": true,
            "ticks": "",
            "zerolinecolor": "#EBF0F8"
           },
           "zaxis": {
            "backgroundcolor": "white",
            "gridcolor": "#DFE8F3",
            "gridwidth": 2,
            "linecolor": "#EBF0F8",
            "showbackground": true,
            "ticks": "",
            "zerolinecolor": "#EBF0F8"
           }
          },
          "shapedefaults": {
           "line": {
            "color": "#2a3f5f"
           }
          },
          "ternary": {
           "aaxis": {
            "gridcolor": "#DFE8F3",
            "linecolor": "#A2B1C6",
            "ticks": ""
           },
           "baxis": {
            "gridcolor": "#DFE8F3",
            "linecolor": "#A2B1C6",
            "ticks": ""
           },
           "bgcolor": "white",
           "caxis": {
            "gridcolor": "#DFE8F3",
            "linecolor": "#A2B1C6",
            "ticks": ""
           }
          },
          "title": {
           "x": 0.05
          },
          "xaxis": {
           "automargin": true,
           "gridcolor": "#EBF0F8",
           "linecolor": "#EBF0F8",
           "ticks": "",
           "title": {
            "standoff": 15
           },
           "zerolinecolor": "#EBF0F8",
           "zerolinewidth": 2
          },
          "yaxis": {
           "automargin": true,
           "gridcolor": "#EBF0F8",
           "linecolor": "#EBF0F8",
           "ticks": "",
           "title": {
            "standoff": 15
           },
           "zerolinecolor": "#EBF0F8",
           "zerolinewidth": 2
          }
         }
        },
        "title": {
         "text": "Quantity vs Total Price"
        },
        "xaxis": {
         "anchor": "y",
         "domain": [
          0,
          1
         ],
         "title": {
          "text": "qty"
         }
        },
        "yaxis": {
         "anchor": "x",
         "domain": [
          0,
          1
         ],
         "title": {
          "text": "total_price"
         }
        }
       }
      }
     },
     "metadata": {},
     "output_type": "display_data"
    }
   ],
   "source": [
    "px.scatter(data, \n",
    "                 x='qty', \n",
    "                 y='total_price', \n",
    "                 title='Quantity vs Total Price', trendline=\"ols\")"
   ]
  },
  {
   "cell_type": "markdown",
   "metadata": {},
   "source": [
    "Thus, the relationship between quantity and total prices is linear. It indicates that the price structure is based on a fixed unit price, where the total price is calculated by multiplying the quantity by the unit price."
   ]
  },
  {
   "cell_type": "code",
   "execution_count": 18,
   "metadata": {},
   "outputs": [
    {
     "data": {
      "application/vnd.plotly.v1+json": {
       "config": {
        "plotlyServerURL": "https://plot.ly"
       },
       "data": [
        {
         "hovertemplate": "product_category_name=%{x}<br>total_price=%{y}<extra></extra>",
         "legendgroup": "",
         "marker": {
          "color": "#636efa",
          "pattern": {
           "shape": ""
          }
         },
         "name": "",
         "orientation": "v",
         "showlegend": false,
         "textposition": "auto",
         "type": "bar",
         "x": [
          "bed_bath_table",
          "bed_bath_table",
          "bed_bath_table",
          "bed_bath_table",
          "bed_bath_table",
          "bed_bath_table",
          "bed_bath_table",
          "bed_bath_table",
          "bed_bath_table",
          "bed_bath_table",
          "bed_bath_table",
          "bed_bath_table",
          "bed_bath_table",
          "bed_bath_table",
          "bed_bath_table",
          "bed_bath_table",
          "garden_tools",
          "garden_tools",
          "garden_tools",
          "garden_tools",
          "garden_tools",
          "garden_tools",
          "garden_tools",
          "garden_tools",
          "garden_tools",
          "garden_tools",
          "garden_tools",
          "garden_tools",
          "garden_tools",
          "garden_tools",
          "consoles_games",
          "consoles_games",
          "consoles_games",
          "consoles_games",
          "consoles_games",
          "consoles_games",
          "consoles_games",
          "consoles_games",
          "consoles_games",
          "consoles_games",
          "consoles_games",
          "consoles_games",
          "garden_tools",
          "garden_tools",
          "garden_tools",
          "garden_tools",
          "garden_tools",
          "garden_tools",
          "garden_tools",
          "garden_tools",
          "garden_tools",
          "garden_tools",
          "garden_tools",
          "garden_tools",
          "garden_tools",
          "garden_tools",
          "garden_tools",
          "garden_tools",
          "health_beauty",
          "health_beauty",
          "health_beauty",
          "health_beauty",
          "health_beauty",
          "health_beauty",
          "health_beauty",
          "health_beauty",
          "health_beauty",
          "health_beauty",
          "health_beauty",
          "health_beauty",
          "health_beauty",
          "health_beauty",
          "health_beauty",
          "health_beauty",
          "health_beauty",
          "health_beauty",
          "cool_stuff",
          "cool_stuff",
          "cool_stuff",
          "cool_stuff",
          "cool_stuff",
          "cool_stuff",
          "cool_stuff",
          "cool_stuff",
          "cool_stuff",
          "health_beauty",
          "health_beauty",
          "health_beauty",
          "health_beauty",
          "health_beauty",
          "health_beauty",
          "health_beauty",
          "health_beauty",
          "perfumery",
          "perfumery",
          "perfumery",
          "perfumery",
          "perfumery",
          "perfumery",
          "perfumery",
          "perfumery",
          "perfumery",
          "perfumery",
          "perfumery",
          "perfumery",
          "perfumery",
          "cool_stuff",
          "cool_stuff",
          "cool_stuff",
          "cool_stuff",
          "cool_stuff",
          "cool_stuff",
          "cool_stuff",
          "cool_stuff",
          "cool_stuff",
          "cool_stuff",
          "cool_stuff",
          "cool_stuff",
          "cool_stuff",
          "health_beauty",
          "health_beauty",
          "health_beauty",
          "health_beauty",
          "health_beauty",
          "health_beauty",
          "health_beauty",
          "health_beauty",
          "health_beauty",
          "health_beauty",
          "health_beauty",
          "health_beauty",
          "health_beauty",
          "health_beauty",
          "health_beauty",
          "health_beauty",
          "health_beauty",
          "garden_tools",
          "garden_tools",
          "garden_tools",
          "garden_tools",
          "garden_tools",
          "garden_tools",
          "garden_tools",
          "garden_tools",
          "garden_tools",
          "garden_tools",
          "garden_tools",
          "garden_tools",
          "garden_tools",
          "garden_tools",
          "computers_accessories",
          "computers_accessories",
          "computers_accessories",
          "computers_accessories",
          "computers_accessories",
          "computers_accessories",
          "computers_accessories",
          "computers_accessories",
          "garden_tools",
          "garden_tools",
          "garden_tools",
          "garden_tools",
          "garden_tools",
          "garden_tools",
          "garden_tools",
          "garden_tools",
          "garden_tools",
          "garden_tools",
          "garden_tools",
          "garden_tools",
          "garden_tools",
          "garden_tools",
          "garden_tools",
          "garden_tools",
          "computers_accessories",
          "computers_accessories",
          "computers_accessories",
          "computers_accessories",
          "computers_accessories",
          "computers_accessories",
          "computers_accessories",
          "computers_accessories",
          "health_beauty",
          "health_beauty",
          "health_beauty",
          "health_beauty",
          "health_beauty",
          "health_beauty",
          "health_beauty",
          "garden_tools",
          "garden_tools",
          "garden_tools",
          "garden_tools",
          "garden_tools",
          "garden_tools",
          "garden_tools",
          "garden_tools",
          "garden_tools",
          "garden_tools",
          "garden_tools",
          "garden_tools",
          "garden_tools",
          "garden_tools",
          "garden_tools",
          "garden_tools",
          "health_beauty",
          "health_beauty",
          "health_beauty",
          "health_beauty",
          "health_beauty",
          "health_beauty",
          "health_beauty",
          "watches_gifts",
          "watches_gifts",
          "watches_gifts",
          "watches_gifts",
          "watches_gifts",
          "watches_gifts",
          "watches_gifts",
          "watches_gifts",
          "watches_gifts",
          "watches_gifts",
          "watches_gifts",
          "watches_gifts",
          "watches_gifts",
          "watches_gifts",
          "watches_gifts",
          "health_beauty",
          "health_beauty",
          "health_beauty",
          "health_beauty",
          "health_beauty",
          "health_beauty",
          "health_beauty",
          "health_beauty",
          "health_beauty",
          "garden_tools",
          "garden_tools",
          "garden_tools",
          "garden_tools",
          "garden_tools",
          "garden_tools",
          "garden_tools",
          "garden_tools",
          "garden_tools",
          "garden_tools",
          "garden_tools",
          "garden_tools",
          "garden_tools",
          "garden_tools",
          "garden_tools",
          "garden_tools",
          "garden_tools",
          "garden_tools",
          "garden_tools",
          "garden_tools",
          "garden_tools",
          "garden_tools",
          "garden_tools",
          "garden_tools",
          "garden_tools",
          "garden_tools",
          "garden_tools",
          "garden_tools",
          "garden_tools",
          "garden_tools",
          "garden_tools",
          "watches_gifts",
          "watches_gifts",
          "watches_gifts",
          "watches_gifts",
          "watches_gifts",
          "watches_gifts",
          "watches_gifts",
          "watches_gifts",
          "watches_gifts",
          "watches_gifts",
          "watches_gifts",
          "watches_gifts",
          "watches_gifts",
          "watches_gifts",
          "cool_stuff",
          "cool_stuff",
          "cool_stuff",
          "cool_stuff",
          "cool_stuff",
          "cool_stuff",
          "cool_stuff",
          "perfumery",
          "perfumery",
          "perfumery",
          "perfumery",
          "perfumery",
          "perfumery",
          "perfumery",
          "perfumery",
          "perfumery",
          "perfumery",
          "perfumery",
          "perfumery",
          "perfumery",
          "cool_stuff",
          "cool_stuff",
          "cool_stuff",
          "cool_stuff",
          "cool_stuff",
          "cool_stuff",
          "cool_stuff",
          "cool_stuff",
          "cool_stuff",
          "cool_stuff",
          "cool_stuff",
          "cool_stuff",
          "cool_stuff",
          "computers_accessories",
          "computers_accessories",
          "computers_accessories",
          "computers_accessories",
          "computers_accessories",
          "computers_accessories",
          "computers_accessories",
          "computers_accessories",
          "computers_accessories",
          "computers_accessories",
          "computers_accessories",
          "computers_accessories",
          "computers_accessories",
          "computers_accessories",
          "computers_accessories",
          "consoles_games",
          "consoles_games",
          "consoles_games",
          "consoles_games",
          "consoles_games",
          "consoles_games",
          "consoles_games",
          "consoles_games",
          "consoles_games",
          "consoles_games",
          "health_beauty",
          "health_beauty",
          "health_beauty",
          "health_beauty",
          "health_beauty",
          "health_beauty",
          "health_beauty",
          "health_beauty",
          "health_beauty",
          "health_beauty",
          "health_beauty",
          "health_beauty",
          "health_beauty",
          "health_beauty",
          "health_beauty",
          "health_beauty",
          "health_beauty",
          "health_beauty",
          "health_beauty",
          "health_beauty",
          "watches_gifts",
          "watches_gifts",
          "watches_gifts",
          "watches_gifts",
          "watches_gifts",
          "watches_gifts",
          "watches_gifts",
          "watches_gifts",
          "watches_gifts",
          "watches_gifts",
          "furniture_decor",
          "furniture_decor",
          "furniture_decor",
          "furniture_decor",
          "furniture_decor",
          "furniture_decor",
          "furniture_decor",
          "furniture_decor",
          "furniture_decor",
          "furniture_decor",
          "watches_gifts",
          "watches_gifts",
          "watches_gifts",
          "watches_gifts",
          "watches_gifts",
          "watches_gifts",
          "watches_gifts",
          "watches_gifts",
          "watches_gifts",
          "watches_gifts",
          "health_beauty",
          "health_beauty",
          "health_beauty",
          "health_beauty",
          "health_beauty",
          "health_beauty",
          "health_beauty",
          "health_beauty",
          "health_beauty",
          "health_beauty",
          "health_beauty",
          "health_beauty",
          "health_beauty",
          "health_beauty",
          "health_beauty",
          "health_beauty",
          "health_beauty",
          "health_beauty",
          "health_beauty",
          "health_beauty",
          "bed_bath_table",
          "bed_bath_table",
          "bed_bath_table",
          "bed_bath_table",
          "bed_bath_table",
          "bed_bath_table",
          "bed_bath_table",
          "bed_bath_table",
          "bed_bath_table",
          "bed_bath_table",
          "bed_bath_table",
          "garden_tools",
          "garden_tools",
          "garden_tools",
          "garden_tools",
          "garden_tools",
          "garden_tools",
          "garden_tools",
          "garden_tools",
          "garden_tools",
          "garden_tools",
          "garden_tools",
          "garden_tools",
          "garden_tools",
          "garden_tools",
          "garden_tools",
          "garden_tools",
          "garden_tools",
          "garden_tools",
          "bed_bath_table",
          "bed_bath_table",
          "bed_bath_table",
          "bed_bath_table",
          "bed_bath_table",
          "bed_bath_table",
          "bed_bath_table",
          "bed_bath_table",
          "bed_bath_table",
          "bed_bath_table",
          "bed_bath_table",
          "bed_bath_table",
          "bed_bath_table",
          "bed_bath_table",
          "bed_bath_table",
          "bed_bath_table",
          "bed_bath_table",
          "bed_bath_table",
          "bed_bath_table",
          "furniture_decor",
          "furniture_decor",
          "furniture_decor",
          "furniture_decor",
          "furniture_decor",
          "furniture_decor",
          "furniture_decor",
          "furniture_decor",
          "furniture_decor",
          "furniture_decor",
          "furniture_decor",
          "furniture_decor",
          "watches_gifts",
          "watches_gifts",
          "watches_gifts",
          "watches_gifts",
          "watches_gifts",
          "watches_gifts",
          "watches_gifts",
          "watches_gifts",
          "watches_gifts",
          "watches_gifts",
          "watches_gifts",
          "watches_gifts",
          "watches_gifts",
          "watches_gifts",
          "watches_gifts",
          "watches_gifts",
          "watches_gifts",
          "watches_gifts",
          "watches_gifts",
          "watches_gifts",
          "watches_gifts",
          "watches_gifts",
          "watches_gifts",
          "watches_gifts",
          "watches_gifts",
          "furniture_decor",
          "furniture_decor",
          "furniture_decor",
          "furniture_decor",
          "furniture_decor",
          "furniture_decor",
          "furniture_decor",
          "furniture_decor",
          "furniture_decor",
          "furniture_decor",
          "furniture_decor",
          "furniture_decor",
          "furniture_decor",
          "garden_tools",
          "garden_tools",
          "garden_tools",
          "garden_tools",
          "garden_tools",
          "garden_tools",
          "garden_tools",
          "garden_tools",
          "garden_tools",
          "garden_tools",
          "garden_tools",
          "garden_tools",
          "garden_tools",
          "garden_tools",
          "garden_tools",
          "garden_tools",
          "garden_tools",
          "furniture_decor",
          "furniture_decor",
          "furniture_decor",
          "furniture_decor",
          "furniture_decor",
          "furniture_decor",
          "furniture_decor",
          "furniture_decor",
          "furniture_decor",
          "furniture_decor",
          "furniture_decor",
          "furniture_decor",
          "furniture_decor",
          "health_beauty",
          "health_beauty",
          "health_beauty",
          "health_beauty",
          "health_beauty",
          "health_beauty",
          "health_beauty",
          "health_beauty",
          "health_beauty",
          "health_beauty",
          "health_beauty",
          "health_beauty",
          "health_beauty",
          "garden_tools",
          "garden_tools",
          "garden_tools",
          "garden_tools",
          "garden_tools",
          "garden_tools",
          "garden_tools",
          "garden_tools",
          "garden_tools",
          "garden_tools",
          "garden_tools",
          "garden_tools",
          "garden_tools",
          "garden_tools",
          "garden_tools",
          "garden_tools",
          "garden_tools",
          "garden_tools",
          "cool_stuff",
          "cool_stuff",
          "cool_stuff",
          "cool_stuff",
          "cool_stuff",
          "cool_stuff",
          "cool_stuff",
          "cool_stuff",
          "cool_stuff",
          "cool_stuff",
          "cool_stuff",
          "cool_stuff",
          "cool_stuff",
          "cool_stuff",
          "cool_stuff",
          "computers_accessories",
          "computers_accessories",
          "computers_accessories",
          "computers_accessories",
          "computers_accessories",
          "computers_accessories",
          "computers_accessories",
          "computers_accessories",
          "computers_accessories",
          "computers_accessories",
          "computers_accessories",
          "computers_accessories",
          "computers_accessories",
          "computers_accessories",
          "computers_accessories",
          "computers_accessories",
          "computers_accessories",
          "computers_accessories",
          "watches_gifts",
          "watches_gifts",
          "watches_gifts",
          "watches_gifts",
          "watches_gifts",
          "watches_gifts",
          "watches_gifts",
          "watches_gifts",
          "watches_gifts",
          "watches_gifts",
          "watches_gifts",
          "watches_gifts",
          "computers_accessories",
          "computers_accessories",
          "computers_accessories",
          "computers_accessories",
          "computers_accessories",
          "computers_accessories",
          "computers_accessories",
          "computers_accessories",
          "computers_accessories",
          "computers_accessories",
          "health_beauty",
          "health_beauty",
          "health_beauty",
          "health_beauty",
          "health_beauty",
          "health_beauty",
          "health_beauty",
          "health_beauty",
          "health_beauty",
          "health_beauty",
          "health_beauty",
          "watches_gifts",
          "watches_gifts",
          "watches_gifts",
          "watches_gifts",
          "watches_gifts",
          "watches_gifts",
          "watches_gifts",
          "watches_gifts",
          "watches_gifts",
          "watches_gifts",
          "watches_gifts",
          "watches_gifts",
          "watches_gifts",
          "watches_gifts",
          "watches_gifts",
          "watches_gifts",
          "watches_gifts",
          "computers_accessories",
          "computers_accessories",
          "computers_accessories",
          "computers_accessories",
          "computers_accessories",
          "computers_accessories",
          "computers_accessories",
          "computers_accessories",
          "computers_accessories",
          "computers_accessories",
          "bed_bath_table",
          "bed_bath_table",
          "bed_bath_table",
          "bed_bath_table",
          "bed_bath_table",
          "bed_bath_table",
          "bed_bath_table",
          "bed_bath_table",
          "bed_bath_table",
          "bed_bath_table",
          "bed_bath_table",
          "bed_bath_table",
          "bed_bath_table",
          "bed_bath_table",
          "bed_bath_table"
         ],
         "xaxis": "x",
         "y": {
          "bdata": "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",
          "dtype": "f8"
         },
         "yaxis": "y"
        }
       ],
       "layout": {
        "barmode": "relative",
        "legend": {
         "tracegroupgap": 0
        },
        "template": {
         "data": {
          "bar": [
           {
            "error_x": {
             "color": "#2a3f5f"
            },
            "error_y": {
             "color": "#2a3f5f"
            },
            "marker": {
             "line": {
              "color": "white",
              "width": 0.5
             },
             "pattern": {
              "fillmode": "overlay",
              "size": 10,
              "solidity": 0.2
             }
            },
            "type": "bar"
           }
          ],
          "barpolar": [
           {
            "marker": {
             "line": {
              "color": "white",
              "width": 0.5
             },
             "pattern": {
              "fillmode": "overlay",
              "size": 10,
              "solidity": 0.2
             }
            },
            "type": "barpolar"
           }
          ],
          "carpet": [
           {
            "aaxis": {
             "endlinecolor": "#2a3f5f",
             "gridcolor": "#C8D4E3",
             "linecolor": "#C8D4E3",
             "minorgridcolor": "#C8D4E3",
             "startlinecolor": "#2a3f5f"
            },
            "baxis": {
             "endlinecolor": "#2a3f5f",
             "gridcolor": "#C8D4E3",
             "linecolor": "#C8D4E3",
             "minorgridcolor": "#C8D4E3",
             "startlinecolor": "#2a3f5f"
            },
            "type": "carpet"
           }
          ],
          "choropleth": [
           {
            "colorbar": {
             "outlinewidth": 0,
             "ticks": ""
            },
            "type": "choropleth"
           }
          ],
          "contour": [
           {
            "colorbar": {
             "outlinewidth": 0,
             "ticks": ""
            },
            "colorscale": [
             [
              0,
              "#0d0887"
             ],
             [
              0.1111111111111111,
              "#46039f"
             ],
             [
              0.2222222222222222,
              "#7201a8"
             ],
             [
              0.3333333333333333,
              "#9c179e"
             ],
             [
              0.4444444444444444,
              "#bd3786"
             ],
             [
              0.5555555555555556,
              "#d8576b"
             ],
             [
              0.6666666666666666,
              "#ed7953"
             ],
             [
              0.7777777777777778,
              "#fb9f3a"
             ],
             [
              0.8888888888888888,
              "#fdca26"
             ],
             [
              1,
              "#f0f921"
             ]
            ],
            "type": "contour"
           }
          ],
          "contourcarpet": [
           {
            "colorbar": {
             "outlinewidth": 0,
             "ticks": ""
            },
            "type": "contourcarpet"
           }
          ],
          "heatmap": [
           {
            "colorbar": {
             "outlinewidth": 0,
             "ticks": ""
            },
            "colorscale": [
             [
              0,
              "#0d0887"
             ],
             [
              0.1111111111111111,
              "#46039f"
             ],
             [
              0.2222222222222222,
              "#7201a8"
             ],
             [
              0.3333333333333333,
              "#9c179e"
             ],
             [
              0.4444444444444444,
              "#bd3786"
             ],
             [
              0.5555555555555556,
              "#d8576b"
             ],
             [
              0.6666666666666666,
              "#ed7953"
             ],
             [
              0.7777777777777778,
              "#fb9f3a"
             ],
             [
              0.8888888888888888,
              "#fdca26"
             ],
             [
              1,
              "#f0f921"
             ]
            ],
            "type": "heatmap"
           }
          ],
          "histogram": [
           {
            "marker": {
             "pattern": {
              "fillmode": "overlay",
              "size": 10,
              "solidity": 0.2
             }
            },
            "type": "histogram"
           }
          ],
          "histogram2d": [
           {
            "colorbar": {
             "outlinewidth": 0,
             "ticks": ""
            },
            "colorscale": [
             [
              0,
              "#0d0887"
             ],
             [
              0.1111111111111111,
              "#46039f"
             ],
             [
              0.2222222222222222,
              "#7201a8"
             ],
             [
              0.3333333333333333,
              "#9c179e"
             ],
             [
              0.4444444444444444,
              "#bd3786"
             ],
             [
              0.5555555555555556,
              "#d8576b"
             ],
             [
              0.6666666666666666,
              "#ed7953"
             ],
             [
              0.7777777777777778,
              "#fb9f3a"
             ],
             [
              0.8888888888888888,
              "#fdca26"
             ],
             [
              1,
              "#f0f921"
             ]
            ],
            "type": "histogram2d"
           }
          ],
          "histogram2dcontour": [
           {
            "colorbar": {
             "outlinewidth": 0,
             "ticks": ""
            },
            "colorscale": [
             [
              0,
              "#0d0887"
             ],
             [
              0.1111111111111111,
              "#46039f"
             ],
             [
              0.2222222222222222,
              "#7201a8"
             ],
             [
              0.3333333333333333,
              "#9c179e"
             ],
             [
              0.4444444444444444,
              "#bd3786"
             ],
             [
              0.5555555555555556,
              "#d8576b"
             ],
             [
              0.6666666666666666,
              "#ed7953"
             ],
             [
              0.7777777777777778,
              "#fb9f3a"
             ],
             [
              0.8888888888888888,
              "#fdca26"
             ],
             [
              1,
              "#f0f921"
             ]
            ],
            "type": "histogram2dcontour"
           }
          ],
          "mesh3d": [
           {
            "colorbar": {
             "outlinewidth": 0,
             "ticks": ""
            },
            "type": "mesh3d"
           }
          ],
          "parcoords": [
           {
            "line": {
             "colorbar": {
              "outlinewidth": 0,
              "ticks": ""
             }
            },
            "type": "parcoords"
           }
          ],
          "pie": [
           {
            "automargin": true,
            "type": "pie"
           }
          ],
          "scatter": [
           {
            "fillpattern": {
             "fillmode": "overlay",
             "size": 10,
             "solidity": 0.2
            },
            "type": "scatter"
           }
          ],
          "scatter3d": [
           {
            "line": {
             "colorbar": {
              "outlinewidth": 0,
              "ticks": ""
             }
            },
            "marker": {
             "colorbar": {
              "outlinewidth": 0,
              "ticks": ""
             }
            },
            "type": "scatter3d"
           }
          ],
          "scattercarpet": [
           {
            "marker": {
             "colorbar": {
              "outlinewidth": 0,
              "ticks": ""
             }
            },
            "type": "scattercarpet"
           }
          ],
          "scattergeo": [
           {
            "marker": {
             "colorbar": {
              "outlinewidth": 0,
              "ticks": ""
             }
            },
            "type": "scattergeo"
           }
          ],
          "scattergl": [
           {
            "marker": {
             "colorbar": {
              "outlinewidth": 0,
              "ticks": ""
             }
            },
            "type": "scattergl"
           }
          ],
          "scattermap": [
           {
            "marker": {
             "colorbar": {
              "outlinewidth": 0,
              "ticks": ""
             }
            },
            "type": "scattermap"
           }
          ],
          "scattermapbox": [
           {
            "marker": {
             "colorbar": {
              "outlinewidth": 0,
              "ticks": ""
             }
            },
            "type": "scattermapbox"
           }
          ],
          "scatterpolar": [
           {
            "marker": {
             "colorbar": {
              "outlinewidth": 0,
              "ticks": ""
             }
            },
            "type": "scatterpolar"
           }
          ],
          "scatterpolargl": [
           {
            "marker": {
             "colorbar": {
              "outlinewidth": 0,
              "ticks": ""
             }
            },
            "type": "scatterpolargl"
           }
          ],
          "scatterternary": [
           {
            "marker": {
             "colorbar": {
              "outlinewidth": 0,
              "ticks": ""
             }
            },
            "type": "scatterternary"
           }
          ],
          "surface": [
           {
            "colorbar": {
             "outlinewidth": 0,
             "ticks": ""
            },
            "colorscale": [
             [
              0,
              "#0d0887"
             ],
             [
              0.1111111111111111,
              "#46039f"
             ],
             [
              0.2222222222222222,
              "#7201a8"
             ],
             [
              0.3333333333333333,
              "#9c179e"
             ],
             [
              0.4444444444444444,
              "#bd3786"
             ],
             [
              0.5555555555555556,
              "#d8576b"
             ],
             [
              0.6666666666666666,
              "#ed7953"
             ],
             [
              0.7777777777777778,
              "#fb9f3a"
             ],
             [
              0.8888888888888888,
              "#fdca26"
             ],
             [
              1,
              "#f0f921"
             ]
            ],
            "type": "surface"
           }
          ],
          "table": [
           {
            "cells": {
             "fill": {
              "color": "#EBF0F8"
             },
             "line": {
              "color": "white"
             }
            },
            "header": {
             "fill": {
              "color": "#C8D4E3"
             },
             "line": {
              "color": "white"
             }
            },
            "type": "table"
           }
          ]
         },
         "layout": {
          "annotationdefaults": {
           "arrowcolor": "#2a3f5f",
           "arrowhead": 0,
           "arrowwidth": 1
          },
          "autotypenumbers": "strict",
          "coloraxis": {
           "colorbar": {
            "outlinewidth": 0,
            "ticks": ""
           }
          },
          "colorscale": {
           "diverging": [
            [
             0,
             "#8e0152"
            ],
            [
             0.1,
             "#c51b7d"
            ],
            [
             0.2,
             "#de77ae"
            ],
            [
             0.3,
             "#f1b6da"
            ],
            [
             0.4,
             "#fde0ef"
            ],
            [
             0.5,
             "#f7f7f7"
            ],
            [
             0.6,
             "#e6f5d0"
            ],
            [
             0.7,
             "#b8e186"
            ],
            [
             0.8,
             "#7fbc41"
            ],
            [
             0.9,
             "#4d9221"
            ],
            [
             1,
             "#276419"
            ]
           ],
           "sequential": [
            [
             0,
             "#0d0887"
            ],
            [
             0.1111111111111111,
             "#46039f"
            ],
            [
             0.2222222222222222,
             "#7201a8"
            ],
            [
             0.3333333333333333,
             "#9c179e"
            ],
            [
             0.4444444444444444,
             "#bd3786"
            ],
            [
             0.5555555555555556,
             "#d8576b"
            ],
            [
             0.6666666666666666,
             "#ed7953"
            ],
            [
             0.7777777777777778,
             "#fb9f3a"
            ],
            [
             0.8888888888888888,
             "#fdca26"
            ],
            [
             1,
             "#f0f921"
            ]
           ],
           "sequentialminus": [
            [
             0,
             "#0d0887"
            ],
            [
             0.1111111111111111,
             "#46039f"
            ],
            [
             0.2222222222222222,
             "#7201a8"
            ],
            [
             0.3333333333333333,
             "#9c179e"
            ],
            [
             0.4444444444444444,
             "#bd3786"
            ],
            [
             0.5555555555555556,
             "#d8576b"
            ],
            [
             0.6666666666666666,
             "#ed7953"
            ],
            [
             0.7777777777777778,
             "#fb9f3a"
            ],
            [
             0.8888888888888888,
             "#fdca26"
            ],
            [
             1,
             "#f0f921"
            ]
           ]
          },
          "colorway": [
           "#636efa",
           "#EF553B",
           "#00cc96",
           "#ab63fa",
           "#FFA15A",
           "#19d3f3",
           "#FF6692",
           "#B6E880",
           "#FF97FF",
           "#FECB52"
          ],
          "font": {
           "color": "#2a3f5f"
          },
          "geo": {
           "bgcolor": "white",
           "lakecolor": "white",
           "landcolor": "white",
           "showlakes": true,
           "showland": true,
           "subunitcolor": "#C8D4E3"
          },
          "hoverlabel": {
           "align": "left"
          },
          "hovermode": "closest",
          "mapbox": {
           "style": "light"
          },
          "paper_bgcolor": "white",
          "plot_bgcolor": "white",
          "polar": {
           "angularaxis": {
            "gridcolor": "#EBF0F8",
            "linecolor": "#EBF0F8",
            "ticks": ""
           },
           "bgcolor": "white",
           "radialaxis": {
            "gridcolor": "#EBF0F8",
            "linecolor": "#EBF0F8",
            "ticks": ""
           }
          },
          "scene": {
           "xaxis": {
            "backgroundcolor": "white",
            "gridcolor": "#DFE8F3",
            "gridwidth": 2,
            "linecolor": "#EBF0F8",
            "showbackground": true,
            "ticks": "",
            "zerolinecolor": "#EBF0F8"
           },
           "yaxis": {
            "backgroundcolor": "white",
            "gridcolor": "#DFE8F3",
            "gridwidth": 2,
            "linecolor": "#EBF0F8",
            "showbackground": true,
            "ticks": "",
            "zerolinecolor": "#EBF0F8"
           },
           "zaxis": {
            "backgroundcolor": "white",
            "gridcolor": "#DFE8F3",
            "gridwidth": 2,
            "linecolor": "#EBF0F8",
            "showbackground": true,
            "ticks": "",
            "zerolinecolor": "#EBF0F8"
           }
          },
          "shapedefaults": {
           "line": {
            "color": "#2a3f5f"
           }
          },
          "ternary": {
           "aaxis": {
            "gridcolor": "#DFE8F3",
            "linecolor": "#A2B1C6",
            "ticks": ""
           },
           "baxis": {
            "gridcolor": "#DFE8F3",
            "linecolor": "#A2B1C6",
            "ticks": ""
           },
           "bgcolor": "white",
           "caxis": {
            "gridcolor": "#DFE8F3",
            "linecolor": "#A2B1C6",
            "ticks": ""
           }
          },
          "title": {
           "x": 0.05
          },
          "xaxis": {
           "automargin": true,
           "gridcolor": "#EBF0F8",
           "linecolor": "#EBF0F8",
           "ticks": "",
           "title": {
            "standoff": 15
           },
           "zerolinecolor": "#EBF0F8",
           "zerolinewidth": 2
          },
          "yaxis": {
           "automargin": true,
           "gridcolor": "#EBF0F8",
           "linecolor": "#EBF0F8",
           "ticks": "",
           "title": {
            "standoff": 15
           },
           "zerolinecolor": "#EBF0F8",
           "zerolinewidth": 2
          }
         }
        },
        "title": {
         "text": "Average Total Price by Product Category"
        },
        "xaxis": {
         "anchor": "y",
         "domain": [
          0,
          1
         ],
         "title": {
          "text": "product_category_name"
         }
        },
        "yaxis": {
         "anchor": "x",
         "domain": [
          0,
          1
         ],
         "title": {
          "text": "total_price"
         }
        }
       }
      }
     },
     "metadata": {},
     "output_type": "display_data"
    }
   ],
   "source": [
    "px.bar(data, x='product_category_name', \n",
    "             y='total_price', \n",
    "             title='Average Total Price by Product Category')"
   ]
  },
  {
   "cell_type": "markdown",
   "metadata": {},
   "source": [
    "- health_beauty and watches_gifts are the most expensive ones.\n",
    "- consoles_games and perfumery are the least."
   ]
  },
  {
   "cell_type": "code",
   "execution_count": 19,
   "metadata": {},
   "outputs": [
    {
     "data": {
      "application/vnd.plotly.v1+json": {
       "config": {
        "plotlyServerURL": "https://plot.ly"
       },
       "data": [
        {
         "alignmentgroup": "True",
         "hovertemplate": "weekday=%{x}<br>total_price=%{y}<extra></extra>",
         "legendgroup": "",
         "marker": {
          "color": "#636efa"
         },
         "name": "",
         "notched": false,
         "offsetgroup": "",
         "orientation": "v",
         "showlegend": false,
         "type": "box",
         "x": {
          "bdata": "FxYVFxUWFhUXFBYVFxUWFxcUFxYVFxUWFhUXFBYVFRcVFhYVFBYVFxUWFBcVFxUWFhUXFBYVFxUWFxQXFBcWFRcVFhYVFxQWFxUWFxUXFhYVFxQWFRcUFhUXFRYXFhUXFRYWFRcUFhUWFxQXFhUXFRYWFRcUFhUXFxYVFxUWFhUXFBYVFxUWFxUXFRYWFRcUFhUXFRYXFhUXFBYVFRYXFhUXFRYWFRcUFhUXFRYXFxQWFRcVFhcXFhUXFRYXFxYVFxUWFhUXFBYVFxUWFxQWFRcVFhcWFRcVFhYVFxQWFRcVFhcXFRYWFRcUFhUUFBUWFhUXFBYVFxUWFxQXFhUXFRYWFRcUFhUXFRYXFhUXFRYWFRQWFRcVFhcVFxYVFxUXFxUWFhUXFBYVFxUWFxcUFxYVFxYWFRcUFhUXFhUXFRYWFRcUFhUVFhcVFxUWFhUXFBYVFhQXFBcWFRcVFhYVFxQWFRcVFhcVFhcUFhUXFRYXFhUXFBYVFxUWFxcVFhYVFxQWFRcWFBcUFxYVFxUWFhUXFBYVFxUWFxYWFRcUFhUXFRYXFBcUFxYVFRYWFRcUFhUXFRYXFBcUFxYVFxUWFhUXFBYVFxUWFxcVFhYVFxQWFRcVFxYVFxQWFRcVFhcXFhUXFhYVFxQWFRcVFhcVFxYWFRcUFhUXFRYXFBcWFRcVFhYVFxQWFRcVFhcVFxUWFhcUFhUXFRYXFxUWFhUXFBYVFxUWFxQXFxYVFxUWFhUXFBYVFxUWFxQXFBcWFRcVFhYVFxQWFRQXFBYVFxUWFhUXFBYVFxUWFxcVFhYVFxQWFRcVFhcWFRcVFhYVFxQWFhUXFBYVFxUWFxcUFhUXFRYWFRcUFhUXFRYXFhUXFBYVFxUWFxYWFRcUFhUXFRYXFhUXFQ==",
          "dtype": "i1"
         },
         "x0": " ",
         "xaxis": "x",
         "y": {
          "bdata": "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",
          "dtype": "f8"
         },
         "y0": " ",
         "yaxis": "y"
        }
       ],
       "layout": {
        "boxmode": "group",
        "legend": {
         "tracegroupgap": 0
        },
        "template": {
         "data": {
          "bar": [
           {
            "error_x": {
             "color": "#2a3f5f"
            },
            "error_y": {
             "color": "#2a3f5f"
            },
            "marker": {
             "line": {
              "color": "white",
              "width": 0.5
             },
             "pattern": {
              "fillmode": "overlay",
              "size": 10,
              "solidity": 0.2
             }
            },
            "type": "bar"
           }
          ],
          "barpolar": [
           {
            "marker": {
             "line": {
              "color": "white",
              "width": 0.5
             },
             "pattern": {
              "fillmode": "overlay",
              "size": 10,
              "solidity": 0.2
             }
            },
            "type": "barpolar"
           }
          ],
          "carpet": [
           {
            "aaxis": {
             "endlinecolor": "#2a3f5f",
             "gridcolor": "#C8D4E3",
             "linecolor": "#C8D4E3",
             "minorgridcolor": "#C8D4E3",
             "startlinecolor": "#2a3f5f"
            },
            "baxis": {
             "endlinecolor": "#2a3f5f",
             "gridcolor": "#C8D4E3",
             "linecolor": "#C8D4E3",
             "minorgridcolor": "#C8D4E3",
             "startlinecolor": "#2a3f5f"
            },
            "type": "carpet"
           }
          ],
          "choropleth": [
           {
            "colorbar": {
             "outlinewidth": 0,
             "ticks": ""
            },
            "type": "choropleth"
           }
          ],
          "contour": [
           {
            "colorbar": {
             "outlinewidth": 0,
             "ticks": ""
            },
            "colorscale": [
             [
              0,
              "#0d0887"
             ],
             [
              0.1111111111111111,
              "#46039f"
             ],
             [
              0.2222222222222222,
              "#7201a8"
             ],
             [
              0.3333333333333333,
              "#9c179e"
             ],
             [
              0.4444444444444444,
              "#bd3786"
             ],
             [
              0.5555555555555556,
              "#d8576b"
             ],
             [
              0.6666666666666666,
              "#ed7953"
             ],
             [
              0.7777777777777778,
              "#fb9f3a"
             ],
             [
              0.8888888888888888,
              "#fdca26"
             ],
             [
              1,
              "#f0f921"
             ]
            ],
            "type": "contour"
           }
          ],
          "contourcarpet": [
           {
            "colorbar": {
             "outlinewidth": 0,
             "ticks": ""
            },
            "type": "contourcarpet"
           }
          ],
          "heatmap": [
           {
            "colorbar": {
             "outlinewidth": 0,
             "ticks": ""
            },
            "colorscale": [
             [
              0,
              "#0d0887"
             ],
             [
              0.1111111111111111,
              "#46039f"
             ],
             [
              0.2222222222222222,
              "#7201a8"
             ],
             [
              0.3333333333333333,
              "#9c179e"
             ],
             [
              0.4444444444444444,
              "#bd3786"
             ],
             [
              0.5555555555555556,
              "#d8576b"
             ],
             [
              0.6666666666666666,
              "#ed7953"
             ],
             [
              0.7777777777777778,
              "#fb9f3a"
             ],
             [
              0.8888888888888888,
              "#fdca26"
             ],
             [
              1,
              "#f0f921"
             ]
            ],
            "type": "heatmap"
           }
          ],
          "histogram": [
           {
            "marker": {
             "pattern": {
              "fillmode": "overlay",
              "size": 10,
              "solidity": 0.2
             }
            },
            "type": "histogram"
           }
          ],
          "histogram2d": [
           {
            "colorbar": {
             "outlinewidth": 0,
             "ticks": ""
            },
            "colorscale": [
             [
              0,
              "#0d0887"
             ],
             [
              0.1111111111111111,
              "#46039f"
             ],
             [
              0.2222222222222222,
              "#7201a8"
             ],
             [
              0.3333333333333333,
              "#9c179e"
             ],
             [
              0.4444444444444444,
              "#bd3786"
             ],
             [
              0.5555555555555556,
              "#d8576b"
             ],
             [
              0.6666666666666666,
              "#ed7953"
             ],
             [
              0.7777777777777778,
              "#fb9f3a"
             ],
             [
              0.8888888888888888,
              "#fdca26"
             ],
             [
              1,
              "#f0f921"
             ]
            ],
            "type": "histogram2d"
           }
          ],
          "histogram2dcontour": [
           {
            "colorbar": {
             "outlinewidth": 0,
             "ticks": ""
            },
            "colorscale": [
             [
              0,
              "#0d0887"
             ],
             [
              0.1111111111111111,
              "#46039f"
             ],
             [
              0.2222222222222222,
              "#7201a8"
             ],
             [
              0.3333333333333333,
              "#9c179e"
             ],
             [
              0.4444444444444444,
              "#bd3786"
             ],
             [
              0.5555555555555556,
              "#d8576b"
             ],
             [
              0.6666666666666666,
              "#ed7953"
             ],
             [
              0.7777777777777778,
              "#fb9f3a"
             ],
             [
              0.8888888888888888,
              "#fdca26"
             ],
             [
              1,
              "#f0f921"
             ]
            ],
            "type": "histogram2dcontour"
           }
          ],
          "mesh3d": [
           {
            "colorbar": {
             "outlinewidth": 0,
             "ticks": ""
            },
            "type": "mesh3d"
           }
          ],
          "parcoords": [
           {
            "line": {
             "colorbar": {
              "outlinewidth": 0,
              "ticks": ""
             }
            },
            "type": "parcoords"
           }
          ],
          "pie": [
           {
            "automargin": true,
            "type": "pie"
           }
          ],
          "scatter": [
           {
            "fillpattern": {
             "fillmode": "overlay",
             "size": 10,
             "solidity": 0.2
            },
            "type": "scatter"
           }
          ],
          "scatter3d": [
           {
            "line": {
             "colorbar": {
              "outlinewidth": 0,
              "ticks": ""
             }
            },
            "marker": {
             "colorbar": {
              "outlinewidth": 0,
              "ticks": ""
             }
            },
            "type": "scatter3d"
           }
          ],
          "scattercarpet": [
           {
            "marker": {
             "colorbar": {
              "outlinewidth": 0,
              "ticks": ""
             }
            },
            "type": "scattercarpet"
           }
          ],
          "scattergeo": [
           {
            "marker": {
             "colorbar": {
              "outlinewidth": 0,
              "ticks": ""
             }
            },
            "type": "scattergeo"
           }
          ],
          "scattergl": [
           {
            "marker": {
             "colorbar": {
              "outlinewidth": 0,
              "ticks": ""
             }
            },
            "type": "scattergl"
           }
          ],
          "scattermap": [
           {
            "marker": {
             "colorbar": {
              "outlinewidth": 0,
              "ticks": ""
             }
            },
            "type": "scattermap"
           }
          ],
          "scattermapbox": [
           {
            "marker": {
             "colorbar": {
              "outlinewidth": 0,
              "ticks": ""
             }
            },
            "type": "scattermapbox"
           }
          ],
          "scatterpolar": [
           {
            "marker": {
             "colorbar": {
              "outlinewidth": 0,
              "ticks": ""
             }
            },
            "type": "scatterpolar"
           }
          ],
          "scatterpolargl": [
           {
            "marker": {
             "colorbar": {
              "outlinewidth": 0,
              "ticks": ""
             }
            },
            "type": "scatterpolargl"
           }
          ],
          "scatterternary": [
           {
            "marker": {
             "colorbar": {
              "outlinewidth": 0,
              "ticks": ""
             }
            },
            "type": "scatterternary"
           }
          ],
          "surface": [
           {
            "colorbar": {
             "outlinewidth": 0,
             "ticks": ""
            },
            "colorscale": [
             [
              0,
              "#0d0887"
             ],
             [
              0.1111111111111111,
              "#46039f"
             ],
             [
              0.2222222222222222,
              "#7201a8"
             ],
             [
              0.3333333333333333,
              "#9c179e"
             ],
             [
              0.4444444444444444,
              "#bd3786"
             ],
             [
              0.5555555555555556,
              "#d8576b"
             ],
             [
              0.6666666666666666,
              "#ed7953"
             ],
             [
              0.7777777777777778,
              "#fb9f3a"
             ],
             [
              0.8888888888888888,
              "#fdca26"
             ],
             [
              1,
              "#f0f921"
             ]
            ],
            "type": "surface"
           }
          ],
          "table": [
           {
            "cells": {
             "fill": {
              "color": "#EBF0F8"
             },
             "line": {
              "color": "white"
             }
            },
            "header": {
             "fill": {
              "color": "#C8D4E3"
             },
             "line": {
              "color": "white"
             }
            },
            "type": "table"
           }
          ]
         },
         "layout": {
          "annotationdefaults": {
           "arrowcolor": "#2a3f5f",
           "arrowhead": 0,
           "arrowwidth": 1
          },
          "autotypenumbers": "strict",
          "coloraxis": {
           "colorbar": {
            "outlinewidth": 0,
            "ticks": ""
           }
          },
          "colorscale": {
           "diverging": [
            [
             0,
             "#8e0152"
            ],
            [
             0.1,
             "#c51b7d"
            ],
            [
             0.2,
             "#de77ae"
            ],
            [
             0.3,
             "#f1b6da"
            ],
            [
             0.4,
             "#fde0ef"
            ],
            [
             0.5,
             "#f7f7f7"
            ],
            [
             0.6,
             "#e6f5d0"
            ],
            [
             0.7,
             "#b8e186"
            ],
            [
             0.8,
             "#7fbc41"
            ],
            [
             0.9,
             "#4d9221"
            ],
            [
             1,
             "#276419"
            ]
           ],
           "sequential": [
            [
             0,
             "#0d0887"
            ],
            [
             0.1111111111111111,
             "#46039f"
            ],
            [
             0.2222222222222222,
             "#7201a8"
            ],
            [
             0.3333333333333333,
             "#9c179e"
            ],
            [
             0.4444444444444444,
             "#bd3786"
            ],
            [
             0.5555555555555556,
             "#d8576b"
            ],
            [
             0.6666666666666666,
             "#ed7953"
            ],
            [
             0.7777777777777778,
             "#fb9f3a"
            ],
            [
             0.8888888888888888,
             "#fdca26"
            ],
            [
             1,
             "#f0f921"
            ]
           ],
           "sequentialminus": [
            [
             0,
             "#0d0887"
            ],
            [
             0.1111111111111111,
             "#46039f"
            ],
            [
             0.2222222222222222,
             "#7201a8"
            ],
            [
             0.3333333333333333,
             "#9c179e"
            ],
            [
             0.4444444444444444,
             "#bd3786"
            ],
            [
             0.5555555555555556,
             "#d8576b"
            ],
            [
             0.6666666666666666,
             "#ed7953"
            ],
            [
             0.7777777777777778,
             "#fb9f3a"
            ],
            [
             0.8888888888888888,
             "#fdca26"
            ],
            [
             1,
             "#f0f921"
            ]
           ]
          },
          "colorway": [
           "#636efa",
           "#EF553B",
           "#00cc96",
           "#ab63fa",
           "#FFA15A",
           "#19d3f3",
           "#FF6692",
           "#B6E880",
           "#FF97FF",
           "#FECB52"
          ],
          "font": {
           "color": "#2a3f5f"
          },
          "geo": {
           "bgcolor": "white",
           "lakecolor": "white",
           "landcolor": "white",
           "showlakes": true,
           "showland": true,
           "subunitcolor": "#C8D4E3"
          },
          "hoverlabel": {
           "align": "left"
          },
          "hovermode": "closest",
          "mapbox": {
           "style": "light"
          },
          "paper_bgcolor": "white",
          "plot_bgcolor": "white",
          "polar": {
           "angularaxis": {
            "gridcolor": "#EBF0F8",
            "linecolor": "#EBF0F8",
            "ticks": ""
           },
           "bgcolor": "white",
           "radialaxis": {
            "gridcolor": "#EBF0F8",
            "linecolor": "#EBF0F8",
            "ticks": ""
           }
          },
          "scene": {
           "xaxis": {
            "backgroundcolor": "white",
            "gridcolor": "#DFE8F3",
            "gridwidth": 2,
            "linecolor": "#EBF0F8",
            "showbackground": true,
            "ticks": "",
            "zerolinecolor": "#EBF0F8"
           },
           "yaxis": {
            "backgroundcolor": "white",
            "gridcolor": "#DFE8F3",
            "gridwidth": 2,
            "linecolor": "#EBF0F8",
            "showbackground": true,
            "ticks": "",
            "zerolinecolor": "#EBF0F8"
           },
           "zaxis": {
            "backgroundcolor": "white",
            "gridcolor": "#DFE8F3",
            "gridwidth": 2,
            "linecolor": "#EBF0F8",
            "showbackground": true,
            "ticks": "",
            "zerolinecolor": "#EBF0F8"
           }
          },
          "shapedefaults": {
           "line": {
            "color": "#2a3f5f"
           }
          },
          "ternary": {
           "aaxis": {
            "gridcolor": "#DFE8F3",
            "linecolor": "#A2B1C6",
            "ticks": ""
           },
           "baxis": {
            "gridcolor": "#DFE8F3",
            "linecolor": "#A2B1C6",
            "ticks": ""
           },
           "bgcolor": "white",
           "caxis": {
            "gridcolor": "#DFE8F3",
            "linecolor": "#A2B1C6",
            "ticks": ""
           }
          },
          "title": {
           "x": 0.05
          },
          "xaxis": {
           "automargin": true,
           "gridcolor": "#EBF0F8",
           "linecolor": "#EBF0F8",
           "ticks": "",
           "title": {
            "standoff": 15
           },
           "zerolinecolor": "#EBF0F8",
           "zerolinewidth": 2
          },
          "yaxis": {
           "automargin": true,
           "gridcolor": "#EBF0F8",
           "linecolor": "#EBF0F8",
           "ticks": "",
           "title": {
            "standoff": 15
           },
           "zerolinecolor": "#EBF0F8",
           "zerolinewidth": 2
          }
         }
        },
        "title": {
         "text": "Box Plot of Total Price by Weekday"
        },
        "xaxis": {
         "anchor": "y",
         "domain": [
          0,
          1
         ],
         "title": {
          "text": "weekday"
         }
        },
        "yaxis": {
         "anchor": "x",
         "domain": [
          0,
          1
         ],
         "title": {
          "text": "total_price"
         }
        }
       }
      }
     },
     "metadata": {},
     "output_type": "display_data"
    }
   ],
   "source": [
    "px.box(data, x='weekday', \n",
    "             y='total_price', \n",
    "             title='Box Plot of Total Price by Weekday')"
   ]
  },
  {
   "cell_type": "code",
   "execution_count": 20,
   "metadata": {},
   "outputs": [
    {
     "data": {
      "application/vnd.plotly.v1+json": {
       "config": {
        "plotlyServerURL": "https://plot.ly"
       },
       "data": [
        {
         "alignmentgroup": "True",
         "hovertemplate": "holiday=%{x}<br>total_price=%{y}<extra></extra>",
         "legendgroup": "",
         "marker": {
          "color": "#636efa"
         },
         "name": "",
         "notched": false,
         "offsetgroup": "",
         "orientation": "v",
         "showlegend": false,
         "type": "box",
         "x": {
          "bdata": "AQEBAQECBAECAgEBAwABAQECAQEBAQECBAECAgEBAQEBAgQBAgEBAwABAgEBAQECBAECAgEBAwABAQIBAgEBAQEBAgQBAgIBAwABAQEBAgQBAgIBAQICAQEDAAEBAQEBAQIEAQICAQEBAQIBAQEBAQIEAQICAQEBAQEBAQECBAECAgEBAwABAQEBAQIEAQICAQEDAAEBAgECAgEBAAEBAQEBAQIEAQICAQEDAAEBAgIBAQMAAQECAQEDAAEBAQEBAQECBAECAgEBAwABAQIBAQMAAQEBAQEBAgQBAgIBAQMAAQEBAQIEAQICAQACAgECBAECAgEBAwABAQIBAQEBAQIEAQICAQEDAAEBAQEBAQIEAQIBAQMAAQEBAgEBAwABAQECBAECAgEBAwABAQECAQEBAQIEAQICAQEBAQEBAQIEAQICAQEAAQEBAQECBAECAgEBAQIBAgEBAQEBAgQBAgIBAQMAAQEBAgICAQEDAAEBBAECAgEBAwABAQEBAgQBAgIBAQMBAgECAQEBAQECBAECAgEBAwABAQIEAQICAQEDAAEBAgECAQEBAQIEAQICAQEDAAEBAgECAQEBAQECBAECAgEBAwABAQEBAgQBAgIBAQMAAQQBAgIBAQMAAQEBAQEBAgQBAgIBAQMAAQEBAQIEAQICAQEDAAEBAgEBAQEBAgQBAgIBAQMAAQEBAQECBAICAQEDAAEBAQECBAECAgEBAwABAQIBAQEBAQECBAECAgEBAwABAQIBAgEBAQEBAgQBAgIBAQIBAgEBAQECBAECAgEBAwABAQEBAgQBAgIBAQMAAQEBAQEBAgQBAgICBAECAgEBAwABAQECAQEBAQIEAQICAQEDAAEBBAECAgEBAwABAQIEAQICAQEDAAEBAQEBAQ==",
          "dtype": "i1"
         },
         "x0": " ",
         "xaxis": "x",
         "y": {
          "bdata": "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",
          "dtype": "f8"
         },
         "y0": " ",
         "yaxis": "y"
        }
       ],
       "layout": {
        "boxmode": "group",
        "legend": {
         "tracegroupgap": 0
        },
        "template": {
         "data": {
          "bar": [
           {
            "error_x": {
             "color": "#2a3f5f"
            },
            "error_y": {
             "color": "#2a3f5f"
            },
            "marker": {
             "line": {
              "color": "white",
              "width": 0.5
             },
             "pattern": {
              "fillmode": "overlay",
              "size": 10,
              "solidity": 0.2
             }
            },
            "type": "bar"
           }
          ],
          "barpolar": [
           {
            "marker": {
             "line": {
              "color": "white",
              "width": 0.5
             },
             "pattern": {
              "fillmode": "overlay",
              "size": 10,
              "solidity": 0.2
             }
            },
            "type": "barpolar"
           }
          ],
          "carpet": [
           {
            "aaxis": {
             "endlinecolor": "#2a3f5f",
             "gridcolor": "#C8D4E3",
             "linecolor": "#C8D4E3",
             "minorgridcolor": "#C8D4E3",
             "startlinecolor": "#2a3f5f"
            },
            "baxis": {
             "endlinecolor": "#2a3f5f",
             "gridcolor": "#C8D4E3",
             "linecolor": "#C8D4E3",
             "minorgridcolor": "#C8D4E3",
             "startlinecolor": "#2a3f5f"
            },
            "type": "carpet"
           }
          ],
          "choropleth": [
           {
            "colorbar": {
             "outlinewidth": 0,
             "ticks": ""
            },
            "type": "choropleth"
           }
          ],
          "contour": [
           {
            "colorbar": {
             "outlinewidth": 0,
             "ticks": ""
            },
            "colorscale": [
             [
              0,
              "#0d0887"
             ],
             [
              0.1111111111111111,
              "#46039f"
             ],
             [
              0.2222222222222222,
              "#7201a8"
             ],
             [
              0.3333333333333333,
              "#9c179e"
             ],
             [
              0.4444444444444444,
              "#bd3786"
             ],
             [
              0.5555555555555556,
              "#d8576b"
             ],
             [
              0.6666666666666666,
              "#ed7953"
             ],
             [
              0.7777777777777778,
              "#fb9f3a"
             ],
             [
              0.8888888888888888,
              "#fdca26"
             ],
             [
              1,
              "#f0f921"
             ]
            ],
            "type": "contour"
           }
          ],
          "contourcarpet": [
           {
            "colorbar": {
             "outlinewidth": 0,
             "ticks": ""
            },
            "type": "contourcarpet"
           }
          ],
          "heatmap": [
           {
            "colorbar": {
             "outlinewidth": 0,
             "ticks": ""
            },
            "colorscale": [
             [
              0,
              "#0d0887"
             ],
             [
              0.1111111111111111,
              "#46039f"
             ],
             [
              0.2222222222222222,
              "#7201a8"
             ],
             [
              0.3333333333333333,
              "#9c179e"
             ],
             [
              0.4444444444444444,
              "#bd3786"
             ],
             [
              0.5555555555555556,
              "#d8576b"
             ],
             [
              0.6666666666666666,
              "#ed7953"
             ],
             [
              0.7777777777777778,
              "#fb9f3a"
             ],
             [
              0.8888888888888888,
              "#fdca26"
             ],
             [
              1,
              "#f0f921"
             ]
            ],
            "type": "heatmap"
           }
          ],
          "histogram": [
           {
            "marker": {
             "pattern": {
              "fillmode": "overlay",
              "size": 10,
              "solidity": 0.2
             }
            },
            "type": "histogram"
           }
          ],
          "histogram2d": [
           {
            "colorbar": {
             "outlinewidth": 0,
             "ticks": ""
            },
            "colorscale": [
             [
              0,
              "#0d0887"
             ],
             [
              0.1111111111111111,
              "#46039f"
             ],
             [
              0.2222222222222222,
              "#7201a8"
             ],
             [
              0.3333333333333333,
              "#9c179e"
             ],
             [
              0.4444444444444444,
              "#bd3786"
             ],
             [
              0.5555555555555556,
              "#d8576b"
             ],
             [
              0.6666666666666666,
              "#ed7953"
             ],
             [
              0.7777777777777778,
              "#fb9f3a"
             ],
             [
              0.8888888888888888,
              "#fdca26"
             ],
             [
              1,
              "#f0f921"
             ]
            ],
            "type": "histogram2d"
           }
          ],
          "histogram2dcontour": [
           {
            "colorbar": {
             "outlinewidth": 0,
             "ticks": ""
            },
            "colorscale": [
             [
              0,
              "#0d0887"
             ],
             [
              0.1111111111111111,
              "#46039f"
             ],
             [
              0.2222222222222222,
              "#7201a8"
             ],
             [
              0.3333333333333333,
              "#9c179e"
             ],
             [
              0.4444444444444444,
              "#bd3786"
             ],
             [
              0.5555555555555556,
              "#d8576b"
             ],
             [
              0.6666666666666666,
              "#ed7953"
             ],
             [
              0.7777777777777778,
              "#fb9f3a"
             ],
             [
              0.8888888888888888,
              "#fdca26"
             ],
             [
              1,
              "#f0f921"
             ]
            ],
            "type": "histogram2dcontour"
           }
          ],
          "mesh3d": [
           {
            "colorbar": {
             "outlinewidth": 0,
             "ticks": ""
            },
            "type": "mesh3d"
           }
          ],
          "parcoords": [
           {
            "line": {
             "colorbar": {
              "outlinewidth": 0,
              "ticks": ""
             }
            },
            "type": "parcoords"
           }
          ],
          "pie": [
           {
            "automargin": true,
            "type": "pie"
           }
          ],
          "scatter": [
           {
            "fillpattern": {
             "fillmode": "overlay",
             "size": 10,
             "solidity": 0.2
            },
            "type": "scatter"
           }
          ],
          "scatter3d": [
           {
            "line": {
             "colorbar": {
              "outlinewidth": 0,
              "ticks": ""
             }
            },
            "marker": {
             "colorbar": {
              "outlinewidth": 0,
              "ticks": ""
             }
            },
            "type": "scatter3d"
           }
          ],
          "scattercarpet": [
           {
            "marker": {
             "colorbar": {
              "outlinewidth": 0,
              "ticks": ""
             }
            },
            "type": "scattercarpet"
           }
          ],
          "scattergeo": [
           {
            "marker": {
             "colorbar": {
              "outlinewidth": 0,
              "ticks": ""
             }
            },
            "type": "scattergeo"
           }
          ],
          "scattergl": [
           {
            "marker": {
             "colorbar": {
              "outlinewidth": 0,
              "ticks": ""
             }
            },
            "type": "scattergl"
           }
          ],
          "scattermap": [
           {
            "marker": {
             "colorbar": {
              "outlinewidth": 0,
              "ticks": ""
             }
            },
            "type": "scattermap"
           }
          ],
          "scattermapbox": [
           {
            "marker": {
             "colorbar": {
              "outlinewidth": 0,
              "ticks": ""
             }
            },
            "type": "scattermapbox"
           }
          ],
          "scatterpolar": [
           {
            "marker": {
             "colorbar": {
              "outlinewidth": 0,
              "ticks": ""
             }
            },
            "type": "scatterpolar"
           }
          ],
          "scatterpolargl": [
           {
            "marker": {
             "colorbar": {
              "outlinewidth": 0,
              "ticks": ""
             }
            },
            "type": "scatterpolargl"
           }
          ],
          "scatterternary": [
           {
            "marker": {
             "colorbar": {
              "outlinewidth": 0,
              "ticks": ""
             }
            },
            "type": "scatterternary"
           }
          ],
          "surface": [
           {
            "colorbar": {
             "outlinewidth": 0,
             "ticks": ""
            },
            "colorscale": [
             [
              0,
              "#0d0887"
             ],
             [
              0.1111111111111111,
              "#46039f"
             ],
             [
              0.2222222222222222,
              "#7201a8"
             ],
             [
              0.3333333333333333,
              "#9c179e"
             ],
             [
              0.4444444444444444,
              "#bd3786"
             ],
             [
              0.5555555555555556,
              "#d8576b"
             ],
             [
              0.6666666666666666,
              "#ed7953"
             ],
             [
              0.7777777777777778,
              "#fb9f3a"
             ],
             [
              0.8888888888888888,
              "#fdca26"
             ],
             [
              1,
              "#f0f921"
             ]
            ],
            "type": "surface"
           }
          ],
          "table": [
           {
            "cells": {
             "fill": {
              "color": "#EBF0F8"
             },
             "line": {
              "color": "white"
             }
            },
            "header": {
             "fill": {
              "color": "#C8D4E3"
             },
             "line": {
              "color": "white"
             }
            },
            "type": "table"
           }
          ]
         },
         "layout": {
          "annotationdefaults": {
           "arrowcolor": "#2a3f5f",
           "arrowhead": 0,
           "arrowwidth": 1
          },
          "autotypenumbers": "strict",
          "coloraxis": {
           "colorbar": {
            "outlinewidth": 0,
            "ticks": ""
           }
          },
          "colorscale": {
           "diverging": [
            [
             0,
             "#8e0152"
            ],
            [
             0.1,
             "#c51b7d"
            ],
            [
             0.2,
             "#de77ae"
            ],
            [
             0.3,
             "#f1b6da"
            ],
            [
             0.4,
             "#fde0ef"
            ],
            [
             0.5,
             "#f7f7f7"
            ],
            [
             0.6,
             "#e6f5d0"
            ],
            [
             0.7,
             "#b8e186"
            ],
            [
             0.8,
             "#7fbc41"
            ],
            [
             0.9,
             "#4d9221"
            ],
            [
             1,
             "#276419"
            ]
           ],
           "sequential": [
            [
             0,
             "#0d0887"
            ],
            [
             0.1111111111111111,
             "#46039f"
            ],
            [
             0.2222222222222222,
             "#7201a8"
            ],
            [
             0.3333333333333333,
             "#9c179e"
            ],
            [
             0.4444444444444444,
             "#bd3786"
            ],
            [
             0.5555555555555556,
             "#d8576b"
            ],
            [
             0.6666666666666666,
             "#ed7953"
            ],
            [
             0.7777777777777778,
             "#fb9f3a"
            ],
            [
             0.8888888888888888,
             "#fdca26"
            ],
            [
             1,
             "#f0f921"
            ]
           ],
           "sequentialminus": [
            [
             0,
             "#0d0887"
            ],
            [
             0.1111111111111111,
             "#46039f"
            ],
            [
             0.2222222222222222,
             "#7201a8"
            ],
            [
             0.3333333333333333,
             "#9c179e"
            ],
            [
             0.4444444444444444,
             "#bd3786"
            ],
            [
             0.5555555555555556,
             "#d8576b"
            ],
            [
             0.6666666666666666,
             "#ed7953"
            ],
            [
             0.7777777777777778,
             "#fb9f3a"
            ],
            [
             0.8888888888888888,
             "#fdca26"
            ],
            [
             1,
             "#f0f921"
            ]
           ]
          },
          "colorway": [
           "#636efa",
           "#EF553B",
           "#00cc96",
           "#ab63fa",
           "#FFA15A",
           "#19d3f3",
           "#FF6692",
           "#B6E880",
           "#FF97FF",
           "#FECB52"
          ],
          "font": {
           "color": "#2a3f5f"
          },
          "geo": {
           "bgcolor": "white",
           "lakecolor": "white",
           "landcolor": "white",
           "showlakes": true,
           "showland": true,
           "subunitcolor": "#C8D4E3"
          },
          "hoverlabel": {
           "align": "left"
          },
          "hovermode": "closest",
          "mapbox": {
           "style": "light"
          },
          "paper_bgcolor": "white",
          "plot_bgcolor": "white",
          "polar": {
           "angularaxis": {
            "gridcolor": "#EBF0F8",
            "linecolor": "#EBF0F8",
            "ticks": ""
           },
           "bgcolor": "white",
           "radialaxis": {
            "gridcolor": "#EBF0F8",
            "linecolor": "#EBF0F8",
            "ticks": ""
           }
          },
          "scene": {
           "xaxis": {
            "backgroundcolor": "white",
            "gridcolor": "#DFE8F3",
            "gridwidth": 2,
            "linecolor": "#EBF0F8",
            "showbackground": true,
            "ticks": "",
            "zerolinecolor": "#EBF0F8"
           },
           "yaxis": {
            "backgroundcolor": "white",
            "gridcolor": "#DFE8F3",
            "gridwidth": 2,
            "linecolor": "#EBF0F8",
            "showbackground": true,
            "ticks": "",
            "zerolinecolor": "#EBF0F8"
           },
           "zaxis": {
            "backgroundcolor": "white",
            "gridcolor": "#DFE8F3",
            "gridwidth": 2,
            "linecolor": "#EBF0F8",
            "showbackground": true,
            "ticks": "",
            "zerolinecolor": "#EBF0F8"
           }
          },
          "shapedefaults": {
           "line": {
            "color": "#2a3f5f"
           }
          },
          "ternary": {
           "aaxis": {
            "gridcolor": "#DFE8F3",
            "linecolor": "#A2B1C6",
            "ticks": ""
           },
           "baxis": {
            "gridcolor": "#DFE8F3",
            "linecolor": "#A2B1C6",
            "ticks": ""
           },
           "bgcolor": "white",
           "caxis": {
            "gridcolor": "#DFE8F3",
            "linecolor": "#A2B1C6",
            "ticks": ""
           }
          },
          "title": {
           "x": 0.05
          },
          "xaxis": {
           "automargin": true,
           "gridcolor": "#EBF0F8",
           "linecolor": "#EBF0F8",
           "ticks": "",
           "title": {
            "standoff": 15
           },
           "zerolinecolor": "#EBF0F8",
           "zerolinewidth": 2
          },
          "yaxis": {
           "automargin": true,
           "gridcolor": "#EBF0F8",
           "linecolor": "#EBF0F8",
           "ticks": "",
           "title": {
            "standoff": 15
           },
           "zerolinecolor": "#EBF0F8",
           "zerolinewidth": 2
          }
         }
        },
        "title": {
         "text": "Box Plot of Total Price by Holiday"
        },
        "xaxis": {
         "anchor": "y",
         "domain": [
          0,
          1
         ],
         "title": {
          "text": "holiday"
         }
        },
        "yaxis": {
         "anchor": "x",
         "domain": [
          0,
          1
         ],
         "title": {
          "text": "total_price"
         }
        }
       }
      }
     },
     "metadata": {},
     "output_type": "display_data"
    }
   ],
   "source": [
    "px.box(data, x='holiday', \n",
    "             y='total_price', \n",
    "             title='Box Plot of Total Price by Holiday')"
   ]
  },
  {
   "cell_type": "code",
   "execution_count": 21,
   "metadata": {},
   "outputs": [],
   "source": [
    "numerical_data = data.select_dtypes(include=['float64', 'int64'])\n"
   ]
  },
  {
   "cell_type": "code",
   "execution_count": 22,
   "metadata": {},
   "outputs": [
    {
     "data": {
      "application/vnd.plotly.v1+json": {
       "config": {
        "plotlyServerURL": "https://plot.ly"
       },
       "data": [
        {
         "type": "heatmap",
         "x": [
          "qty",
          "total_price",
          "freight_price",
          "unit_price",
          "product_name_lenght",
          "product_description_lenght",
          "product_photos_qty",
          "product_weight_g",
          "product_score",
          "customers",
          "weekday",
          "weekend",
          "holiday",
          "month",
          "year",
          "s",
          "volume",
          "comp_1",
          "ps1",
          "fp1",
          "comp_2",
          "ps2",
          "fp2",
          "comp_3",
          "ps3",
          "fp3",
          "lag_price"
         ],
         "y": [
          "qty",
          "total_price",
          "freight_price",
          "unit_price",
          "product_name_lenght",
          "product_description_lenght",
          "product_photos_qty",
          "product_weight_g",
          "product_score",
          "customers",
          "weekday",
          "weekend",
          "holiday",
          "month",
          "year",
          "s",
          "volume",
          "comp_1",
          "ps1",
          "fp1",
          "comp_2",
          "ps2",
          "fp2",
          "comp_3",
          "ps3",
          "fp3",
          "lag_price"
         ],
         "z": {
          "bdata": "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",
          "dtype": "f8",
          "shape": "27, 27"
         }
        }
       ],
       "layout": {
        "template": {
         "data": {
          "bar": [
           {
            "error_x": {
             "color": "#2a3f5f"
            },
            "error_y": {
             "color": "#2a3f5f"
            },
            "marker": {
             "line": {
              "color": "white",
              "width": 0.5
             },
             "pattern": {
              "fillmode": "overlay",
              "size": 10,
              "solidity": 0.2
             }
            },
            "type": "bar"
           }
          ],
          "barpolar": [
           {
            "marker": {
             "line": {
              "color": "white",
              "width": 0.5
             },
             "pattern": {
              "fillmode": "overlay",
              "size": 10,
              "solidity": 0.2
             }
            },
            "type": "barpolar"
           }
          ],
          "carpet": [
           {
            "aaxis": {
             "endlinecolor": "#2a3f5f",
             "gridcolor": "#C8D4E3",
             "linecolor": "#C8D4E3",
             "minorgridcolor": "#C8D4E3",
             "startlinecolor": "#2a3f5f"
            },
            "baxis": {
             "endlinecolor": "#2a3f5f",
             "gridcolor": "#C8D4E3",
             "linecolor": "#C8D4E3",
             "minorgridcolor": "#C8D4E3",
             "startlinecolor": "#2a3f5f"
            },
            "type": "carpet"
           }
          ],
          "choropleth": [
           {
            "colorbar": {
             "outlinewidth": 0,
             "ticks": ""
            },
            "type": "choropleth"
           }
          ],
          "contour": [
           {
            "colorbar": {
             "outlinewidth": 0,
             "ticks": ""
            },
            "colorscale": [
             [
              0,
              "#0d0887"
             ],
             [
              0.1111111111111111,
              "#46039f"
             ],
             [
              0.2222222222222222,
              "#7201a8"
             ],
             [
              0.3333333333333333,
              "#9c179e"
             ],
             [
              0.4444444444444444,
              "#bd3786"
             ],
             [
              0.5555555555555556,
              "#d8576b"
             ],
             [
              0.6666666666666666,
              "#ed7953"
             ],
             [
              0.7777777777777778,
              "#fb9f3a"
             ],
             [
              0.8888888888888888,
              "#fdca26"
             ],
             [
              1,
              "#f0f921"
             ]
            ],
            "type": "contour"
           }
          ],
          "contourcarpet": [
           {
            "colorbar": {
             "outlinewidth": 0,
             "ticks": ""
            },
            "type": "contourcarpet"
           }
          ],
          "heatmap": [
           {
            "colorbar": {
             "outlinewidth": 0,
             "ticks": ""
            },
            "colorscale": [
             [
              0,
              "#0d0887"
             ],
             [
              0.1111111111111111,
              "#46039f"
             ],
             [
              0.2222222222222222,
              "#7201a8"
             ],
             [
              0.3333333333333333,
              "#9c179e"
             ],
             [
              0.4444444444444444,
              "#bd3786"
             ],
             [
              0.5555555555555556,
              "#d8576b"
             ],
             [
              0.6666666666666666,
              "#ed7953"
             ],
             [
              0.7777777777777778,
              "#fb9f3a"
             ],
             [
              0.8888888888888888,
              "#fdca26"
             ],
             [
              1,
              "#f0f921"
             ]
            ],
            "type": "heatmap"
           }
          ],
          "histogram": [
           {
            "marker": {
             "pattern": {
              "fillmode": "overlay",
              "size": 10,
              "solidity": 0.2
             }
            },
            "type": "histogram"
           }
          ],
          "histogram2d": [
           {
            "colorbar": {
             "outlinewidth": 0,
             "ticks": ""
            },
            "colorscale": [
             [
              0,
              "#0d0887"
             ],
             [
              0.1111111111111111,
              "#46039f"
             ],
             [
              0.2222222222222222,
              "#7201a8"
             ],
             [
              0.3333333333333333,
              "#9c179e"
             ],
             [
              0.4444444444444444,
              "#bd3786"
             ],
             [
              0.5555555555555556,
              "#d8576b"
             ],
             [
              0.6666666666666666,
              "#ed7953"
             ],
             [
              0.7777777777777778,
              "#fb9f3a"
             ],
             [
              0.8888888888888888,
              "#fdca26"
             ],
             [
              1,
              "#f0f921"
             ]
            ],
            "type": "histogram2d"
           }
          ],
          "histogram2dcontour": [
           {
            "colorbar": {
             "outlinewidth": 0,
             "ticks": ""
            },
            "colorscale": [
             [
              0,
              "#0d0887"
             ],
             [
              0.1111111111111111,
              "#46039f"
             ],
             [
              0.2222222222222222,
              "#7201a8"
             ],
             [
              0.3333333333333333,
              "#9c179e"
             ],
             [
              0.4444444444444444,
              "#bd3786"
             ],
             [
              0.5555555555555556,
              "#d8576b"
             ],
             [
              0.6666666666666666,
              "#ed7953"
             ],
             [
              0.7777777777777778,
              "#fb9f3a"
             ],
             [
              0.8888888888888888,
              "#fdca26"
             ],
             [
              1,
              "#f0f921"
             ]
            ],
            "type": "histogram2dcontour"
           }
          ],
          "mesh3d": [
           {
            "colorbar": {
             "outlinewidth": 0,
             "ticks": ""
            },
            "type": "mesh3d"
           }
          ],
          "parcoords": [
           {
            "line": {
             "colorbar": {
              "outlinewidth": 0,
              "ticks": ""
             }
            },
            "type": "parcoords"
           }
          ],
          "pie": [
           {
            "automargin": true,
            "type": "pie"
           }
          ],
          "scatter": [
           {
            "fillpattern": {
             "fillmode": "overlay",
             "size": 10,
             "solidity": 0.2
            },
            "type": "scatter"
           }
          ],
          "scatter3d": [
           {
            "line": {
             "colorbar": {
              "outlinewidth": 0,
              "ticks": ""
             }
            },
            "marker": {
             "colorbar": {
              "outlinewidth": 0,
              "ticks": ""
             }
            },
            "type": "scatter3d"
           }
          ],
          "scattercarpet": [
           {
            "marker": {
             "colorbar": {
              "outlinewidth": 0,
              "ticks": ""
             }
            },
            "type": "scattercarpet"
           }
          ],
          "scattergeo": [
           {
            "marker": {
             "colorbar": {
              "outlinewidth": 0,
              "ticks": ""
             }
            },
            "type": "scattergeo"
           }
          ],
          "scattergl": [
           {
            "marker": {
             "colorbar": {
              "outlinewidth": 0,
              "ticks": ""
             }
            },
            "type": "scattergl"
           }
          ],
          "scattermap": [
           {
            "marker": {
             "colorbar": {
              "outlinewidth": 0,
              "ticks": ""
             }
            },
            "type": "scattermap"
           }
          ],
          "scattermapbox": [
           {
            "marker": {
             "colorbar": {
              "outlinewidth": 0,
              "ticks": ""
             }
            },
            "type": "scattermapbox"
           }
          ],
          "scatterpolar": [
           {
            "marker": {
             "colorbar": {
              "outlinewidth": 0,
              "ticks": ""
             }
            },
            "type": "scatterpolar"
           }
          ],
          "scatterpolargl": [
           {
            "marker": {
             "colorbar": {
              "outlinewidth": 0,
              "ticks": ""
             }
            },
            "type": "scatterpolargl"
           }
          ],
          "scatterternary": [
           {
            "marker": {
             "colorbar": {
              "outlinewidth": 0,
              "ticks": ""
             }
            },
            "type": "scatterternary"
           }
          ],
          "surface": [
           {
            "colorbar": {
             "outlinewidth": 0,
             "ticks": ""
            },
            "colorscale": [
             [
              0,
              "#0d0887"
             ],
             [
              0.1111111111111111,
              "#46039f"
             ],
             [
              0.2222222222222222,
              "#7201a8"
             ],
             [
              0.3333333333333333,
              "#9c179e"
             ],
             [
              0.4444444444444444,
              "#bd3786"
             ],
             [
              0.5555555555555556,
              "#d8576b"
             ],
             [
              0.6666666666666666,
              "#ed7953"
             ],
             [
              0.7777777777777778,
              "#fb9f3a"
             ],
             [
              0.8888888888888888,
              "#fdca26"
             ],
             [
              1,
              "#f0f921"
             ]
            ],
            "type": "surface"
           }
          ],
          "table": [
           {
            "cells": {
             "fill": {
              "color": "#EBF0F8"
             },
             "line": {
              "color": "white"
             }
            },
            "header": {
             "fill": {
              "color": "#C8D4E3"
             },
             "line": {
              "color": "white"
             }
            },
            "type": "table"
           }
          ]
         },
         "layout": {
          "annotationdefaults": {
           "arrowcolor": "#2a3f5f",
           "arrowhead": 0,
           "arrowwidth": 1
          },
          "autotypenumbers": "strict",
          "coloraxis": {
           "colorbar": {
            "outlinewidth": 0,
            "ticks": ""
           }
          },
          "colorscale": {
           "diverging": [
            [
             0,
             "#8e0152"
            ],
            [
             0.1,
             "#c51b7d"
            ],
            [
             0.2,
             "#de77ae"
            ],
            [
             0.3,
             "#f1b6da"
            ],
            [
             0.4,
             "#fde0ef"
            ],
            [
             0.5,
             "#f7f7f7"
            ],
            [
             0.6,
             "#e6f5d0"
            ],
            [
             0.7,
             "#b8e186"
            ],
            [
             0.8,
             "#7fbc41"
            ],
            [
             0.9,
             "#4d9221"
            ],
            [
             1,
             "#276419"
            ]
           ],
           "sequential": [
            [
             0,
             "#0d0887"
            ],
            [
             0.1111111111111111,
             "#46039f"
            ],
            [
             0.2222222222222222,
             "#7201a8"
            ],
            [
             0.3333333333333333,
             "#9c179e"
            ],
            [
             0.4444444444444444,
             "#bd3786"
            ],
            [
             0.5555555555555556,
             "#d8576b"
            ],
            [
             0.6666666666666666,
             "#ed7953"
            ],
            [
             0.7777777777777778,
             "#fb9f3a"
            ],
            [
             0.8888888888888888,
             "#fdca26"
            ],
            [
             1,
             "#f0f921"
            ]
           ],
           "sequentialminus": [
            [
             0,
             "#0d0887"
            ],
            [
             0.1111111111111111,
             "#46039f"
            ],
            [
             0.2222222222222222,
             "#7201a8"
            ],
            [
             0.3333333333333333,
             "#9c179e"
            ],
            [
             0.4444444444444444,
             "#bd3786"
            ],
            [
             0.5555555555555556,
             "#d8576b"
            ],
            [
             0.6666666666666666,
             "#ed7953"
            ],
            [
             0.7777777777777778,
             "#fb9f3a"
            ],
            [
             0.8888888888888888,
             "#fdca26"
            ],
            [
             1,
             "#f0f921"
            ]
           ]
          },
          "colorway": [
           "#636efa",
           "#EF553B",
           "#00cc96",
           "#ab63fa",
           "#FFA15A",
           "#19d3f3",
           "#FF6692",
           "#B6E880",
           "#FF97FF",
           "#FECB52"
          ],
          "font": {
           "color": "#2a3f5f"
          },
          "geo": {
           "bgcolor": "white",
           "lakecolor": "white",
           "landcolor": "white",
           "showlakes": true,
           "showland": true,
           "subunitcolor": "#C8D4E3"
          },
          "hoverlabel": {
           "align": "left"
          },
          "hovermode": "closest",
          "mapbox": {
           "style": "light"
          },
          "paper_bgcolor": "white",
          "plot_bgcolor": "white",
          "polar": {
           "angularaxis": {
            "gridcolor": "#EBF0F8",
            "linecolor": "#EBF0F8",
            "ticks": ""
           },
           "bgcolor": "white",
           "radialaxis": {
            "gridcolor": "#EBF0F8",
            "linecolor": "#EBF0F8",
            "ticks": ""
           }
          },
          "scene": {
           "xaxis": {
            "backgroundcolor": "white",
            "gridcolor": "#DFE8F3",
            "gridwidth": 2,
            "linecolor": "#EBF0F8",
            "showbackground": true,
            "ticks": "",
            "zerolinecolor": "#EBF0F8"
           },
           "yaxis": {
            "backgroundcolor": "white",
            "gridcolor": "#DFE8F3",
            "gridwidth": 2,
            "linecolor": "#EBF0F8",
            "showbackground": true,
            "ticks": "",
            "zerolinecolor": "#EBF0F8"
           },
           "zaxis": {
            "backgroundcolor": "white",
            "gridcolor": "#DFE8F3",
            "gridwidth": 2,
            "linecolor": "#EBF0F8",
            "showbackground": true,
            "ticks": "",
            "zerolinecolor": "#EBF0F8"
           }
          },
          "shapedefaults": {
           "line": {
            "color": "#2a3f5f"
           }
          },
          "ternary": {
           "aaxis": {
            "gridcolor": "#DFE8F3",
            "linecolor": "#A2B1C6",
            "ticks": ""
           },
           "baxis": {
            "gridcolor": "#DFE8F3",
            "linecolor": "#A2B1C6",
            "ticks": ""
           },
           "bgcolor": "white",
           "caxis": {
            "gridcolor": "#DFE8F3",
            "linecolor": "#A2B1C6",
            "ticks": ""
           }
          },
          "title": {
           "x": 0.05
          },
          "xaxis": {
           "automargin": true,
           "gridcolor": "#EBF0F8",
           "linecolor": "#EBF0F8",
           "ticks": "",
           "title": {
            "standoff": 15
           },
           "zerolinecolor": "#EBF0F8",
           "zerolinewidth": 2
          },
          "yaxis": {
           "automargin": true,
           "gridcolor": "#EBF0F8",
           "linecolor": "#EBF0F8",
           "ticks": "",
           "title": {
            "standoff": 15
           },
           "zerolinecolor": "#EBF0F8",
           "zerolinewidth": 2
          }
         }
        },
        "title": {
         "text": "Correlation Heatmap of Numerical Features"
        }
       }
      }
     },
     "metadata": {},
     "output_type": "display_data"
    }
   ],
   "source": [
    "correlation_matrix = numerical_data.corr()\n",
    "fig = go.Figure(go.Heatmap(x=correlation_matrix.columns, \n",
    "                           y=correlation_matrix.columns, \n",
    "                           z=correlation_matrix.values))\n",
    "fig.update_layout(title='Correlation Heatmap of Numerical Features')\n",
    "fig.show()"
   ]
  },
  {
   "cell_type": "code",
   "execution_count": 23,
   "metadata": {},
   "outputs": [
    {
     "data": {
      "application/vnd.plotly.v1+json": {
       "config": {
        "plotlyServerURL": "https://plot.ly"
       },
       "data": [
        {
         "hovertemplate": "product_category_name=%{x}<br>comp_price_diff=%{y}<extra></extra>",
         "legendgroup": "",
         "marker": {
          "color": "#636efa",
          "pattern": {
           "shape": ""
          }
         },
         "name": "",
         "orientation": "v",
         "showlegend": false,
         "textposition": "auto",
         "type": "bar",
         "x": [
          "bed_bath_table",
          "computers_accessories",
          "consoles_games",
          "cool_stuff",
          "furniture_decor",
          "garden_tools",
          "health_beauty",
          "perfumery",
          "watches_gifts"
         ],
         "xaxis": "x",
         "y": {
          "bdata": "yujjTqeMHsBtEnDWDPkzwC9g+jn+V7G/nEk6H6m/JkA9+sXBcHUvwKvwWk5BCTZA6CFvD7zVWEAc/4Cap6k9QAZ4tCobWj1A",
          "dtype": "f8"
         },
         "yaxis": "y"
        }
       ],
       "layout": {
        "barmode": "relative",
        "legend": {
         "tracegroupgap": 0
        },
        "template": {
         "data": {
          "bar": [
           {
            "error_x": {
             "color": "#2a3f5f"
            },
            "error_y": {
             "color": "#2a3f5f"
            },
            "marker": {
             "line": {
              "color": "white",
              "width": 0.5
             },
             "pattern": {
              "fillmode": "overlay",
              "size": 10,
              "solidity": 0.2
             }
            },
            "type": "bar"
           }
          ],
          "barpolar": [
           {
            "marker": {
             "line": {
              "color": "white",
              "width": 0.5
             },
             "pattern": {
              "fillmode": "overlay",
              "size": 10,
              "solidity": 0.2
             }
            },
            "type": "barpolar"
           }
          ],
          "carpet": [
           {
            "aaxis": {
             "endlinecolor": "#2a3f5f",
             "gridcolor": "#C8D4E3",
             "linecolor": "#C8D4E3",
             "minorgridcolor": "#C8D4E3",
             "startlinecolor": "#2a3f5f"
            },
            "baxis": {
             "endlinecolor": "#2a3f5f",
             "gridcolor": "#C8D4E3",
             "linecolor": "#C8D4E3",
             "minorgridcolor": "#C8D4E3",
             "startlinecolor": "#2a3f5f"
            },
            "type": "carpet"
           }
          ],
          "choropleth": [
           {
            "colorbar": {
             "outlinewidth": 0,
             "ticks": ""
            },
            "type": "choropleth"
           }
          ],
          "contour": [
           {
            "colorbar": {
             "outlinewidth": 0,
             "ticks": ""
            },
            "colorscale": [
             [
              0,
              "#0d0887"
             ],
             [
              0.1111111111111111,
              "#46039f"
             ],
             [
              0.2222222222222222,
              "#7201a8"
             ],
             [
              0.3333333333333333,
              "#9c179e"
             ],
             [
              0.4444444444444444,
              "#bd3786"
             ],
             [
              0.5555555555555556,
              "#d8576b"
             ],
             [
              0.6666666666666666,
              "#ed7953"
             ],
             [
              0.7777777777777778,
              "#fb9f3a"
             ],
             [
              0.8888888888888888,
              "#fdca26"
             ],
             [
              1,
              "#f0f921"
             ]
            ],
            "type": "contour"
           }
          ],
          "contourcarpet": [
           {
            "colorbar": {
             "outlinewidth": 0,
             "ticks": ""
            },
            "type": "contourcarpet"
           }
          ],
          "heatmap": [
           {
            "colorbar": {
             "outlinewidth": 0,
             "ticks": ""
            },
            "colorscale": [
             [
              0,
              "#0d0887"
             ],
             [
              0.1111111111111111,
              "#46039f"
             ],
             [
              0.2222222222222222,
              "#7201a8"
             ],
             [
              0.3333333333333333,
              "#9c179e"
             ],
             [
              0.4444444444444444,
              "#bd3786"
             ],
             [
              0.5555555555555556,
              "#d8576b"
             ],
             [
              0.6666666666666666,
              "#ed7953"
             ],
             [
              0.7777777777777778,
              "#fb9f3a"
             ],
             [
              0.8888888888888888,
              "#fdca26"
             ],
             [
              1,
              "#f0f921"
             ]
            ],
            "type": "heatmap"
           }
          ],
          "histogram": [
           {
            "marker": {
             "pattern": {
              "fillmode": "overlay",
              "size": 10,
              "solidity": 0.2
             }
            },
            "type": "histogram"
           }
          ],
          "histogram2d": [
           {
            "colorbar": {
             "outlinewidth": 0,
             "ticks": ""
            },
            "colorscale": [
             [
              0,
              "#0d0887"
             ],
             [
              0.1111111111111111,
              "#46039f"
             ],
             [
              0.2222222222222222,
              "#7201a8"
             ],
             [
              0.3333333333333333,
              "#9c179e"
             ],
             [
              0.4444444444444444,
              "#bd3786"
             ],
             [
              0.5555555555555556,
              "#d8576b"
             ],
             [
              0.6666666666666666,
              "#ed7953"
             ],
             [
              0.7777777777777778,
              "#fb9f3a"
             ],
             [
              0.8888888888888888,
              "#fdca26"
             ],
             [
              1,
              "#f0f921"
             ]
            ],
            "type": "histogram2d"
           }
          ],
          "histogram2dcontour": [
           {
            "colorbar": {
             "outlinewidth": 0,
             "ticks": ""
            },
            "colorscale": [
             [
              0,
              "#0d0887"
             ],
             [
              0.1111111111111111,
              "#46039f"
             ],
             [
              0.2222222222222222,
              "#7201a8"
             ],
             [
              0.3333333333333333,
              "#9c179e"
             ],
             [
              0.4444444444444444,
              "#bd3786"
             ],
             [
              0.5555555555555556,
              "#d8576b"
             ],
             [
              0.6666666666666666,
              "#ed7953"
             ],
             [
              0.7777777777777778,
              "#fb9f3a"
             ],
             [
              0.8888888888888888,
              "#fdca26"
             ],
             [
              1,
              "#f0f921"
             ]
            ],
            "type": "histogram2dcontour"
           }
          ],
          "mesh3d": [
           {
            "colorbar": {
             "outlinewidth": 0,
             "ticks": ""
            },
            "type": "mesh3d"
           }
          ],
          "parcoords": [
           {
            "line": {
             "colorbar": {
              "outlinewidth": 0,
              "ticks": ""
             }
            },
            "type": "parcoords"
           }
          ],
          "pie": [
           {
            "automargin": true,
            "type": "pie"
           }
          ],
          "scatter": [
           {
            "fillpattern": {
             "fillmode": "overlay",
             "size": 10,
             "solidity": 0.2
            },
            "type": "scatter"
           }
          ],
          "scatter3d": [
           {
            "line": {
             "colorbar": {
              "outlinewidth": 0,
              "ticks": ""
             }
            },
            "marker": {
             "colorbar": {
              "outlinewidth": 0,
              "ticks": ""
             }
            },
            "type": "scatter3d"
           }
          ],
          "scattercarpet": [
           {
            "marker": {
             "colorbar": {
              "outlinewidth": 0,
              "ticks": ""
             }
            },
            "type": "scattercarpet"
           }
          ],
          "scattergeo": [
           {
            "marker": {
             "colorbar": {
              "outlinewidth": 0,
              "ticks": ""
             }
            },
            "type": "scattergeo"
           }
          ],
          "scattergl": [
           {
            "marker": {
             "colorbar": {
              "outlinewidth": 0,
              "ticks": ""
             }
            },
            "type": "scattergl"
           }
          ],
          "scattermap": [
           {
            "marker": {
             "colorbar": {
              "outlinewidth": 0,
              "ticks": ""
             }
            },
            "type": "scattermap"
           }
          ],
          "scattermapbox": [
           {
            "marker": {
             "colorbar": {
              "outlinewidth": 0,
              "ticks": ""
             }
            },
            "type": "scattermapbox"
           }
          ],
          "scatterpolar": [
           {
            "marker": {
             "colorbar": {
              "outlinewidth": 0,
              "ticks": ""
             }
            },
            "type": "scatterpolar"
           }
          ],
          "scatterpolargl": [
           {
            "marker": {
             "colorbar": {
              "outlinewidth": 0,
              "ticks": ""
             }
            },
            "type": "scatterpolargl"
           }
          ],
          "scatterternary": [
           {
            "marker": {
             "colorbar": {
              "outlinewidth": 0,
              "ticks": ""
             }
            },
            "type": "scatterternary"
           }
          ],
          "surface": [
           {
            "colorbar": {
             "outlinewidth": 0,
             "ticks": ""
            },
            "colorscale": [
             [
              0,
              "#0d0887"
             ],
             [
              0.1111111111111111,
              "#46039f"
             ],
             [
              0.2222222222222222,
              "#7201a8"
             ],
             [
              0.3333333333333333,
              "#9c179e"
             ],
             [
              0.4444444444444444,
              "#bd3786"
             ],
             [
              0.5555555555555556,
              "#d8576b"
             ],
             [
              0.6666666666666666,
              "#ed7953"
             ],
             [
              0.7777777777777778,
              "#fb9f3a"
             ],
             [
              0.8888888888888888,
              "#fdca26"
             ],
             [
              1,
              "#f0f921"
             ]
            ],
            "type": "surface"
           }
          ],
          "table": [
           {
            "cells": {
             "fill": {
              "color": "#EBF0F8"
             },
             "line": {
              "color": "white"
             }
            },
            "header": {
             "fill": {
              "color": "#C8D4E3"
             },
             "line": {
              "color": "white"
             }
            },
            "type": "table"
           }
          ]
         },
         "layout": {
          "annotationdefaults": {
           "arrowcolor": "#2a3f5f",
           "arrowhead": 0,
           "arrowwidth": 1
          },
          "autotypenumbers": "strict",
          "coloraxis": {
           "colorbar": {
            "outlinewidth": 0,
            "ticks": ""
           }
          },
          "colorscale": {
           "diverging": [
            [
             0,
             "#8e0152"
            ],
            [
             0.1,
             "#c51b7d"
            ],
            [
             0.2,
             "#de77ae"
            ],
            [
             0.3,
             "#f1b6da"
            ],
            [
             0.4,
             "#fde0ef"
            ],
            [
             0.5,
             "#f7f7f7"
            ],
            [
             0.6,
             "#e6f5d0"
            ],
            [
             0.7,
             "#b8e186"
            ],
            [
             0.8,
             "#7fbc41"
            ],
            [
             0.9,
             "#4d9221"
            ],
            [
             1,
             "#276419"
            ]
           ],
           "sequential": [
            [
             0,
             "#0d0887"
            ],
            [
             0.1111111111111111,
             "#46039f"
            ],
            [
             0.2222222222222222,
             "#7201a8"
            ],
            [
             0.3333333333333333,
             "#9c179e"
            ],
            [
             0.4444444444444444,
             "#bd3786"
            ],
            [
             0.5555555555555556,
             "#d8576b"
            ],
            [
             0.6666666666666666,
             "#ed7953"
            ],
            [
             0.7777777777777778,
             "#fb9f3a"
            ],
            [
             0.8888888888888888,
             "#fdca26"
            ],
            [
             1,
             "#f0f921"
            ]
           ],
           "sequentialminus": [
            [
             0,
             "#0d0887"
            ],
            [
             0.1111111111111111,
             "#46039f"
            ],
            [
             0.2222222222222222,
             "#7201a8"
            ],
            [
             0.3333333333333333,
             "#9c179e"
            ],
            [
             0.4444444444444444,
             "#bd3786"
            ],
            [
             0.5555555555555556,
             "#d8576b"
            ],
            [
             0.6666666666666666,
             "#ed7953"
            ],
            [
             0.7777777777777778,
             "#fb9f3a"
            ],
            [
             0.8888888888888888,
             "#fdca26"
            ],
            [
             1,
             "#f0f921"
            ]
           ]
          },
          "colorway": [
           "#636efa",
           "#EF553B",
           "#00cc96",
           "#ab63fa",
           "#FFA15A",
           "#19d3f3",
           "#FF6692",
           "#B6E880",
           "#FF97FF",
           "#FECB52"
          ],
          "font": {
           "color": "#2a3f5f"
          },
          "geo": {
           "bgcolor": "white",
           "lakecolor": "white",
           "landcolor": "white",
           "showlakes": true,
           "showland": true,
           "subunitcolor": "#C8D4E3"
          },
          "hoverlabel": {
           "align": "left"
          },
          "hovermode": "closest",
          "mapbox": {
           "style": "light"
          },
          "paper_bgcolor": "white",
          "plot_bgcolor": "white",
          "polar": {
           "angularaxis": {
            "gridcolor": "#EBF0F8",
            "linecolor": "#EBF0F8",
            "ticks": ""
           },
           "bgcolor": "white",
           "radialaxis": {
            "gridcolor": "#EBF0F8",
            "linecolor": "#EBF0F8",
            "ticks": ""
           }
          },
          "scene": {
           "xaxis": {
            "backgroundcolor": "white",
            "gridcolor": "#DFE8F3",
            "gridwidth": 2,
            "linecolor": "#EBF0F8",
            "showbackground": true,
            "ticks": "",
            "zerolinecolor": "#EBF0F8"
           },
           "yaxis": {
            "backgroundcolor": "white",
            "gridcolor": "#DFE8F3",
            "gridwidth": 2,
            "linecolor": "#EBF0F8",
            "showbackground": true,
            "ticks": "",
            "zerolinecolor": "#EBF0F8"
           },
           "zaxis": {
            "backgroundcolor": "white",
            "gridcolor": "#DFE8F3",
            "gridwidth": 2,
            "linecolor": "#EBF0F8",
            "showbackground": true,
            "ticks": "",
            "zerolinecolor": "#EBF0F8"
           }
          },
          "shapedefaults": {
           "line": {
            "color": "#2a3f5f"
           }
          },
          "ternary": {
           "aaxis": {
            "gridcolor": "#DFE8F3",
            "linecolor": "#A2B1C6",
            "ticks": ""
           },
           "baxis": {
            "gridcolor": "#DFE8F3",
            "linecolor": "#A2B1C6",
            "ticks": ""
           },
           "bgcolor": "white",
           "caxis": {
            "gridcolor": "#DFE8F3",
            "linecolor": "#A2B1C6",
            "ticks": ""
           }
          },
          "title": {
           "x": 0.05
          },
          "xaxis": {
           "automargin": true,
           "gridcolor": "#EBF0F8",
           "linecolor": "#EBF0F8",
           "ticks": "",
           "title": {
            "standoff": 15
           },
           "zerolinecolor": "#EBF0F8",
           "zerolinewidth": 2
          },
          "yaxis": {
           "automargin": true,
           "gridcolor": "#EBF0F8",
           "linecolor": "#EBF0F8",
           "ticks": "",
           "title": {
            "standoff": 15
           },
           "zerolinecolor": "#EBF0F8",
           "zerolinewidth": 2
          }
         }
        },
        "title": {
         "text": "Average Competitor Price Difference by Product Category"
        },
        "xaxis": {
         "anchor": "y",
         "domain": [
          0,
          1
         ],
         "title": {
          "text": "Product Category"
         }
        },
        "yaxis": {
         "anchor": "x",
         "domain": [
          0,
          1
         ],
         "title": {
          "text": "Average Competitor Price Difference"
         }
        }
       }
      }
     },
     "metadata": {},
     "output_type": "display_data"
    }
   ],
   "source": [
    "data['comp_price_diff'] = data['unit_price'] - data['comp_1'] \n",
    "\n",
    "avg_price_diff_by_category = data.groupby('product_category_name')['comp_price_diff'].mean().reset_index()\n",
    "\n",
    "fig = px.bar(avg_price_diff_by_category, \n",
    "             x='product_category_name', \n",
    "             y='comp_price_diff', \n",
    "             title='Average Competitor Price Difference by Product Category')\n",
    "fig.update_layout(\n",
    "    xaxis_title='Product Category',\n",
    "    yaxis_title='Average Competitor Price Difference'\n",
    ")\n",
    "fig.show()"
   ]
  },
  {
   "cell_type": "markdown",
   "metadata": {},
   "source": [
    "#### Optimization Modelling"
   ]
  },
  {
   "cell_type": "code",
   "execution_count": 24,
   "metadata": {},
   "outputs": [
    {
     "data": {
      "text/html": [
       "<style>#sk-container-id-1 {\n",
       "  /* Definition of color scheme common for light and dark mode */\n",
       "  --sklearn-color-text: #000;\n",
       "  --sklearn-color-text-muted: #666;\n",
       "  --sklearn-color-line: gray;\n",
       "  /* Definition of color scheme for unfitted estimators */\n",
       "  --sklearn-color-unfitted-level-0: #fff5e6;\n",
       "  --sklearn-color-unfitted-level-1: #f6e4d2;\n",
       "  --sklearn-color-unfitted-level-2: #ffe0b3;\n",
       "  --sklearn-color-unfitted-level-3: chocolate;\n",
       "  /* Definition of color scheme for fitted estimators */\n",
       "  --sklearn-color-fitted-level-0: #f0f8ff;\n",
       "  --sklearn-color-fitted-level-1: #d4ebff;\n",
       "  --sklearn-color-fitted-level-2: #b3dbfd;\n",
       "  --sklearn-color-fitted-level-3: cornflowerblue;\n",
       "\n",
       "  /* Specific color for light theme */\n",
       "  --sklearn-color-text-on-default-background: var(--sg-text-color, var(--theme-code-foreground, var(--jp-content-font-color1, black)));\n",
       "  --sklearn-color-background: var(--sg-background-color, var(--theme-background, var(--jp-layout-color0, white)));\n",
       "  --sklearn-color-border-box: var(--sg-text-color, var(--theme-code-foreground, var(--jp-content-font-color1, black)));\n",
       "  --sklearn-color-icon: #696969;\n",
       "\n",
       "  @media (prefers-color-scheme: dark) {\n",
       "    /* Redefinition of color scheme for dark theme */\n",
       "    --sklearn-color-text-on-default-background: var(--sg-text-color, var(--theme-code-foreground, var(--jp-content-font-color1, white)));\n",
       "    --sklearn-color-background: var(--sg-background-color, var(--theme-background, var(--jp-layout-color0, #111)));\n",
       "    --sklearn-color-border-box: var(--sg-text-color, var(--theme-code-foreground, var(--jp-content-font-color1, white)));\n",
       "    --sklearn-color-icon: #878787;\n",
       "  }\n",
       "}\n",
       "\n",
       "#sk-container-id-1 {\n",
       "  color: var(--sklearn-color-text);\n",
       "}\n",
       "\n",
       "#sk-container-id-1 pre {\n",
       "  padding: 0;\n",
       "}\n",
       "\n",
       "#sk-container-id-1 input.sk-hidden--visually {\n",
       "  border: 0;\n",
       "  clip: rect(1px 1px 1px 1px);\n",
       "  clip: rect(1px, 1px, 1px, 1px);\n",
       "  height: 1px;\n",
       "  margin: -1px;\n",
       "  overflow: hidden;\n",
       "  padding: 0;\n",
       "  position: absolute;\n",
       "  width: 1px;\n",
       "}\n",
       "\n",
       "#sk-container-id-1 div.sk-dashed-wrapped {\n",
       "  border: 1px dashed var(--sklearn-color-line);\n",
       "  margin: 0 0.4em 0.5em 0.4em;\n",
       "  box-sizing: border-box;\n",
       "  padding-bottom: 0.4em;\n",
       "  background-color: var(--sklearn-color-background);\n",
       "}\n",
       "\n",
       "#sk-container-id-1 div.sk-container {\n",
       "  /* jupyter's `normalize.less` sets `[hidden] { display: none; }`\n",
       "     but bootstrap.min.css set `[hidden] { display: none !important; }`\n",
       "     so we also need the `!important` here to be able to override the\n",
       "     default hidden behavior on the sphinx rendered scikit-learn.org.\n",
       "     See: https://github.com/scikit-learn/scikit-learn/issues/21755 */\n",
       "  display: inline-block !important;\n",
       "  position: relative;\n",
       "}\n",
       "\n",
       "#sk-container-id-1 div.sk-text-repr-fallback {\n",
       "  display: none;\n",
       "}\n",
       "\n",
       "div.sk-parallel-item,\n",
       "div.sk-serial,\n",
       "div.sk-item {\n",
       "  /* draw centered vertical line to link estimators */\n",
       "  background-image: linear-gradient(var(--sklearn-color-text-on-default-background), var(--sklearn-color-text-on-default-background));\n",
       "  background-size: 2px 100%;\n",
       "  background-repeat: no-repeat;\n",
       "  background-position: center center;\n",
       "}\n",
       "\n",
       "/* Parallel-specific style estimator block */\n",
       "\n",
       "#sk-container-id-1 div.sk-parallel-item::after {\n",
       "  content: \"\";\n",
       "  width: 100%;\n",
       "  border-bottom: 2px solid var(--sklearn-color-text-on-default-background);\n",
       "  flex-grow: 1;\n",
       "}\n",
       "\n",
       "#sk-container-id-1 div.sk-parallel {\n",
       "  display: flex;\n",
       "  align-items: stretch;\n",
       "  justify-content: center;\n",
       "  background-color: var(--sklearn-color-background);\n",
       "  position: relative;\n",
       "}\n",
       "\n",
       "#sk-container-id-1 div.sk-parallel-item {\n",
       "  display: flex;\n",
       "  flex-direction: column;\n",
       "}\n",
       "\n",
       "#sk-container-id-1 div.sk-parallel-item:first-child::after {\n",
       "  align-self: flex-end;\n",
       "  width: 50%;\n",
       "}\n",
       "\n",
       "#sk-container-id-1 div.sk-parallel-item:last-child::after {\n",
       "  align-self: flex-start;\n",
       "  width: 50%;\n",
       "}\n",
       "\n",
       "#sk-container-id-1 div.sk-parallel-item:only-child::after {\n",
       "  width: 0;\n",
       "}\n",
       "\n",
       "/* Serial-specific style estimator block */\n",
       "\n",
       "#sk-container-id-1 div.sk-serial {\n",
       "  display: flex;\n",
       "  flex-direction: column;\n",
       "  align-items: center;\n",
       "  background-color: var(--sklearn-color-background);\n",
       "  padding-right: 1em;\n",
       "  padding-left: 1em;\n",
       "}\n",
       "\n",
       "\n",
       "/* Toggleable style: style used for estimator/Pipeline/ColumnTransformer box that is\n",
       "clickable and can be expanded/collapsed.\n",
       "- Pipeline and ColumnTransformer use this feature and define the default style\n",
       "- Estimators will overwrite some part of the style using the `sk-estimator` class\n",
       "*/\n",
       "\n",
       "/* Pipeline and ColumnTransformer style (default) */\n",
       "\n",
       "#sk-container-id-1 div.sk-toggleable {\n",
       "  /* Default theme specific background. It is overwritten whether we have a\n",
       "  specific estimator or a Pipeline/ColumnTransformer */\n",
       "  background-color: var(--sklearn-color-background);\n",
       "}\n",
       "\n",
       "/* Toggleable label */\n",
       "#sk-container-id-1 label.sk-toggleable__label {\n",
       "  cursor: pointer;\n",
       "  display: flex;\n",
       "  width: 100%;\n",
       "  margin-bottom: 0;\n",
       "  padding: 0.5em;\n",
       "  box-sizing: border-box;\n",
       "  text-align: center;\n",
       "  align-items: start;\n",
       "  justify-content: space-between;\n",
       "  gap: 0.5em;\n",
       "}\n",
       "\n",
       "#sk-container-id-1 label.sk-toggleable__label .caption {\n",
       "  font-size: 0.6rem;\n",
       "  font-weight: lighter;\n",
       "  color: var(--sklearn-color-text-muted);\n",
       "}\n",
       "\n",
       "#sk-container-id-1 label.sk-toggleable__label-arrow:before {\n",
       "  /* Arrow on the left of the label */\n",
       "  content: \"▸\";\n",
       "  float: left;\n",
       "  margin-right: 0.25em;\n",
       "  color: var(--sklearn-color-icon);\n",
       "}\n",
       "\n",
       "#sk-container-id-1 label.sk-toggleable__label-arrow:hover:before {\n",
       "  color: var(--sklearn-color-text);\n",
       "}\n",
       "\n",
       "/* Toggleable content - dropdown */\n",
       "\n",
       "#sk-container-id-1 div.sk-toggleable__content {\n",
       "  max-height: 0;\n",
       "  max-width: 0;\n",
       "  overflow: hidden;\n",
       "  text-align: left;\n",
       "  /* unfitted */\n",
       "  background-color: var(--sklearn-color-unfitted-level-0);\n",
       "}\n",
       "\n",
       "#sk-container-id-1 div.sk-toggleable__content.fitted {\n",
       "  /* fitted */\n",
       "  background-color: var(--sklearn-color-fitted-level-0);\n",
       "}\n",
       "\n",
       "#sk-container-id-1 div.sk-toggleable__content pre {\n",
       "  margin: 0.2em;\n",
       "  border-radius: 0.25em;\n",
       "  color: var(--sklearn-color-text);\n",
       "  /* unfitted */\n",
       "  background-color: var(--sklearn-color-unfitted-level-0);\n",
       "}\n",
       "\n",
       "#sk-container-id-1 div.sk-toggleable__content.fitted pre {\n",
       "  /* unfitted */\n",
       "  background-color: var(--sklearn-color-fitted-level-0);\n",
       "}\n",
       "\n",
       "#sk-container-id-1 input.sk-toggleable__control:checked~div.sk-toggleable__content {\n",
       "  /* Expand drop-down */\n",
       "  max-height: 200px;\n",
       "  max-width: 100%;\n",
       "  overflow: auto;\n",
       "}\n",
       "\n",
       "#sk-container-id-1 input.sk-toggleable__control:checked~label.sk-toggleable__label-arrow:before {\n",
       "  content: \"▾\";\n",
       "}\n",
       "\n",
       "/* Pipeline/ColumnTransformer-specific style */\n",
       "\n",
       "#sk-container-id-1 div.sk-label input.sk-toggleable__control:checked~label.sk-toggleable__label {\n",
       "  color: var(--sklearn-color-text);\n",
       "  background-color: var(--sklearn-color-unfitted-level-2);\n",
       "}\n",
       "\n",
       "#sk-container-id-1 div.sk-label.fitted input.sk-toggleable__control:checked~label.sk-toggleable__label {\n",
       "  background-color: var(--sklearn-color-fitted-level-2);\n",
       "}\n",
       "\n",
       "/* Estimator-specific style */\n",
       "\n",
       "/* Colorize estimator box */\n",
       "#sk-container-id-1 div.sk-estimator input.sk-toggleable__control:checked~label.sk-toggleable__label {\n",
       "  /* unfitted */\n",
       "  background-color: var(--sklearn-color-unfitted-level-2);\n",
       "}\n",
       "\n",
       "#sk-container-id-1 div.sk-estimator.fitted input.sk-toggleable__control:checked~label.sk-toggleable__label {\n",
       "  /* fitted */\n",
       "  background-color: var(--sklearn-color-fitted-level-2);\n",
       "}\n",
       "\n",
       "#sk-container-id-1 div.sk-label label.sk-toggleable__label,\n",
       "#sk-container-id-1 div.sk-label label {\n",
       "  /* The background is the default theme color */\n",
       "  color: var(--sklearn-color-text-on-default-background);\n",
       "}\n",
       "\n",
       "/* On hover, darken the color of the background */\n",
       "#sk-container-id-1 div.sk-label:hover label.sk-toggleable__label {\n",
       "  color: var(--sklearn-color-text);\n",
       "  background-color: var(--sklearn-color-unfitted-level-2);\n",
       "}\n",
       "\n",
       "/* Label box, darken color on hover, fitted */\n",
       "#sk-container-id-1 div.sk-label.fitted:hover label.sk-toggleable__label.fitted {\n",
       "  color: var(--sklearn-color-text);\n",
       "  background-color: var(--sklearn-color-fitted-level-2);\n",
       "}\n",
       "\n",
       "/* Estimator label */\n",
       "\n",
       "#sk-container-id-1 div.sk-label label {\n",
       "  font-family: monospace;\n",
       "  font-weight: bold;\n",
       "  display: inline-block;\n",
       "  line-height: 1.2em;\n",
       "}\n",
       "\n",
       "#sk-container-id-1 div.sk-label-container {\n",
       "  text-align: center;\n",
       "}\n",
       "\n",
       "/* Estimator-specific */\n",
       "#sk-container-id-1 div.sk-estimator {\n",
       "  font-family: monospace;\n",
       "  border: 1px dotted var(--sklearn-color-border-box);\n",
       "  border-radius: 0.25em;\n",
       "  box-sizing: border-box;\n",
       "  margin-bottom: 0.5em;\n",
       "  /* unfitted */\n",
       "  background-color: var(--sklearn-color-unfitted-level-0);\n",
       "}\n",
       "\n",
       "#sk-container-id-1 div.sk-estimator.fitted {\n",
       "  /* fitted */\n",
       "  background-color: var(--sklearn-color-fitted-level-0);\n",
       "}\n",
       "\n",
       "/* on hover */\n",
       "#sk-container-id-1 div.sk-estimator:hover {\n",
       "  /* unfitted */\n",
       "  background-color: var(--sklearn-color-unfitted-level-2);\n",
       "}\n",
       "\n",
       "#sk-container-id-1 div.sk-estimator.fitted:hover {\n",
       "  /* fitted */\n",
       "  background-color: var(--sklearn-color-fitted-level-2);\n",
       "}\n",
       "\n",
       "/* Specification for estimator info (e.g. \"i\" and \"?\") */\n",
       "\n",
       "/* Common style for \"i\" and \"?\" */\n",
       "\n",
       ".sk-estimator-doc-link,\n",
       "a:link.sk-estimator-doc-link,\n",
       "a:visited.sk-estimator-doc-link {\n",
       "  float: right;\n",
       "  font-size: smaller;\n",
       "  line-height: 1em;\n",
       "  font-family: monospace;\n",
       "  background-color: var(--sklearn-color-background);\n",
       "  border-radius: 1em;\n",
       "  height: 1em;\n",
       "  width: 1em;\n",
       "  text-decoration: none !important;\n",
       "  margin-left: 0.5em;\n",
       "  text-align: center;\n",
       "  /* unfitted */\n",
       "  border: var(--sklearn-color-unfitted-level-1) 1pt solid;\n",
       "  color: var(--sklearn-color-unfitted-level-1);\n",
       "}\n",
       "\n",
       ".sk-estimator-doc-link.fitted,\n",
       "a:link.sk-estimator-doc-link.fitted,\n",
       "a:visited.sk-estimator-doc-link.fitted {\n",
       "  /* fitted */\n",
       "  border: var(--sklearn-color-fitted-level-1) 1pt solid;\n",
       "  color: var(--sklearn-color-fitted-level-1);\n",
       "}\n",
       "\n",
       "/* On hover */\n",
       "div.sk-estimator:hover .sk-estimator-doc-link:hover,\n",
       ".sk-estimator-doc-link:hover,\n",
       "div.sk-label-container:hover .sk-estimator-doc-link:hover,\n",
       ".sk-estimator-doc-link:hover {\n",
       "  /* unfitted */\n",
       "  background-color: var(--sklearn-color-unfitted-level-3);\n",
       "  color: var(--sklearn-color-background);\n",
       "  text-decoration: none;\n",
       "}\n",
       "\n",
       "div.sk-estimator.fitted:hover .sk-estimator-doc-link.fitted:hover,\n",
       ".sk-estimator-doc-link.fitted:hover,\n",
       "div.sk-label-container:hover .sk-estimator-doc-link.fitted:hover,\n",
       ".sk-estimator-doc-link.fitted:hover {\n",
       "  /* fitted */\n",
       "  background-color: var(--sklearn-color-fitted-level-3);\n",
       "  color: var(--sklearn-color-background);\n",
       "  text-decoration: none;\n",
       "}\n",
       "\n",
       "/* Span, style for the box shown on hovering the info icon */\n",
       ".sk-estimator-doc-link span {\n",
       "  display: none;\n",
       "  z-index: 9999;\n",
       "  position: relative;\n",
       "  font-weight: normal;\n",
       "  right: .2ex;\n",
       "  padding: .5ex;\n",
       "  margin: .5ex;\n",
       "  width: min-content;\n",
       "  min-width: 20ex;\n",
       "  max-width: 50ex;\n",
       "  color: var(--sklearn-color-text);\n",
       "  box-shadow: 2pt 2pt 4pt #999;\n",
       "  /* unfitted */\n",
       "  background: var(--sklearn-color-unfitted-level-0);\n",
       "  border: .5pt solid var(--sklearn-color-unfitted-level-3);\n",
       "}\n",
       "\n",
       ".sk-estimator-doc-link.fitted span {\n",
       "  /* fitted */\n",
       "  background: var(--sklearn-color-fitted-level-0);\n",
       "  border: var(--sklearn-color-fitted-level-3);\n",
       "}\n",
       "\n",
       ".sk-estimator-doc-link:hover span {\n",
       "  display: block;\n",
       "}\n",
       "\n",
       "/* \"?\"-specific style due to the `<a>` HTML tag */\n",
       "\n",
       "#sk-container-id-1 a.estimator_doc_link {\n",
       "  float: right;\n",
       "  font-size: 1rem;\n",
       "  line-height: 1em;\n",
       "  font-family: monospace;\n",
       "  background-color: var(--sklearn-color-background);\n",
       "  border-radius: 1rem;\n",
       "  height: 1rem;\n",
       "  width: 1rem;\n",
       "  text-decoration: none;\n",
       "  /* unfitted */\n",
       "  color: var(--sklearn-color-unfitted-level-1);\n",
       "  border: var(--sklearn-color-unfitted-level-1) 1pt solid;\n",
       "}\n",
       "\n",
       "#sk-container-id-1 a.estimator_doc_link.fitted {\n",
       "  /* fitted */\n",
       "  border: var(--sklearn-color-fitted-level-1) 1pt solid;\n",
       "  color: var(--sklearn-color-fitted-level-1);\n",
       "}\n",
       "\n",
       "/* On hover */\n",
       "#sk-container-id-1 a.estimator_doc_link:hover {\n",
       "  /* unfitted */\n",
       "  background-color: var(--sklearn-color-unfitted-level-3);\n",
       "  color: var(--sklearn-color-background);\n",
       "  text-decoration: none;\n",
       "}\n",
       "\n",
       "#sk-container-id-1 a.estimator_doc_link.fitted:hover {\n",
       "  /* fitted */\n",
       "  background-color: var(--sklearn-color-fitted-level-3);\n",
       "}\n",
       "</style><div id=\"sk-container-id-1\" class=\"sk-top-container\"><div class=\"sk-text-repr-fallback\"><pre>DecisionTreeRegressor()</pre><b>In a Jupyter environment, please rerun this cell to show the HTML representation or trust the notebook. <br />On GitHub, the HTML representation is unable to render, please try loading this page with nbviewer.org.</b></div><div class=\"sk-container\" hidden><div class=\"sk-item\"><div class=\"sk-estimator fitted sk-toggleable\"><input class=\"sk-toggleable__control sk-hidden--visually\" id=\"sk-estimator-id-1\" type=\"checkbox\" checked><label for=\"sk-estimator-id-1\" class=\"sk-toggleable__label fitted sk-toggleable__label-arrow\"><div><div>DecisionTreeRegressor</div></div><div><a class=\"sk-estimator-doc-link fitted\" rel=\"noreferrer\" target=\"_blank\" href=\"https://scikit-learn.org/1.6/modules/generated/sklearn.tree.DecisionTreeRegressor.html\">?<span>Documentation for DecisionTreeRegressor</span></a><span class=\"sk-estimator-doc-link fitted\">i<span>Fitted</span></span></div></label><div class=\"sk-toggleable__content fitted\"><pre>DecisionTreeRegressor()</pre></div> </div></div></div></div>"
      ],
      "text/plain": [
       "DecisionTreeRegressor()"
      ]
     },
     "execution_count": 24,
     "metadata": {},
     "output_type": "execute_result"
    }
   ],
   "source": [
    "from sklearn.model_selection import train_test_split\n",
    "from sklearn.tree import DecisionTreeRegressor\n",
    "from sklearn.metrics import mean_squared_error\n",
    "\n",
    "X = numerical_data.drop('total_price', axis=1)\n",
    "y = data['total_price']\n",
    "\n",
    "X_train, X_test, y_train, y_test = train_test_split(X, y, \n",
    "                                                    test_size=0.2,\n",
    "                                                    random_state=42)\n",
    "\n",
    "# Train a linear regression model\n",
    "model = DecisionTreeRegressor()\n",
    "model.fit(X_train, y_train)"
   ]
  },
  {
   "cell_type": "code",
   "execution_count": 25,
   "metadata": {},
   "outputs": [
    {
     "data": {
      "application/vnd.plotly.v1+json": {
       "config": {
        "plotlyServerURL": "https://plot.ly"
       },
       "data": [
        {
         "marker": {
          "color": "blue"
         },
         "mode": "markers",
         "name": "Predicted vs. Actual Retail Price",
         "type": "scatter",
         "x": {
          "bdata": "mpmZmZmHqEA9CtejcG+cQJqZmZmZ+VhAAAAAAAAGoUDsUbgehb9yQJqZmZmZ0X1Aj8L1KBz8skAzMzMzsy2xQGZmZmZmNoFAAAAAAAD4hkAAAAAAADBvQM3MzMzMtqlAAAAAAACAU0BI4XoUrt9gQI/C9ShcP2VAmpmZmRkWx0Bcj8L1qEOhQGZmZmZmjoRAuB6F65GotEAzMzMzMzNDQDMzMzMzQKJASOF6FK7vn0AzMzMzM090QM3MzMzMlJdAPQrXozBoskC4HoXrUSx1QAAAAAAA4GpAMzMzMzPzWkCamZmZmQuIQMP1KFyPP5pAZmZmZmaOdEAK16NwvfWgQDMzMzMzY2ZAKVyPwnX7okA9CtejcN+VQAAAAAAAgGFASOF6FK4dgkAfhetRuH5sQAAAAAAAVKBASOF6FK7fYEDsUbgehf99QHE9CtejPoVAAAAAAAC4ckAzMzMzM4+hQGZmZmZm3oVAAAAAAAB+k0CamZmZmdl9QAAAAAAAgFNAAAAAAABgeECamZmZmSKjQJqZmZmZEXxAzczMzMzMfECamZmZmfypQM3MzMzM/H1AAAAAAACMgkAAAAAAAEBtQDMzMzMzO3FAzczMzMxugUCPwvUoXP+TQI/C9Shc/2hA9ihcj8L9ZEAAAAAAAGyHQBSuR+F6P5BA16NwPQoflkBmZmZmZuYzQIXrUbgeR5RA7FG4HoWPm0CPwvUoXD91QAAAAAAAkbBA7FG4HoXfgECamZmZmRuaQDMzMzMzg41AUrgehes9cEAAAAAAgIC0QDMzMzMzK3BAKVyPwvV8fEAAAAAAAICLQIXrUbgeHXxAMzMzMzPzbUD2KFyPwv10QAAAAAAAYHhAAAAAAABgkUAAAAAAAGSpQI/C9Shcv4dAAAAAAABit0BmZmZmZs6CQNejcD0KP2dAAAAAAABAYECuR+F6FP6BQDMzMzMzM3NAZmZmZmbegUBmZmZmZnZmQI/C9ShcO51AZmZmZmYmW0BmZmZmZrZiQAAAAAAAgFNAmpmZmZnde0AAAAAAgJmwQAAAAAAA4HhAmpmZmZnHj0CF61G4HtSSQAAAAAAAHoJAAAAAAABAQECamZmZmQOdQEjhehSuP4BAj8L1KFy/a0BmZmZm5ty9QAAAAAAAgItAAAAAAAA+p0BmZmZmZo6EQD0K16Nw349AzczMzMymm0CamZmZmRlCQAAAAAAA8IVAw/UoXI8vkUAAAAAAAMCIQGZmZmZmtnJAuB6F61HsmkAfhetRuE+ZQI/C9ShcP5BAmpmZmZlViEDXo3A9Ct9vQOxRuB6Fv3JAPQrXo3B/kUAAAAAAAEyaQAAAAAAAr6tAZmZmZmbWfkApXI/C9RhwQJqZmZmZ+a1Aj8L1KFz/iEBI4XoUrh+WQDMzMzMzs3lAj8L1KFy3ckAAAAAAgNLBQFyPwvUoh51AAAAAAADYmEA=",
          "dtype": "f8"
         },
         "y": {
          "bdata": "AAAAAAAVpUAAAAAAABKaQI/C9Shc/1hAmpmZmZkWoUDsUbgehb9yQAAAAAAAMH9Aj8L1KFy/rkAzMzMzs6GyQIXrUbgeR4RAAAAAAABAikBmZmZmZrZyQAAAAAAAlaVAmpmZmZn5U0BI4XoUrj9gQDMzMzMz811AzczMzMweuUBI4XoUrj+gQHE9CtejPHpAAAAAAIBDxEAzMzMzMzNDQDMzMzMzQKJAAAAAAAASmkDXo3A9Ch92QJqZmZmZ5ZVAMzMzM7OhskA9CtejcNlwQGZmZmZm3nVAMzMzMzPzWkAAAAAAAPCLQBSuR+F645lAMzMzMzPzcEDD9Shcj9+dQM3MzMzMXGtAUrgehetCnEA9CtejcN+VQDMzMzMzO2FApHA9Ctc9hECPwvUoXD91QAAAAAAAyqFASOF6FK4/YEDsUbgehf99QBSuR+F6vodAAAAAAAC4ckBmZmZmZtaiQGZmZmZm3oVAAAAAAAAOlUD2KFyPwl2EQAAAAAAAgFNAAAAAAABAfUAAAAAAAJipQAAAAAAAMH9AAAAAAAAQeECamZmZGR+mQEjhehSuf3ZAZmZmZmZ+jUAzMzMzM/NtQAAAAAAAuHJAZmZmZma2gkBmZmZmZtKPQI/C9Shc/2hAPQrXo3D9Z0AAAAAAAIyKQDMzMzMzZ4tAZmZmZmaclkAAAAAAAIBBQFyPwvUoS5NAAAAAAAASmkDXo3A9Ch9mQAAAAAAAA7FA7FG4HoXfgECamZmZmeWVQEjhehSuP5BAPQrXo3D9c0AAAAAAAKC0QD0K16Nw/XNAAAAAAACYgkAAAAAAAHiJQGZmZmZmtoJAAAAAAABAbUCamZmZmdGAQAAAAAAAQH1AmpmZmZklm0Bcj8L1KAurQD0K16Nw34VAAAAAAABsukAAAAAAAJiCQD0K16Nw2XBAmpmZmZkZUkD2KFyPwv2EQB+F61G4nnNAAAAAAAD4fkAzMzMzM/NtQJqZmZmZDZ9AZmZmZma2YkAzMzMzMzNjQAAAAAAAgFNAKVyPwvU+gEAAAAAAABisQM3MzMzMvHxAAAAAAAAQkUAAAAAAAOiMQAAAAAAAMIBAAAAAAACAQUBmZmZmZlyYQI/C9Shc/3hAAAAAAACAa0AAAAAAAGy6QAAAAAAA+IZA7FG4HoUdqEBxPQrXozx6QGZmZmZmfo1AZmZmZmZcmEBmZmZmZuY9QDMzMzMzZ4tAPQrXo3DflUAAAAAAAKiFQI/C9Shct3JAAAAAAACelEC4HoXrUY+aQGZmZmZm0o9AzczMzMw0ikCPwvUoXD91QOxRuB6Fv3JAAAAAAAAukUAAAAAAAJCeQAAAAAAAeK5AAAAAAACYgkAAAAAAAHB3QAAAAAAA7qtAAAAAAACohUAAAAAAABCZQDMzMzMz83dAAAAAAAC4ckAAAAAAAAzCQClcj8L1NptAAAAAAADKoUA=",
          "dtype": "f8"
         }
        },
        {
         "marker": {
          "color": "red"
         },
         "mode": "lines",
         "name": "Ideal Prediction",
         "type": "scatter",
         "x": [
          19.9,
          11820.2
         ],
         "y": [
          19.9,
          11820.2
         ]
        }
       ],
       "layout": {
        "template": {
         "data": {
          "bar": [
           {
            "error_x": {
             "color": "#2a3f5f"
            },
            "error_y": {
             "color": "#2a3f5f"
            },
            "marker": {
             "line": {
              "color": "white",
              "width": 0.5
             },
             "pattern": {
              "fillmode": "overlay",
              "size": 10,
              "solidity": 0.2
             }
            },
            "type": "bar"
           }
          ],
          "barpolar": [
           {
            "marker": {
             "line": {
              "color": "white",
              "width": 0.5
             },
             "pattern": {
              "fillmode": "overlay",
              "size": 10,
              "solidity": 0.2
             }
            },
            "type": "barpolar"
           }
          ],
          "carpet": [
           {
            "aaxis": {
             "endlinecolor": "#2a3f5f",
             "gridcolor": "#C8D4E3",
             "linecolor": "#C8D4E3",
             "minorgridcolor": "#C8D4E3",
             "startlinecolor": "#2a3f5f"
            },
            "baxis": {
             "endlinecolor": "#2a3f5f",
             "gridcolor": "#C8D4E3",
             "linecolor": "#C8D4E3",
             "minorgridcolor": "#C8D4E3",
             "startlinecolor": "#2a3f5f"
            },
            "type": "carpet"
           }
          ],
          "choropleth": [
           {
            "colorbar": {
             "outlinewidth": 0,
             "ticks": ""
            },
            "type": "choropleth"
           }
          ],
          "contour": [
           {
            "colorbar": {
             "outlinewidth": 0,
             "ticks": ""
            },
            "colorscale": [
             [
              0,
              "#0d0887"
             ],
             [
              0.1111111111111111,
              "#46039f"
             ],
             [
              0.2222222222222222,
              "#7201a8"
             ],
             [
              0.3333333333333333,
              "#9c179e"
             ],
             [
              0.4444444444444444,
              "#bd3786"
             ],
             [
              0.5555555555555556,
              "#d8576b"
             ],
             [
              0.6666666666666666,
              "#ed7953"
             ],
             [
              0.7777777777777778,
              "#fb9f3a"
             ],
             [
              0.8888888888888888,
              "#fdca26"
             ],
             [
              1,
              "#f0f921"
             ]
            ],
            "type": "contour"
           }
          ],
          "contourcarpet": [
           {
            "colorbar": {
             "outlinewidth": 0,
             "ticks": ""
            },
            "type": "contourcarpet"
           }
          ],
          "heatmap": [
           {
            "colorbar": {
             "outlinewidth": 0,
             "ticks": ""
            },
            "colorscale": [
             [
              0,
              "#0d0887"
             ],
             [
              0.1111111111111111,
              "#46039f"
             ],
             [
              0.2222222222222222,
              "#7201a8"
             ],
             [
              0.3333333333333333,
              "#9c179e"
             ],
             [
              0.4444444444444444,
              "#bd3786"
             ],
             [
              0.5555555555555556,
              "#d8576b"
             ],
             [
              0.6666666666666666,
              "#ed7953"
             ],
             [
              0.7777777777777778,
              "#fb9f3a"
             ],
             [
              0.8888888888888888,
              "#fdca26"
             ],
             [
              1,
              "#f0f921"
             ]
            ],
            "type": "heatmap"
           }
          ],
          "histogram": [
           {
            "marker": {
             "pattern": {
              "fillmode": "overlay",
              "size": 10,
              "solidity": 0.2
             }
            },
            "type": "histogram"
           }
          ],
          "histogram2d": [
           {
            "colorbar": {
             "outlinewidth": 0,
             "ticks": ""
            },
            "colorscale": [
             [
              0,
              "#0d0887"
             ],
             [
              0.1111111111111111,
              "#46039f"
             ],
             [
              0.2222222222222222,
              "#7201a8"
             ],
             [
              0.3333333333333333,
              "#9c179e"
             ],
             [
              0.4444444444444444,
              "#bd3786"
             ],
             [
              0.5555555555555556,
              "#d8576b"
             ],
             [
              0.6666666666666666,
              "#ed7953"
             ],
             [
              0.7777777777777778,
              "#fb9f3a"
             ],
             [
              0.8888888888888888,
              "#fdca26"
             ],
             [
              1,
              "#f0f921"
             ]
            ],
            "type": "histogram2d"
           }
          ],
          "histogram2dcontour": [
           {
            "colorbar": {
             "outlinewidth": 0,
             "ticks": ""
            },
            "colorscale": [
             [
              0,
              "#0d0887"
             ],
             [
              0.1111111111111111,
              "#46039f"
             ],
             [
              0.2222222222222222,
              "#7201a8"
             ],
             [
              0.3333333333333333,
              "#9c179e"
             ],
             [
              0.4444444444444444,
              "#bd3786"
             ],
             [
              0.5555555555555556,
              "#d8576b"
             ],
             [
              0.6666666666666666,
              "#ed7953"
             ],
             [
              0.7777777777777778,
              "#fb9f3a"
             ],
             [
              0.8888888888888888,
              "#fdca26"
             ],
             [
              1,
              "#f0f921"
             ]
            ],
            "type": "histogram2dcontour"
           }
          ],
          "mesh3d": [
           {
            "colorbar": {
             "outlinewidth": 0,
             "ticks": ""
            },
            "type": "mesh3d"
           }
          ],
          "parcoords": [
           {
            "line": {
             "colorbar": {
              "outlinewidth": 0,
              "ticks": ""
             }
            },
            "type": "parcoords"
           }
          ],
          "pie": [
           {
            "automargin": true,
            "type": "pie"
           }
          ],
          "scatter": [
           {
            "fillpattern": {
             "fillmode": "overlay",
             "size": 10,
             "solidity": 0.2
            },
            "type": "scatter"
           }
          ],
          "scatter3d": [
           {
            "line": {
             "colorbar": {
              "outlinewidth": 0,
              "ticks": ""
             }
            },
            "marker": {
             "colorbar": {
              "outlinewidth": 0,
              "ticks": ""
             }
            },
            "type": "scatter3d"
           }
          ],
          "scattercarpet": [
           {
            "marker": {
             "colorbar": {
              "outlinewidth": 0,
              "ticks": ""
             }
            },
            "type": "scattercarpet"
           }
          ],
          "scattergeo": [
           {
            "marker": {
             "colorbar": {
              "outlinewidth": 0,
              "ticks": ""
             }
            },
            "type": "scattergeo"
           }
          ],
          "scattergl": [
           {
            "marker": {
             "colorbar": {
              "outlinewidth": 0,
              "ticks": ""
             }
            },
            "type": "scattergl"
           }
          ],
          "scattermap": [
           {
            "marker": {
             "colorbar": {
              "outlinewidth": 0,
              "ticks": ""
             }
            },
            "type": "scattermap"
           }
          ],
          "scattermapbox": [
           {
            "marker": {
             "colorbar": {
              "outlinewidth": 0,
              "ticks": ""
             }
            },
            "type": "scattermapbox"
           }
          ],
          "scatterpolar": [
           {
            "marker": {
             "colorbar": {
              "outlinewidth": 0,
              "ticks": ""
             }
            },
            "type": "scatterpolar"
           }
          ],
          "scatterpolargl": [
           {
            "marker": {
             "colorbar": {
              "outlinewidth": 0,
              "ticks": ""
             }
            },
            "type": "scatterpolargl"
           }
          ],
          "scatterternary": [
           {
            "marker": {
             "colorbar": {
              "outlinewidth": 0,
              "ticks": ""
             }
            },
            "type": "scatterternary"
           }
          ],
          "surface": [
           {
            "colorbar": {
             "outlinewidth": 0,
             "ticks": ""
            },
            "colorscale": [
             [
              0,
              "#0d0887"
             ],
             [
              0.1111111111111111,
              "#46039f"
             ],
             [
              0.2222222222222222,
              "#7201a8"
             ],
             [
              0.3333333333333333,
              "#9c179e"
             ],
             [
              0.4444444444444444,
              "#bd3786"
             ],
             [
              0.5555555555555556,
              "#d8576b"
             ],
             [
              0.6666666666666666,
              "#ed7953"
             ],
             [
              0.7777777777777778,
              "#fb9f3a"
             ],
             [
              0.8888888888888888,
              "#fdca26"
             ],
             [
              1,
              "#f0f921"
             ]
            ],
            "type": "surface"
           }
          ],
          "table": [
           {
            "cells": {
             "fill": {
              "color": "#EBF0F8"
             },
             "line": {
              "color": "white"
             }
            },
            "header": {
             "fill": {
              "color": "#C8D4E3"
             },
             "line": {
              "color": "white"
             }
            },
            "type": "table"
           }
          ]
         },
         "layout": {
          "annotationdefaults": {
           "arrowcolor": "#2a3f5f",
           "arrowhead": 0,
           "arrowwidth": 1
          },
          "autotypenumbers": "strict",
          "coloraxis": {
           "colorbar": {
            "outlinewidth": 0,
            "ticks": ""
           }
          },
          "colorscale": {
           "diverging": [
            [
             0,
             "#8e0152"
            ],
            [
             0.1,
             "#c51b7d"
            ],
            [
             0.2,
             "#de77ae"
            ],
            [
             0.3,
             "#f1b6da"
            ],
            [
             0.4,
             "#fde0ef"
            ],
            [
             0.5,
             "#f7f7f7"
            ],
            [
             0.6,
             "#e6f5d0"
            ],
            [
             0.7,
             "#b8e186"
            ],
            [
             0.8,
             "#7fbc41"
            ],
            [
             0.9,
             "#4d9221"
            ],
            [
             1,
             "#276419"
            ]
           ],
           "sequential": [
            [
             0,
             "#0d0887"
            ],
            [
             0.1111111111111111,
             "#46039f"
            ],
            [
             0.2222222222222222,
             "#7201a8"
            ],
            [
             0.3333333333333333,
             "#9c179e"
            ],
            [
             0.4444444444444444,
             "#bd3786"
            ],
            [
             0.5555555555555556,
             "#d8576b"
            ],
            [
             0.6666666666666666,
             "#ed7953"
            ],
            [
             0.7777777777777778,
             "#fb9f3a"
            ],
            [
             0.8888888888888888,
             "#fdca26"
            ],
            [
             1,
             "#f0f921"
            ]
           ],
           "sequentialminus": [
            [
             0,
             "#0d0887"
            ],
            [
             0.1111111111111111,
             "#46039f"
            ],
            [
             0.2222222222222222,
             "#7201a8"
            ],
            [
             0.3333333333333333,
             "#9c179e"
            ],
            [
             0.4444444444444444,
             "#bd3786"
            ],
            [
             0.5555555555555556,
             "#d8576b"
            ],
            [
             0.6666666666666666,
             "#ed7953"
            ],
            [
             0.7777777777777778,
             "#fb9f3a"
            ],
            [
             0.8888888888888888,
             "#fdca26"
            ],
            [
             1,
             "#f0f921"
            ]
           ]
          },
          "colorway": [
           "#636efa",
           "#EF553B",
           "#00cc96",
           "#ab63fa",
           "#FFA15A",
           "#19d3f3",
           "#FF6692",
           "#B6E880",
           "#FF97FF",
           "#FECB52"
          ],
          "font": {
           "color": "#2a3f5f"
          },
          "geo": {
           "bgcolor": "white",
           "lakecolor": "white",
           "landcolor": "white",
           "showlakes": true,
           "showland": true,
           "subunitcolor": "#C8D4E3"
          },
          "hoverlabel": {
           "align": "left"
          },
          "hovermode": "closest",
          "mapbox": {
           "style": "light"
          },
          "paper_bgcolor": "white",
          "plot_bgcolor": "white",
          "polar": {
           "angularaxis": {
            "gridcolor": "#EBF0F8",
            "linecolor": "#EBF0F8",
            "ticks": ""
           },
           "bgcolor": "white",
           "radialaxis": {
            "gridcolor": "#EBF0F8",
            "linecolor": "#EBF0F8",
            "ticks": ""
           }
          },
          "scene": {
           "xaxis": {
            "backgroundcolor": "white",
            "gridcolor": "#DFE8F3",
            "gridwidth": 2,
            "linecolor": "#EBF0F8",
            "showbackground": true,
            "ticks": "",
            "zerolinecolor": "#EBF0F8"
           },
           "yaxis": {
            "backgroundcolor": "white",
            "gridcolor": "#DFE8F3",
            "gridwidth": 2,
            "linecolor": "#EBF0F8",
            "showbackground": true,
            "ticks": "",
            "zerolinecolor": "#EBF0F8"
           },
           "zaxis": {
            "backgroundcolor": "white",
            "gridcolor": "#DFE8F3",
            "gridwidth": 2,
            "linecolor": "#EBF0F8",
            "showbackground": true,
            "ticks": "",
            "zerolinecolor": "#EBF0F8"
           }
          },
          "shapedefaults": {
           "line": {
            "color": "#2a3f5f"
           }
          },
          "ternary": {
           "aaxis": {
            "gridcolor": "#DFE8F3",
            "linecolor": "#A2B1C6",
            "ticks": ""
           },
           "baxis": {
            "gridcolor": "#DFE8F3",
            "linecolor": "#A2B1C6",
            "ticks": ""
           },
           "bgcolor": "white",
           "caxis": {
            "gridcolor": "#DFE8F3",
            "linecolor": "#A2B1C6",
            "ticks": ""
           }
          },
          "title": {
           "x": 0.05
          },
          "xaxis": {
           "automargin": true,
           "gridcolor": "#EBF0F8",
           "linecolor": "#EBF0F8",
           "ticks": "",
           "title": {
            "standoff": 15
           },
           "zerolinecolor": "#EBF0F8",
           "zerolinewidth": 2
          },
          "yaxis": {
           "automargin": true,
           "gridcolor": "#EBF0F8",
           "linecolor": "#EBF0F8",
           "ticks": "",
           "title": {
            "standoff": 15
           },
           "zerolinecolor": "#EBF0F8",
           "zerolinewidth": 2
          }
         }
        },
        "title": {
         "text": "Predicted vs. Actual Retail Price"
        },
        "xaxis": {
         "title": {
          "text": "Actual Retail Price"
         }
        },
        "yaxis": {
         "title": {
          "text": "Predicted Retail Price"
         }
        }
       }
      }
     },
     "metadata": {},
     "output_type": "display_data"
    }
   ],
   "source": [
    "y_pred = model.predict(X_test)\n",
    "\n",
    "fig = go.Figure()\n",
    "fig.add_trace(go.Scatter(x=y_test, y=y_pred, mode='markers', \n",
    "                         marker=dict(color='blue'), \n",
    "                         name='Predicted vs. Actual Retail Price'))\n",
    "fig.add_trace(go.Scatter(x=[min(y_test), max(y_test)], y=[min(y_test), max(y_test)], \n",
    "                         mode='lines', \n",
    "                         marker=dict(color='red'), \n",
    "                         name='Ideal Prediction'))\n",
    "fig.update_layout(\n",
    "    title='Predicted vs. Actual Retail Price',\n",
    "    xaxis_title='Actual Retail Price',\n",
    "    yaxis_title='Predicted Retail Price'\n",
    ")\n",
    "fig.show()"
   ]
  },
  {
   "cell_type": "code",
   "execution_count": 26,
   "metadata": {},
   "outputs": [
    {
     "data": {
      "text/plain": [
       "459586.4269110295"
      ]
     },
     "execution_count": 26,
     "metadata": {},
     "output_type": "execute_result"
    }
   ],
   "source": [
    "mean_squared_error(y_test, y_pred)"
   ]
  },
  {
   "cell_type": "code",
   "execution_count": 27,
   "metadata": {},
   "outputs": [
    {
     "name": "stdout",
     "output_type": "stream",
     "text": [
      "Mean Squared Error: 218611.35741661215\n"
     ]
    }
   ],
   "source": [
    "from sklearn.ensemble import RandomForestRegressor\n",
    "from sklearn.metrics import mean_squared_error\n",
    "\n",
    "# Train a Random Forest model\n",
    "model = RandomForestRegressor(n_estimators=100, random_state=42)\n",
    "model.fit(X_train, y_train)\n",
    "\n",
    "# Predict and evaluate\n",
    "y_pred = model.predict(X_test)\n",
    "mse = mean_squared_error(y_test, y_pred)\n",
    "print(f\"Mean Squared Error: {mse}\")\n"
   ]
  },
  {
   "cell_type": "code",
   "execution_count": 28,
   "metadata": {},
   "outputs": [
    {
     "name": "stdout",
     "output_type": "stream",
     "text": [
      "|   iter    |  target   |   price   |\n",
      "-------------------------------------\n",
      "| \u001b[39m1        \u001b[39m | \u001b[39m137.7    \u001b[39m | \u001b[39m163.4    \u001b[39m |\n",
      "| \u001b[39m2        \u001b[39m | \u001b[39m1.222    \u001b[39m | \u001b[39m267.8    \u001b[39m |\n",
      "| \u001b[35m3        \u001b[39m | \u001b[35m2.19e+04 \u001b[39m | \u001b[35m19.94    \u001b[39m |\n",
      "| \u001b[39m4        \u001b[39m | \u001b[39m751.3    \u001b[39m | \u001b[39m123.9    \u001b[39m |\n",
      "| \u001b[39m5        \u001b[39m | \u001b[39m6.204e+03\u001b[39m | \u001b[39m70.4     \u001b[39m |\n",
      "| \u001b[39m6        \u001b[39m | \u001b[39m2.189e+04\u001b[39m | \u001b[39m20.81    \u001b[39m |\n",
      "| \u001b[39m7        \u001b[39m | \u001b[39m0.01353  \u001b[39m | \u001b[39m364.0    \u001b[39m |\n",
      "| \u001b[39m8        \u001b[39m | \u001b[39m2.01e+04 \u001b[39m | \u001b[39m29.47    \u001b[39m |\n",
      "| \u001b[39m9        \u001b[39m | \u001b[39m13.06    \u001b[39m | \u001b[39m216.1    \u001b[39m |\n",
      "| \u001b[39m10       \u001b[39m | \u001b[39m2.19e+04 \u001b[39m | \u001b[39m19.9     \u001b[39m |\n",
      "=====================================\n",
      "Best price to maximize revenue: $19.94\n"
     ]
    }
   ],
   "source": [
    "from bayes_opt import BayesianOptimization\n",
    "import numpy as np\n",
    "\n",
    "\n",
    "def pricing_function(price):\n",
    "    avg_demand = np.mean(data[\"qty\"])\n",
    "    price_sensitivity = -0.05\n",
    "    estimated_demand = avg_demand * np.exp(price_sensitivity * (price - data[\"unit_price\"].mean()))\n",
    "    revenue = price * estimated_demand\n",
    "    return revenue\n",
    "\n",
    "\n",
    "pbounds = {'price': (data['unit_price'].min(), data['unit_price'].max())}\n",
    "\n",
    "optimizer = BayesianOptimization(\n",
    "    f=pricing_function,\n",
    "    pbounds=pbounds,\n",
    "    random_state=1,\n",
    ")\n",
    "\n",
    "optimizer.maximize(init_points=5, n_iter=5)\n",
    "\n",
    "best_price = optimizer.max['params']['price']\n",
    "print(f\"Best price to maximize revenue: ${best_price:.2f}\")\n"
   ]
  },
  {
   "cell_type": "code",
   "execution_count": 30,
   "metadata": {},
   "outputs": [
    {
     "data": {
      "image/png": "[encoded data removed]",
      "text/plain": [
       "<Figure size 640x480 with 1 Axes>"
      ]
     },
     "metadata": {},
     "output_type": "display_data"
    }
   ],
   "source": [
    "import matplotlib.pyplot as plt\n",
    "\n",
    "prices = np.linspace(5, 50, 100)\n",
    "revenues = [pricing_function(p) for p in prices]\n",
    "\n",
    "plt.plot(prices, revenues)\n",
    "plt.scatter(best_price, optimizer.max['target'], c='red')\n",
    "plt.title(\"Price Optimization Landscape\")\n",
    "plt.xlabel(\"Price\")\n",
    "plt.ylabel(\"Revenue\")\n",
    "plt.show()\n"
   ]
  },
  {
   "cell_type": "code",
   "execution_count": 46,
   "metadata": {},
   "outputs": [],
   "source": [
    "df = pd.read_csv(\"retail_price.csv\")"
   ]
  },
  {
   "cell_type": "code",
   "execution_count": null,
   "metadata": {},
   "outputs": [],
   "source": [
    "df['sales'] = df['qty'] * df['unit_price']"
   ]
  },
  {
   "cell_type": "code",
   "execution_count": 48,
   "metadata": {},
   "outputs": [
    {
     "data": {
      "text/html": [
       "<div>\n",
       "<style scoped>\n",
       "    .dataframe tbody tr th:only-of-type {\n",
       "        vertical-align: middle;\n",
       "    }\n",
       "\n",
       "    .dataframe tbody tr th {\n",
       "        vertical-align: top;\n",
       "    }\n",
       "\n",
       "    .dataframe thead th {\n",
       "        text-align: right;\n",
       "    }\n",
       "</style>\n",
       "<table border=\"1\" class=\"dataframe\">\n",
       "  <thead>\n",
       "    <tr style=\"text-align: right;\">\n",
       "      <th></th>\n",
       "      <th>product_id</th>\n",
       "      <th>product_category_name</th>\n",
       "      <th>month_year</th>\n",
       "      <th>qty</th>\n",
       "      <th>total_price</th>\n",
       "      <th>freight_price</th>\n",
       "      <th>unit_price</th>\n",
       "      <th>product_name_lenght</th>\n",
       "      <th>product_description_lenght</th>\n",
       "      <th>product_photos_qty</th>\n",
       "      <th>...</th>\n",
       "      <th>ps1</th>\n",
       "      <th>fp1</th>\n",
       "      <th>comp_2</th>\n",
       "      <th>ps2</th>\n",
       "      <th>fp2</th>\n",
       "      <th>comp_3</th>\n",
       "      <th>ps3</th>\n",
       "      <th>fp3</th>\n",
       "      <th>lag_price</th>\n",
       "      <th>sales</th>\n",
       "    </tr>\n",
       "  </thead>\n",
       "  <tbody>\n",
       "    <tr>\n",
       "      <th>0</th>\n",
       "      <td>bed1</td>\n",
       "      <td>bed_bath_table</td>\n",
       "      <td>01-05-2017</td>\n",
       "      <td>1</td>\n",
       "      <td>45.95</td>\n",
       "      <td>15.100000</td>\n",
       "      <td>45.950000</td>\n",
       "      <td>39</td>\n",
       "      <td>161</td>\n",
       "      <td>2</td>\n",
       "      <td>...</td>\n",
       "      <td>3.9</td>\n",
       "      <td>15.011897</td>\n",
       "      <td>215.000000</td>\n",
       "      <td>4.4</td>\n",
       "      <td>8.760000</td>\n",
       "      <td>45.95</td>\n",
       "      <td>4.0</td>\n",
       "      <td>15.100000</td>\n",
       "      <td>45.900000</td>\n",
       "      <td>45.950000</td>\n",
       "    </tr>\n",
       "    <tr>\n",
       "      <th>1</th>\n",
       "      <td>bed1</td>\n",
       "      <td>bed_bath_table</td>\n",
       "      <td>01-06-2017</td>\n",
       "      <td>3</td>\n",
       "      <td>137.85</td>\n",
       "      <td>12.933333</td>\n",
       "      <td>45.950000</td>\n",
       "      <td>39</td>\n",
       "      <td>161</td>\n",
       "      <td>2</td>\n",
       "      <td>...</td>\n",
       "      <td>3.9</td>\n",
       "      <td>14.769216</td>\n",
       "      <td>209.000000</td>\n",
       "      <td>4.4</td>\n",
       "      <td>21.322000</td>\n",
       "      <td>45.95</td>\n",
       "      <td>4.0</td>\n",
       "      <td>12.933333</td>\n",
       "      <td>45.950000</td>\n",
       "      <td>137.850000</td>\n",
       "    </tr>\n",
       "    <tr>\n",
       "      <th>2</th>\n",
       "      <td>bed1</td>\n",
       "      <td>bed_bath_table</td>\n",
       "      <td>01-07-2017</td>\n",
       "      <td>6</td>\n",
       "      <td>275.70</td>\n",
       "      <td>14.840000</td>\n",
       "      <td>45.950000</td>\n",
       "      <td>39</td>\n",
       "      <td>161</td>\n",
       "      <td>2</td>\n",
       "      <td>...</td>\n",
       "      <td>3.9</td>\n",
       "      <td>13.993833</td>\n",
       "      <td>205.000000</td>\n",
       "      <td>4.4</td>\n",
       "      <td>22.195932</td>\n",
       "      <td>45.95</td>\n",
       "      <td>4.0</td>\n",
       "      <td>14.840000</td>\n",
       "      <td>45.950000</td>\n",
       "      <td>275.700000</td>\n",
       "    </tr>\n",
       "    <tr>\n",
       "      <th>3</th>\n",
       "      <td>bed1</td>\n",
       "      <td>bed_bath_table</td>\n",
       "      <td>01-08-2017</td>\n",
       "      <td>4</td>\n",
       "      <td>183.80</td>\n",
       "      <td>14.287500</td>\n",
       "      <td>45.950000</td>\n",
       "      <td>39</td>\n",
       "      <td>161</td>\n",
       "      <td>2</td>\n",
       "      <td>...</td>\n",
       "      <td>3.9</td>\n",
       "      <td>14.656757</td>\n",
       "      <td>199.509804</td>\n",
       "      <td>4.4</td>\n",
       "      <td>19.412885</td>\n",
       "      <td>45.95</td>\n",
       "      <td>4.0</td>\n",
       "      <td>14.287500</td>\n",
       "      <td>45.950000</td>\n",
       "      <td>183.800000</td>\n",
       "    </tr>\n",
       "    <tr>\n",
       "      <th>4</th>\n",
       "      <td>bed1</td>\n",
       "      <td>bed_bath_table</td>\n",
       "      <td>01-09-2017</td>\n",
       "      <td>2</td>\n",
       "      <td>91.90</td>\n",
       "      <td>15.100000</td>\n",
       "      <td>45.950000</td>\n",
       "      <td>39</td>\n",
       "      <td>161</td>\n",
       "      <td>2</td>\n",
       "      <td>...</td>\n",
       "      <td>3.9</td>\n",
       "      <td>18.776522</td>\n",
       "      <td>163.398710</td>\n",
       "      <td>4.4</td>\n",
       "      <td>24.324687</td>\n",
       "      <td>45.95</td>\n",
       "      <td>4.0</td>\n",
       "      <td>15.100000</td>\n",
       "      <td>45.950000</td>\n",
       "      <td>91.900000</td>\n",
       "    </tr>\n",
       "    <tr>\n",
       "      <th>...</th>\n",
       "      <td>...</td>\n",
       "      <td>...</td>\n",
       "      <td>...</td>\n",
       "      <td>...</td>\n",
       "      <td>...</td>\n",
       "      <td>...</td>\n",
       "      <td>...</td>\n",
       "      <td>...</td>\n",
       "      <td>...</td>\n",
       "      <td>...</td>\n",
       "      <td>...</td>\n",
       "      <td>...</td>\n",
       "      <td>...</td>\n",
       "      <td>...</td>\n",
       "      <td>...</td>\n",
       "      <td>...</td>\n",
       "      <td>...</td>\n",
       "      <td>...</td>\n",
       "      <td>...</td>\n",
       "      <td>...</td>\n",
       "      <td>...</td>\n",
       "    </tr>\n",
       "    <tr>\n",
       "      <th>671</th>\n",
       "      <td>bed5</td>\n",
       "      <td>bed_bath_table</td>\n",
       "      <td>01-05-2017</td>\n",
       "      <td>1</td>\n",
       "      <td>215.00</td>\n",
       "      <td>8.760000</td>\n",
       "      <td>215.000000</td>\n",
       "      <td>56</td>\n",
       "      <td>162</td>\n",
       "      <td>5</td>\n",
       "      <td>...</td>\n",
       "      <td>3.9</td>\n",
       "      <td>15.011897</td>\n",
       "      <td>215.000000</td>\n",
       "      <td>4.4</td>\n",
       "      <td>8.760000</td>\n",
       "      <td>45.95</td>\n",
       "      <td>4.0</td>\n",
       "      <td>15.100000</td>\n",
       "      <td>214.950000</td>\n",
       "      <td>215.000000</td>\n",
       "    </tr>\n",
       "    <tr>\n",
       "      <th>672</th>\n",
       "      <td>bed5</td>\n",
       "      <td>bed_bath_table</td>\n",
       "      <td>01-06-2017</td>\n",
       "      <td>10</td>\n",
       "      <td>2090.00</td>\n",
       "      <td>21.322000</td>\n",
       "      <td>209.000000</td>\n",
       "      <td>56</td>\n",
       "      <td>162</td>\n",
       "      <td>5</td>\n",
       "      <td>...</td>\n",
       "      <td>3.9</td>\n",
       "      <td>14.769216</td>\n",
       "      <td>209.000000</td>\n",
       "      <td>4.4</td>\n",
       "      <td>21.322000</td>\n",
       "      <td>45.95</td>\n",
       "      <td>4.0</td>\n",
       "      <td>12.933333</td>\n",
       "      <td>215.000000</td>\n",
       "      <td>2090.000000</td>\n",
       "    </tr>\n",
       "    <tr>\n",
       "      <th>673</th>\n",
       "      <td>bed5</td>\n",
       "      <td>bed_bath_table</td>\n",
       "      <td>01-07-2017</td>\n",
       "      <td>59</td>\n",
       "      <td>12095.00</td>\n",
       "      <td>22.195932</td>\n",
       "      <td>205.000000</td>\n",
       "      <td>56</td>\n",
       "      <td>162</td>\n",
       "      <td>5</td>\n",
       "      <td>...</td>\n",
       "      <td>3.9</td>\n",
       "      <td>13.993833</td>\n",
       "      <td>205.000000</td>\n",
       "      <td>4.4</td>\n",
       "      <td>22.195932</td>\n",
       "      <td>45.95</td>\n",
       "      <td>4.0</td>\n",
       "      <td>14.840000</td>\n",
       "      <td>209.000000</td>\n",
       "      <td>12095.000000</td>\n",
       "    </tr>\n",
       "    <tr>\n",
       "      <th>674</th>\n",
       "      <td>bed5</td>\n",
       "      <td>bed_bath_table</td>\n",
       "      <td>01-08-2017</td>\n",
       "      <td>52</td>\n",
       "      <td>10375.00</td>\n",
       "      <td>19.412885</td>\n",
       "      <td>199.509804</td>\n",
       "      <td>56</td>\n",
       "      <td>162</td>\n",
       "      <td>5</td>\n",
       "      <td>...</td>\n",
       "      <td>3.9</td>\n",
       "      <td>14.656757</td>\n",
       "      <td>199.509804</td>\n",
       "      <td>4.4</td>\n",
       "      <td>19.412885</td>\n",
       "      <td>45.95</td>\n",
       "      <td>4.0</td>\n",
       "      <td>14.287500</td>\n",
       "      <td>205.000000</td>\n",
       "      <td>10374.509803</td>\n",
       "    </tr>\n",
       "    <tr>\n",
       "      <th>675</th>\n",
       "      <td>bed5</td>\n",
       "      <td>bed_bath_table</td>\n",
       "      <td>01-09-2017</td>\n",
       "      <td>32</td>\n",
       "      <td>5222.36</td>\n",
       "      <td>24.324687</td>\n",
       "      <td>163.398710</td>\n",
       "      <td>56</td>\n",
       "      <td>162</td>\n",
       "      <td>5</td>\n",
       "      <td>...</td>\n",
       "      <td>3.9</td>\n",
       "      <td>18.776522</td>\n",
       "      <td>163.398710</td>\n",
       "      <td>4.4</td>\n",
       "      <td>24.324687</td>\n",
       "      <td>45.95</td>\n",
       "      <td>4.0</td>\n",
       "      <td>15.100000</td>\n",
       "      <td>199.509804</td>\n",
       "      <td>5228.758710</td>\n",
       "    </tr>\n",
       "  </tbody>\n",
       "</table>\n",
       "<p>676 rows × 31 columns</p>\n",
       "</div>"
      ],
      "text/plain": [
       "    product_id product_category_name  month_year  qty  total_price  \\\n",
       "0         bed1        bed_bath_table  01-05-2017    1        45.95   \n",
       "1         bed1        bed_bath_table  01-06-2017    3       137.85   \n",
       "2         bed1        bed_bath_table  01-07-2017    6       275.70   \n",
       "3         bed1        bed_bath_table  01-08-2017    4       183.80   \n",
       "4         bed1        bed_bath_table  01-09-2017    2        91.90   \n",
       "..         ...                   ...         ...  ...          ...   \n",
       "671       bed5        bed_bath_table  01-05-2017    1       215.00   \n",
       "672       bed5        bed_bath_table  01-06-2017   10      2090.00   \n",
       "673       bed5        bed_bath_table  01-07-2017   59     12095.00   \n",
       "674       bed5        bed_bath_table  01-08-2017   52     10375.00   \n",
       "675       bed5        bed_bath_table  01-09-2017   32      5222.36   \n",
       "\n",
       "     freight_price  unit_price  product_name_lenght  \\\n",
       "0        15.100000   45.950000                   39   \n",
       "1        12.933333   45.950000                   39   \n",
       "2        14.840000   45.950000                   39   \n",
       "3        14.287500   45.950000                   39   \n",
       "4        15.100000   45.950000                   39   \n",
       "..             ...         ...                  ...   \n",
       "671       8.760000  215.000000                   56   \n",
       "672      21.322000  209.000000                   56   \n",
       "673      22.195932  205.000000                   56   \n",
       "674      19.412885  199.509804                   56   \n",
       "675      24.324687  163.398710                   56   \n",
       "\n",
       "     product_description_lenght  product_photos_qty  ...  ps1        fp1  \\\n",
       "0                           161                   2  ...  3.9  15.011897   \n",
       "1                           161                   2  ...  3.9  14.769216   \n",
       "2                           161                   2  ...  3.9  13.993833   \n",
       "3                           161                   2  ...  3.9  14.656757   \n",
       "4                           161                   2  ...  3.9  18.776522   \n",
       "..                          ...                 ...  ...  ...        ...   \n",
       "671                         162                   5  ...  3.9  15.011897   \n",
       "672                         162                   5  ...  3.9  14.769216   \n",
       "673                         162                   5  ...  3.9  13.993833   \n",
       "674                         162                   5  ...  3.9  14.656757   \n",
       "675                         162                   5  ...  3.9  18.776522   \n",
       "\n",
       "         comp_2  ps2        fp2  comp_3  ps3        fp3   lag_price  \\\n",
       "0    215.000000  4.4   8.760000   45.95  4.0  15.100000   45.900000   \n",
       "1    209.000000  4.4  21.322000   45.95  4.0  12.933333   45.950000   \n",
       "2    205.000000  4.4  22.195932   45.95  4.0  14.840000   45.950000   \n",
       "3    199.509804  4.4  19.412885   45.95  4.0  14.287500   45.950000   \n",
       "4    163.398710  4.4  24.324687   45.95  4.0  15.100000   45.950000   \n",
       "..          ...  ...        ...     ...  ...        ...         ...   \n",
       "671  215.000000  4.4   8.760000   45.95  4.0  15.100000  214.950000   \n",
       "672  209.000000  4.4  21.322000   45.95  4.0  12.933333  215.000000   \n",
       "673  205.000000  4.4  22.195932   45.95  4.0  14.840000  209.000000   \n",
       "674  199.509804  4.4  19.412885   45.95  4.0  14.287500  205.000000   \n",
       "675  163.398710  4.4  24.324687   45.95  4.0  15.100000  199.509804   \n",
       "\n",
       "            sales  \n",
       "0       45.950000  \n",
       "1      137.850000  \n",
       "2      275.700000  \n",
       "3      183.800000  \n",
       "4       91.900000  \n",
       "..            ...  \n",
       "671    215.000000  \n",
       "672   2090.000000  \n",
       "673  12095.000000  \n",
       "674  10374.509803  \n",
       "675   5228.758710  \n",
       "\n",
       "[676 rows x 31 columns]"
      ]
     },
     "execution_count": 48,
     "metadata": {},
     "output_type": "execute_result"
    }
   ],
   "source": [
    "df"
   ]
  },
  {
   "cell_type": "code",
   "execution_count": null,
   "metadata": {},
   "outputs": [
    {
     "name": "stdout",
     "output_type": "stream",
     "text": [
      "|   iter    |  target   |   price   |\n",
      "-------------------------------------\n",
      "| \u001b[39m1        \u001b[39m | \u001b[39m6.61e+03 \u001b[39m | \u001b[39m42.04    \u001b[39m |\n",
      "| \u001b[35m2        \u001b[39m | \u001b[35m6.653e+03\u001b[39m | \u001b[35m44.07    \u001b[39m |\n",
      "| \u001b[39m3        \u001b[39m | \u001b[39m6.525e+03\u001b[39m | \u001b[39m39.24    \u001b[39m |\n",
      "| \u001b[39m4        \u001b[39m | \u001b[39m6.589e+03\u001b[39m | \u001b[39m41.27    \u001b[39m |\n",
      "| \u001b[39m5        \u001b[39m | \u001b[39m6.558e+03\u001b[39m | \u001b[39m40.22    \u001b[39m |\n",
      "| \u001b[35m6        \u001b[39m | \u001b[35m6.681e+03\u001b[39m | \u001b[35m45.95    \u001b[39m |\n",
      "| \u001b[35m7        \u001b[39m | \u001b[35m6.681e+03\u001b[39m | \u001b[35m45.95    \u001b[39m |\n",
      "| \u001b[39m8        \u001b[39m | \u001b[39m6.681e+03\u001b[39m | \u001b[39m45.95    \u001b[39m |\n",
      "| \u001b[39m9        \u001b[39m | \u001b[39m6.681e+03\u001b[39m | \u001b[39m45.95    \u001b[39m |\n",
      "| \u001b[39m10       \u001b[39m | \u001b[39m6.681e+03\u001b[39m | \u001b[39m45.95    \u001b[39m |\n",
      "=====================================\n",
      "Best price for Product bed1: $45.95\n",
      "  product_id  best_price\n",
      "0       bed1       45.95\n"
     ]
    }
   ],
   "source": [
    "import pandas as pd\n",
    "import numpy as np\n",
    "from bayes_opt import BayesianOptimization\n",
    "\n",
    "# Dictionary to store best prices for each product type\n",
    "best_prices = {}\n",
    "\n",
    "# Iterate through each product type\n",
    "for product in df[\"product_id\"].unique():\n",
    "    df_product = df[df[\"product_id\"] == product]\n",
    "\n",
    "    # Estimate base demand and price elasticity (you can refine these)\n",
    "    base_demand = df_product[\"sales\"].mean()  # Average sales as base demand\n",
    "    price_elasticity = 0.2  # Assumed elasticity (can be estimated from data)\n",
    "\n",
    "    # Define the pricing function for Bayesian Optimization\n",
    "    def pricing_function(price):\n",
    "        demand = simulated_demand(price, base_demand, price_elasticity)\n",
    "        return price * demand  # Revenue = Price * Demand\n",
    "\n",
    "    # Define the bounds for price optimization (adjust as needed)\n",
    "    pbounds = {'price': (df_product[\"unit_price\"].min(), df_product[\"unit_price\"].max())}\n",
    "\n",
    "    # Run Bayesian Optimization\n",
    "    optimizer = BayesianOptimization(\n",
    "        f=pricing_function,\n",
    "        pbounds=pbounds,\n",
    "        random_state=1,\n",
    "    )\n",
    "    \n",
    "    optimizer.maximize(init_points=5, n_iter=5)\n",
    "\n",
    "    # Store the best price for this product type\n",
    "    best_price = optimizer.max[\"params\"][\"price\"]\n",
    "    best_prices[product] = best_price\n",
    "\n",
    "    print(f\"Best price for Product {product}: ${best_price:.2f}\")\n",
    "    break\n",
    "# Convert results to a DataFrame\n",
    "best_price_df = pd.DataFrame(list(best_prices.items()), columns=[\"product_id\", \"best_price\"])\n",
    "print(best_price_df)\n"
   ]
  },
  {
   "cell_type": "code",
   "execution_count": 53,
   "metadata": {},
   "outputs": [],
   "source": [
    "import gym\n",
    "from gym import spaces\n",
    "from stable_baselines3 import DDPG\n",
    "from stable_baselines3.common.noise import NormalActionNoise\n",
    "\n",
    "class DynamicPricingEnv(gym.Env):\n",
    "    def __init__(self, df):\n",
    "        super(DynamicPricingEnv, self).__init__()\n",
    "        self.df = df\n",
    "        self.current_step = 0\n",
    "        self.action_space = spaces.Box(low=df['unit_price'].min(), high=df['unit_price'].max(), shape=(1,), dtype=np.float32)\n",
    "        self.observation_space = spaces.Box(low=0, high=np.inf, shape=(2,), dtype=np.float32)\n",
    "    \n",
    "    def reset(self):\n",
    "        self.current_step = 0\n",
    "        initial_price = self.df.iloc[self.current_step]['unit_price']\n",
    "        initial_demand = self.df.iloc[self.current_step]['qty']\n",
    "        return np.array([initial_price, initial_demand], dtype=np.float32)\n",
    "    \n",
    "    def step(self, action):\n",
    "        # Simulate demand response to price\n",
    "        price = action[0]\n",
    "        base_demand = self.df.iloc[self.current_step][\"sales\"]\n",
    "        price_elasticity = 0.2  # Assumed elasticity\n",
    "\n",
    "        demand = base_demand * (1 - price_elasticity * (price / self.df[\"unit_price\"].mean()))\n",
    "\n",
    "        # Reward: Revenue = Price * Demand\n",
    "        reward = price * demand\n",
    "\n",
    "        self.current_step += 1\n",
    "        done = self.current_step >= len(self.df) - 1\n",
    "\n",
    "        next_obs = np.array([price, demand], dtype=np.float32)\n",
    "        return next_obs, reward, done, {}\n",
    "\n",
    "    def render(self, mode=\"human\"):\n",
    "        pass"
   ]
  },
  {
   "cell_type": "code",
   "execution_count": 57,
   "metadata": {},
   "outputs": [
    {
     "name": "stdout",
     "output_type": "stream",
     "text": [
      "Using cpu device\n",
      "Wrapping the env with a `Monitor` wrapper\n",
      "Wrapping the env in a DummyVecEnv.\n"
     ]
    },
    {
     "name": "stderr",
     "output_type": "stream",
     "text": [
      "/home/puskchan/ML_projects/venv/lib/python3.12/site-packages/stable_baselines3/common/vec_env/patch_gym.py:49: UserWarning:\n",
      "\n",
      "You provided an OpenAI Gym environment. We strongly recommend transitioning to Gymnasium environments. Stable-Baselines3 is automatically wrapping your environments in a compatibility layer, which could potentially cause issues.\n",
      "\n"
     ]
    },
    {
     "name": "stdout",
     "output_type": "stream",
     "text": [
      "----------------------------------\n",
      "| rollout/           |           |\n",
      "|    ep_len_mean     | 675       |\n",
      "|    ep_rew_mean     | 1.12e+08  |\n",
      "| time/              |           |\n",
      "|    episodes        | 4         |\n",
      "|    fps             | 117       |\n",
      "|    time_elapsed    | 23        |\n",
      "|    total_timesteps | 2700      |\n",
      "| train/             |           |\n",
      "|    actor_loss      | -1.76e+06 |\n",
      "|    critic_loss     | 2.11e+11  |\n",
      "|    learning_rate   | 0.001     |\n",
      "|    n_updates       | 2599      |\n",
      "----------------------------------\n",
      "----------------------------------\n",
      "| rollout/           |           |\n",
      "|    ep_len_mean     | 675       |\n",
      "|    ep_rew_mean     | 1.12e+08  |\n",
      "| time/              |           |\n",
      "|    episodes        | 8         |\n",
      "|    fps             | 115       |\n",
      "|    time_elapsed    | 46        |\n",
      "|    total_timesteps | 5400      |\n",
      "| train/             |           |\n",
      "|    actor_loss      | -3.53e+06 |\n",
      "|    critic_loss     | 1.88e+11  |\n",
      "|    learning_rate   | 0.001     |\n",
      "|    n_updates       | 5299      |\n",
      "----------------------------------\n",
      "----------------------------------\n",
      "| rollout/           |           |\n",
      "|    ep_len_mean     | 675       |\n",
      "|    ep_rew_mean     | 1.12e+08  |\n",
      "| time/              |           |\n",
      "|    episodes        | 12        |\n",
      "|    fps             | 109       |\n",
      "|    time_elapsed    | 73        |\n",
      "|    total_timesteps | 8100      |\n",
      "| train/             |           |\n",
      "|    actor_loss      | -5.06e+06 |\n",
      "|    critic_loss     | 2.68e+11  |\n",
      "|    learning_rate   | 0.001     |\n",
      "|    n_updates       | 7999      |\n",
      "----------------------------------\n"
     ]
    },
    {
     "data": {
      "text/plain": [
       "<stable_baselines3.ddpg.ddpg.DDPG at 0x7613fcc8f650>"
      ]
     },
     "execution_count": 57,
     "metadata": {},
     "output_type": "execute_result"
    }
   ],
   "source": [
    "# Load data\n",
    "df = pd.read_csv(\"retail_price.csv\")  # Ensure this contains sales & unit_price\n",
    "\n",
    "df['sales'] = df['qty'] * df['unit_price']\n",
    "\n",
    "# Create the environment\n",
    "env = DynamicPricingEnv(df)\n",
    "\n",
    "# Define noise for exploration\n",
    "n_actions = env.action_space.shape[-1]\n",
    "action_noise = NormalActionNoise(mean=np.zeros(n_actions), sigma=0.1 * np.ones(n_actions))\n",
    "\n",
    "# Train the RL model\n",
    "model = DDPG(\"MlpPolicy\", env, action_noise=action_noise, verbose=1)\n",
    "model.learn(total_timesteps=10000)"
   ]
  },
  {
   "cell_type": "code",
   "execution_count": 58,
   "metadata": {},
   "outputs": [
    {
     "name": "stdout",
     "output_type": "stream",
     "text": [
      "Price: 364.00, Revenue: 5292.23\n",
      "Price: 364.00, Revenue: 15876.70\n",
      "Price: 364.00, Revenue: 31753.40\n",
      "Price: 364.00, Revenue: 21168.93\n",
      "Price: 364.00, Revenue: 10584.47\n",
      "Price: 364.00, Revenue: 15876.70\n",
      "Price: 364.00, Revenue: 51350.21\n",
      "Price: 364.00, Revenue: 27634.79\n",
      "Price: 364.00, Revenue: 87510.16\n",
      "Price: 364.00, Revenue: 82904.36\n",
      "Price: 364.00, Revenue: 78298.57\n",
      "Price: 364.00, Revenue: 59875.37\n",
      "Price: 364.00, Revenue: 87510.16\n",
      "Price: 364.00, Revenue: 23028.99\n",
      "Price: 364.00, Revenue: 36846.38\n",
      "Price: 364.00, Revenue: 36155.34\n",
      "Price: 364.00, Revenue: 48303.87\n",
      "Price: 364.00, Revenue: 28551.57\n",
      "Price: 364.00, Revenue: 224792.05\n",
      "Price: 364.00, Revenue: 82003.71\n",
      "Price: 364.00, Revenue: 102504.63\n",
      "Price: 364.00, Revenue: 78471.71\n",
      "Price: 364.00, Revenue: 102619.81\n",
      "Price: 364.00, Revenue: 159630.81\n",
      "Price: 364.00, Revenue: 193837.41\n",
      "Price: 364.00, Revenue: 125424.21\n",
      "Price: 364.00, Revenue: 45839.15\n",
      "Price: 364.00, Revenue: 23265.10\n",
      "Price: 364.00, Revenue: 11632.55\n",
      "Price: 364.00, Revenue: 11632.55\n",
      "Price: 364.00, Revenue: 29795.45\n",
      "Price: 364.00, Revenue: 55006.98\n",
      "Price: 364.00, Revenue: 20627.62\n",
      "Price: 364.00, Revenue: 69472.80\n",
      "Price: 364.00, Revenue: 79009.19\n",
      "Price: 364.00, Revenue: 45148.11\n",
      "Price: 364.00, Revenue: 18715.73\n",
      "Price: 364.00, Revenue: 22458.88\n",
      "Price: 364.00, Revenue: 28263.64\n",
      "Price: 364.00, Revenue: 12507.87\n",
      "Price: 364.00, Revenue: 8338.58\n",
      "Price: 364.00, Revenue: 4169.29\n",
      "Price: 364.00, Revenue: 6898.91\n",
      "Price: 364.00, Revenue: 6898.91\n",
      "Price: 364.00, Revenue: 27595.63\n",
      "Price: 364.00, Revenue: 41393.44\n",
      "Price: 364.00, Revenue: 34494.54\n",
      "Price: 364.00, Revenue: 75887.98\n",
      "Price: 364.00, Revenue: 118219.45\n",
      "Price: 364.00, Revenue: 65623.44\n"
     ]
    }
   ],
   "source": [
    "obs = env.reset()\n",
    "for _ in range(50):  # Run for 50 time steps\n",
    "    action, _ = model.predict(obs)\n",
    "    obs, reward, done, _ = env.step(action)\n",
    "    print(f\"Price: {action[0]:.2f}, Revenue: {reward:.2f}\")\n",
    "    if done:\n",
    "        break\n"
   ]
  },
  {
   "cell_type": "code",
   "execution_count": null,
   "metadata": {},
   "outputs": [],
   "source": []
  }
 ],
 "metadata": {
  "kernelspec": {
   "display_name": "venv",
   "language": "python",
   "name": "python3"
  },
  "language_info": {
   "codemirror_mode": {
    "name": "ipython",
    "version": 3
   },
   "file_extension": ".py",
   "mimetype": "text/x-python",
   "name": "python",
   "nbconvert_exporter": "python",
   "pygments_lexer": "ipython3",
   "version": "3.12.3"
  }
 },
 "nbformat": 4,
 "nbformat_minor": 2
}
